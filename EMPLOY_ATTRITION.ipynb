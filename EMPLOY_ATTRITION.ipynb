{
  "cells": [
    {
      "cell_type": "markdown",
      "metadata": {
        "id": "view-in-github",
        "colab_type": "text"
      },
      "source": [
        "<a href=\"https://colab.research.google.com/github/HridikaKP/sep9amds/blob/master/EMPLOY_ATTRITION.ipynb\" target=\"_parent\"><img src=\"https://colab.research.google.com/assets/colab-badge.svg\" alt=\"Open In Colab\"/></a>"
      ]
    },
    {
      "cell_type": "markdown",
      "source": [
        "Predicting employee attrition helps companies identify employees at risk of leaving and take proactive measures to improve retention."
      ],
      "metadata": {
        "id": "e_kgRKmDIfza"
      }
    },
    {
      "cell_type": "markdown",
      "source": [
        "# **CLEANING AND PROCESSING**"
      ],
      "metadata": {
        "id": "0IdVluy8E0tB"
      }
    },
    {
      "cell_type": "code",
      "execution_count": null,
      "metadata": {
        "id": "nc4CF96qwvQD"
      },
      "outputs": [],
      "source": [
        "import pandas as pd\n",
        "import numpy as np\n",
        "import matplotlib.pyplot as plt\n",
        "import seaborn as sns\n",
        "from sklearn.preprocessing import LabelEncoder"
      ]
    },
    {
      "cell_type": "code",
      "source": [
        "from google.colab import drive\n",
        "drive.mount('/content/drive')"
      ],
      "metadata": {
        "colab": {
          "base_uri": "https://localhost:8080/"
        },
        "id": "0I4MqURal7HC",
        "outputId": "7d7b4098-9747-4ac7-eefd-723693e7ef8f"
      },
      "execution_count": null,
      "outputs": [
        {
          "output_type": "stream",
          "name": "stdout",
          "text": [
            "Mounted at /content/drive\n"
          ]
        }
      ]
    },
    {
      "cell_type": "code",
      "execution_count": null,
      "metadata": {
        "id": "34lnxxacw2Iq"
      },
      "outputs": [],
      "source": [
        "df=pd.read_csv('/content/drive/MyDrive/Data Science/mini project/Emp_attrition_csv.csv')"
      ]
    },
    {
      "cell_type": "code",
      "execution_count": null,
      "metadata": {
        "colab": {
          "base_uri": "https://localhost:8080/",
          "height": 307
        },
        "id": "z7tdaF1oxKL2",
        "outputId": "fa875173-8dbb-4114-a63a-e6fb18546a4a"
      },
      "outputs": [
        {
          "output_type": "execute_result",
          "data": {
            "text/plain": [
              "   Employee ID  Age  Gender  Years at Company    Job Role  Monthly Income  \\\n",
              "0         8410   31    Male                19   Education            5390   \n",
              "1        64756   59  Female                 4       Media            5534   \n",
              "2        30257   24  Female                10  Healthcare            8159   \n",
              "3        65791   36  Female                 7   Education            3989   \n",
              "4        65026   56    Male                41   Education            4821   \n",
              "\n",
              "  Work-Life Balance Job Satisfaction Performance Rating  Number of Promotions  \\\n",
              "0         Excellent           Medium            Average                     2   \n",
              "1              Poor             High                Low                     3   \n",
              "2              Good             High                Low                     0   \n",
              "3              Good             High               High                     1   \n",
              "4              Fair        Very High            Average                     0   \n",
              "\n",
              "   ... Number of Dependents  Job Level Company Size  \\\n",
              "0  ...                    0        Mid       Medium   \n",
              "1  ...                    3        Mid       Medium   \n",
              "2  ...                    3        Mid       Medium   \n",
              "3  ...                    2        Mid        Small   \n",
              "4  ...                    0     Senior       Medium   \n",
              "\n",
              "  Company Tenure (In Months)  Remote Work Leadership Opportunities  \\\n",
              "0                       89.0           No                       No   \n",
              "1                       21.0           No                       No   \n",
              "2                       74.0           No                       No   \n",
              "3                       50.0          Yes                       No   \n",
              "4                       68.0           No                       No   \n",
              "\n",
              "  Innovation Opportunities  Company Reputation Employee Recognition Attrition  \n",
              "0                       No           Excellent               Medium    Stayed  \n",
              "1                       No                Fair                  Low    Stayed  \n",
              "2                       No                Poor                  Low    Stayed  \n",
              "3                       No                Good               Medium    Stayed  \n",
              "4                       No                Fair               Medium    Stayed  \n",
              "\n",
              "[5 rows x 24 columns]"
            ],
            "text/html": [
              "\n",
              "  <div id=\"df-858b19d8-edec-4776-812d-296727dbc488\" class=\"colab-df-container\">\n",
              "    <div>\n",
              "<style scoped>\n",
              "    .dataframe tbody tr th:only-of-type {\n",
              "        vertical-align: middle;\n",
              "    }\n",
              "\n",
              "    .dataframe tbody tr th {\n",
              "        vertical-align: top;\n",
              "    }\n",
              "\n",
              "    .dataframe thead th {\n",
              "        text-align: right;\n",
              "    }\n",
              "</style>\n",
              "<table border=\"1\" class=\"dataframe\">\n",
              "  <thead>\n",
              "    <tr style=\"text-align: right;\">\n",
              "      <th></th>\n",
              "      <th>Employee ID</th>\n",
              "      <th>Age</th>\n",
              "      <th>Gender</th>\n",
              "      <th>Years at Company</th>\n",
              "      <th>Job Role</th>\n",
              "      <th>Monthly Income</th>\n",
              "      <th>Work-Life Balance</th>\n",
              "      <th>Job Satisfaction</th>\n",
              "      <th>Performance Rating</th>\n",
              "      <th>Number of Promotions</th>\n",
              "      <th>...</th>\n",
              "      <th>Number of Dependents</th>\n",
              "      <th>Job Level</th>\n",
              "      <th>Company Size</th>\n",
              "      <th>Company Tenure (In Months)</th>\n",
              "      <th>Remote Work</th>\n",
              "      <th>Leadership Opportunities</th>\n",
              "      <th>Innovation Opportunities</th>\n",
              "      <th>Company Reputation</th>\n",
              "      <th>Employee Recognition</th>\n",
              "      <th>Attrition</th>\n",
              "    </tr>\n",
              "  </thead>\n",
              "  <tbody>\n",
              "    <tr>\n",
              "      <th>0</th>\n",
              "      <td>8410</td>\n",
              "      <td>31</td>\n",
              "      <td>Male</td>\n",
              "      <td>19</td>\n",
              "      <td>Education</td>\n",
              "      <td>5390</td>\n",
              "      <td>Excellent</td>\n",
              "      <td>Medium</td>\n",
              "      <td>Average</td>\n",
              "      <td>2</td>\n",
              "      <td>...</td>\n",
              "      <td>0</td>\n",
              "      <td>Mid</td>\n",
              "      <td>Medium</td>\n",
              "      <td>89.0</td>\n",
              "      <td>No</td>\n",
              "      <td>No</td>\n",
              "      <td>No</td>\n",
              "      <td>Excellent</td>\n",
              "      <td>Medium</td>\n",
              "      <td>Stayed</td>\n",
              "    </tr>\n",
              "    <tr>\n",
              "      <th>1</th>\n",
              "      <td>64756</td>\n",
              "      <td>59</td>\n",
              "      <td>Female</td>\n",
              "      <td>4</td>\n",
              "      <td>Media</td>\n",
              "      <td>5534</td>\n",
              "      <td>Poor</td>\n",
              "      <td>High</td>\n",
              "      <td>Low</td>\n",
              "      <td>3</td>\n",
              "      <td>...</td>\n",
              "      <td>3</td>\n",
              "      <td>Mid</td>\n",
              "      <td>Medium</td>\n",
              "      <td>21.0</td>\n",
              "      <td>No</td>\n",
              "      <td>No</td>\n",
              "      <td>No</td>\n",
              "      <td>Fair</td>\n",
              "      <td>Low</td>\n",
              "      <td>Stayed</td>\n",
              "    </tr>\n",
              "    <tr>\n",
              "      <th>2</th>\n",
              "      <td>30257</td>\n",
              "      <td>24</td>\n",
              "      <td>Female</td>\n",
              "      <td>10</td>\n",
              "      <td>Healthcare</td>\n",
              "      <td>8159</td>\n",
              "      <td>Good</td>\n",
              "      <td>High</td>\n",
              "      <td>Low</td>\n",
              "      <td>0</td>\n",
              "      <td>...</td>\n",
              "      <td>3</td>\n",
              "      <td>Mid</td>\n",
              "      <td>Medium</td>\n",
              "      <td>74.0</td>\n",
              "      <td>No</td>\n",
              "      <td>No</td>\n",
              "      <td>No</td>\n",
              "      <td>Poor</td>\n",
              "      <td>Low</td>\n",
              "      <td>Stayed</td>\n",
              "    </tr>\n",
              "    <tr>\n",
              "      <th>3</th>\n",
              "      <td>65791</td>\n",
              "      <td>36</td>\n",
              "      <td>Female</td>\n",
              "      <td>7</td>\n",
              "      <td>Education</td>\n",
              "      <td>3989</td>\n",
              "      <td>Good</td>\n",
              "      <td>High</td>\n",
              "      <td>High</td>\n",
              "      <td>1</td>\n",
              "      <td>...</td>\n",
              "      <td>2</td>\n",
              "      <td>Mid</td>\n",
              "      <td>Small</td>\n",
              "      <td>50.0</td>\n",
              "      <td>Yes</td>\n",
              "      <td>No</td>\n",
              "      <td>No</td>\n",
              "      <td>Good</td>\n",
              "      <td>Medium</td>\n",
              "      <td>Stayed</td>\n",
              "    </tr>\n",
              "    <tr>\n",
              "      <th>4</th>\n",
              "      <td>65026</td>\n",
              "      <td>56</td>\n",
              "      <td>Male</td>\n",
              "      <td>41</td>\n",
              "      <td>Education</td>\n",
              "      <td>4821</td>\n",
              "      <td>Fair</td>\n",
              "      <td>Very High</td>\n",
              "      <td>Average</td>\n",
              "      <td>0</td>\n",
              "      <td>...</td>\n",
              "      <td>0</td>\n",
              "      <td>Senior</td>\n",
              "      <td>Medium</td>\n",
              "      <td>68.0</td>\n",
              "      <td>No</td>\n",
              "      <td>No</td>\n",
              "      <td>No</td>\n",
              "      <td>Fair</td>\n",
              "      <td>Medium</td>\n",
              "      <td>Stayed</td>\n",
              "    </tr>\n",
              "  </tbody>\n",
              "</table>\n",
              "<p>5 rows × 24 columns</p>\n",
              "</div>\n",
              "    <div class=\"colab-df-buttons\">\n",
              "\n",
              "  <div class=\"colab-df-container\">\n",
              "    <button class=\"colab-df-convert\" onclick=\"convertToInteractive('df-858b19d8-edec-4776-812d-296727dbc488')\"\n",
              "            title=\"Convert this dataframe to an interactive table.\"\n",
              "            style=\"display:none;\">\n",
              "\n",
              "  <svg xmlns=\"http://www.w3.org/2000/svg\" height=\"24px\" viewBox=\"0 -960 960 960\">\n",
              "    <path d=\"M120-120v-720h720v720H120Zm60-500h600v-160H180v160Zm220 220h160v-160H400v160Zm0 220h160v-160H400v160ZM180-400h160v-160H180v160Zm440 0h160v-160H620v160ZM180-180h160v-160H180v160Zm440 0h160v-160H620v160Z\"/>\n",
              "  </svg>\n",
              "    </button>\n",
              "\n",
              "  <style>\n",
              "    .colab-df-container {\n",
              "      display:flex;\n",
              "      gap: 12px;\n",
              "    }\n",
              "\n",
              "    .colab-df-convert {\n",
              "      background-color: #E8F0FE;\n",
              "      border: none;\n",
              "      border-radius: 50%;\n",
              "      cursor: pointer;\n",
              "      display: none;\n",
              "      fill: #1967D2;\n",
              "      height: 32px;\n",
              "      padding: 0 0 0 0;\n",
              "      width: 32px;\n",
              "    }\n",
              "\n",
              "    .colab-df-convert:hover {\n",
              "      background-color: #E2EBFA;\n",
              "      box-shadow: 0px 1px 2px rgba(60, 64, 67, 0.3), 0px 1px 3px 1px rgba(60, 64, 67, 0.15);\n",
              "      fill: #174EA6;\n",
              "    }\n",
              "\n",
              "    .colab-df-buttons div {\n",
              "      margin-bottom: 4px;\n",
              "    }\n",
              "\n",
              "    [theme=dark] .colab-df-convert {\n",
              "      background-color: #3B4455;\n",
              "      fill: #D2E3FC;\n",
              "    }\n",
              "\n",
              "    [theme=dark] .colab-df-convert:hover {\n",
              "      background-color: #434B5C;\n",
              "      box-shadow: 0px 1px 3px 1px rgba(0, 0, 0, 0.15);\n",
              "      filter: drop-shadow(0px 1px 2px rgba(0, 0, 0, 0.3));\n",
              "      fill: #FFFFFF;\n",
              "    }\n",
              "  </style>\n",
              "\n",
              "    <script>\n",
              "      const buttonEl =\n",
              "        document.querySelector('#df-858b19d8-edec-4776-812d-296727dbc488 button.colab-df-convert');\n",
              "      buttonEl.style.display =\n",
              "        google.colab.kernel.accessAllowed ? 'block' : 'none';\n",
              "\n",
              "      async function convertToInteractive(key) {\n",
              "        const element = document.querySelector('#df-858b19d8-edec-4776-812d-296727dbc488');\n",
              "        const dataTable =\n",
              "          await google.colab.kernel.invokeFunction('convertToInteractive',\n",
              "                                                    [key], {});\n",
              "        if (!dataTable) return;\n",
              "\n",
              "        const docLinkHtml = 'Like what you see? Visit the ' +\n",
              "          '<a target=\"_blank\" href=https://colab.research.google.com/notebooks/data_table.ipynb>data table notebook</a>'\n",
              "          + ' to learn more about interactive tables.';\n",
              "        element.innerHTML = '';\n",
              "        dataTable['output_type'] = 'display_data';\n",
              "        await google.colab.output.renderOutput(dataTable, element);\n",
              "        const docLink = document.createElement('div');\n",
              "        docLink.innerHTML = docLinkHtml;\n",
              "        element.appendChild(docLink);\n",
              "      }\n",
              "    </script>\n",
              "  </div>\n",
              "\n",
              "\n",
              "<div id=\"df-85e11826-8318-4035-a6fc-a90bbd60720a\">\n",
              "  <button class=\"colab-df-quickchart\" onclick=\"quickchart('df-85e11826-8318-4035-a6fc-a90bbd60720a')\"\n",
              "            title=\"Suggest charts\"\n",
              "            style=\"display:none;\">\n",
              "\n",
              "<svg xmlns=\"http://www.w3.org/2000/svg\" height=\"24px\"viewBox=\"0 0 24 24\"\n",
              "     width=\"24px\">\n",
              "    <g>\n",
              "        <path d=\"M19 3H5c-1.1 0-2 .9-2 2v14c0 1.1.9 2 2 2h14c1.1 0 2-.9 2-2V5c0-1.1-.9-2-2-2zM9 17H7v-7h2v7zm4 0h-2V7h2v10zm4 0h-2v-4h2v4z\"/>\n",
              "    </g>\n",
              "</svg>\n",
              "  </button>\n",
              "\n",
              "<style>\n",
              "  .colab-df-quickchart {\n",
              "      --bg-color: #E8F0FE;\n",
              "      --fill-color: #1967D2;\n",
              "      --hover-bg-color: #E2EBFA;\n",
              "      --hover-fill-color: #174EA6;\n",
              "      --disabled-fill-color: #AAA;\n",
              "      --disabled-bg-color: #DDD;\n",
              "  }\n",
              "\n",
              "  [theme=dark] .colab-df-quickchart {\n",
              "      --bg-color: #3B4455;\n",
              "      --fill-color: #D2E3FC;\n",
              "      --hover-bg-color: #434B5C;\n",
              "      --hover-fill-color: #FFFFFF;\n",
              "      --disabled-bg-color: #3B4455;\n",
              "      --disabled-fill-color: #666;\n",
              "  }\n",
              "\n",
              "  .colab-df-quickchart {\n",
              "    background-color: var(--bg-color);\n",
              "    border: none;\n",
              "    border-radius: 50%;\n",
              "    cursor: pointer;\n",
              "    display: none;\n",
              "    fill: var(--fill-color);\n",
              "    height: 32px;\n",
              "    padding: 0;\n",
              "    width: 32px;\n",
              "  }\n",
              "\n",
              "  .colab-df-quickchart:hover {\n",
              "    background-color: var(--hover-bg-color);\n",
              "    box-shadow: 0 1px 2px rgba(60, 64, 67, 0.3), 0 1px 3px 1px rgba(60, 64, 67, 0.15);\n",
              "    fill: var(--button-hover-fill-color);\n",
              "  }\n",
              "\n",
              "  .colab-df-quickchart-complete:disabled,\n",
              "  .colab-df-quickchart-complete:disabled:hover {\n",
              "    background-color: var(--disabled-bg-color);\n",
              "    fill: var(--disabled-fill-color);\n",
              "    box-shadow: none;\n",
              "  }\n",
              "\n",
              "  .colab-df-spinner {\n",
              "    border: 2px solid var(--fill-color);\n",
              "    border-color: transparent;\n",
              "    border-bottom-color: var(--fill-color);\n",
              "    animation:\n",
              "      spin 1s steps(1) infinite;\n",
              "  }\n",
              "\n",
              "  @keyframes spin {\n",
              "    0% {\n",
              "      border-color: transparent;\n",
              "      border-bottom-color: var(--fill-color);\n",
              "      border-left-color: var(--fill-color);\n",
              "    }\n",
              "    20% {\n",
              "      border-color: transparent;\n",
              "      border-left-color: var(--fill-color);\n",
              "      border-top-color: var(--fill-color);\n",
              "    }\n",
              "    30% {\n",
              "      border-color: transparent;\n",
              "      border-left-color: var(--fill-color);\n",
              "      border-top-color: var(--fill-color);\n",
              "      border-right-color: var(--fill-color);\n",
              "    }\n",
              "    40% {\n",
              "      border-color: transparent;\n",
              "      border-right-color: var(--fill-color);\n",
              "      border-top-color: var(--fill-color);\n",
              "    }\n",
              "    60% {\n",
              "      border-color: transparent;\n",
              "      border-right-color: var(--fill-color);\n",
              "    }\n",
              "    80% {\n",
              "      border-color: transparent;\n",
              "      border-right-color: var(--fill-color);\n",
              "      border-bottom-color: var(--fill-color);\n",
              "    }\n",
              "    90% {\n",
              "      border-color: transparent;\n",
              "      border-bottom-color: var(--fill-color);\n",
              "    }\n",
              "  }\n",
              "</style>\n",
              "\n",
              "  <script>\n",
              "    async function quickchart(key) {\n",
              "      const quickchartButtonEl =\n",
              "        document.querySelector('#' + key + ' button');\n",
              "      quickchartButtonEl.disabled = true;  // To prevent multiple clicks.\n",
              "      quickchartButtonEl.classList.add('colab-df-spinner');\n",
              "      try {\n",
              "        const charts = await google.colab.kernel.invokeFunction(\n",
              "            'suggestCharts', [key], {});\n",
              "      } catch (error) {\n",
              "        console.error('Error during call to suggestCharts:', error);\n",
              "      }\n",
              "      quickchartButtonEl.classList.remove('colab-df-spinner');\n",
              "      quickchartButtonEl.classList.add('colab-df-quickchart-complete');\n",
              "    }\n",
              "    (() => {\n",
              "      let quickchartButtonEl =\n",
              "        document.querySelector('#df-85e11826-8318-4035-a6fc-a90bbd60720a button');\n",
              "      quickchartButtonEl.style.display =\n",
              "        google.colab.kernel.accessAllowed ? 'block' : 'none';\n",
              "    })();\n",
              "  </script>\n",
              "</div>\n",
              "\n",
              "    </div>\n",
              "  </div>\n"
            ],
            "application/vnd.google.colaboratory.intrinsic+json": {
              "type": "dataframe",
              "variable_name": "df"
            }
          },
          "metadata": {},
          "execution_count": 4
        }
      ],
      "source": [
        "df.head()"
      ]
    },
    {
      "cell_type": "code",
      "execution_count": null,
      "metadata": {
        "colab": {
          "base_uri": "https://localhost:8080/",
          "height": 307
        },
        "id": "qNvcSzlYxMwb",
        "outputId": "9628c53c-7367-4009-ff20-d2a2c5463f3f"
      },
      "outputs": [
        {
          "output_type": "execute_result",
          "data": {
            "text/plain": [
              "       Employee ID  Age  Gender  Years at Company    Job Role  Monthly Income  \\\n",
              "74605        13450   44  Female                20  Healthcare            7578   \n",
              "74606         2386   45    Male                26  Technology            8342   \n",
              "74607        36968   28  Female                 3  Technology            9763   \n",
              "74608        24276   37    Male                 3   Education            3644   \n",
              "74609         9839   38    Male                28       Media            6172   \n",
              "\n",
              "      Work-Life Balance Job Satisfaction Performance Rating  \\\n",
              "74605              Fair           Medium                Low   \n",
              "74606         Excellent        Very High      Below Average   \n",
              "74607              Poor              Low            Average   \n",
              "74608              Fair             High            Average   \n",
              "74609              Good             High               High   \n",
              "\n",
              "       Number of Promotions  ... Number of Dependents  Job Level Company Size  \\\n",
              "74605                     2  ...                    3        Mid        Large   \n",
              "74606                     3  ...                    4        Mid       Medium   \n",
              "74607                     0  ...                    3     Senior        Small   \n",
              "74608                     2  ...                    4      Entry       Medium   \n",
              "74609                     0  ...                    2        Mid       Medium   \n",
              "\n",
              "      Company Tenure (In Months)  Remote Work Leadership Opportunities  \\\n",
              "74605                       52.0           No                       No   \n",
              "74606                        NaN          Yes                       No   \n",
              "74607                       67.0           No                       No   \n",
              "74608                       16.0           No                       No   \n",
              "74609                       84.0           No                       No   \n",
              "\n",
              "      Innovation Opportunities  Company Reputation Employee Recognition  \\\n",
              "74605                       No                Fair            Very High   \n",
              "74606                       No                Poor                 High   \n",
              "74607                       No                Poor               Medium   \n",
              "74608                       No           Excellent               Medium   \n",
              "74609                       No           Excellent                  Low   \n",
              "\n",
              "      Attrition  \n",
              "74605      Left  \n",
              "74606    Stayed  \n",
              "74607      Left  \n",
              "74608    Stayed  \n",
              "74609    Stayed  \n",
              "\n",
              "[5 rows x 24 columns]"
            ],
            "text/html": [
              "\n",
              "  <div id=\"df-5a5777ec-dfef-42f1-9841-662570cc16d3\" class=\"colab-df-container\">\n",
              "    <div>\n",
              "<style scoped>\n",
              "    .dataframe tbody tr th:only-of-type {\n",
              "        vertical-align: middle;\n",
              "    }\n",
              "\n",
              "    .dataframe tbody tr th {\n",
              "        vertical-align: top;\n",
              "    }\n",
              "\n",
              "    .dataframe thead th {\n",
              "        text-align: right;\n",
              "    }\n",
              "</style>\n",
              "<table border=\"1\" class=\"dataframe\">\n",
              "  <thead>\n",
              "    <tr style=\"text-align: right;\">\n",
              "      <th></th>\n",
              "      <th>Employee ID</th>\n",
              "      <th>Age</th>\n",
              "      <th>Gender</th>\n",
              "      <th>Years at Company</th>\n",
              "      <th>Job Role</th>\n",
              "      <th>Monthly Income</th>\n",
              "      <th>Work-Life Balance</th>\n",
              "      <th>Job Satisfaction</th>\n",
              "      <th>Performance Rating</th>\n",
              "      <th>Number of Promotions</th>\n",
              "      <th>...</th>\n",
              "      <th>Number of Dependents</th>\n",
              "      <th>Job Level</th>\n",
              "      <th>Company Size</th>\n",
              "      <th>Company Tenure (In Months)</th>\n",
              "      <th>Remote Work</th>\n",
              "      <th>Leadership Opportunities</th>\n",
              "      <th>Innovation Opportunities</th>\n",
              "      <th>Company Reputation</th>\n",
              "      <th>Employee Recognition</th>\n",
              "      <th>Attrition</th>\n",
              "    </tr>\n",
              "  </thead>\n",
              "  <tbody>\n",
              "    <tr>\n",
              "      <th>74605</th>\n",
              "      <td>13450</td>\n",
              "      <td>44</td>\n",
              "      <td>Female</td>\n",
              "      <td>20</td>\n",
              "      <td>Healthcare</td>\n",
              "      <td>7578</td>\n",
              "      <td>Fair</td>\n",
              "      <td>Medium</td>\n",
              "      <td>Low</td>\n",
              "      <td>2</td>\n",
              "      <td>...</td>\n",
              "      <td>3</td>\n",
              "      <td>Mid</td>\n",
              "      <td>Large</td>\n",
              "      <td>52.0</td>\n",
              "      <td>No</td>\n",
              "      <td>No</td>\n",
              "      <td>No</td>\n",
              "      <td>Fair</td>\n",
              "      <td>Very High</td>\n",
              "      <td>Left</td>\n",
              "    </tr>\n",
              "    <tr>\n",
              "      <th>74606</th>\n",
              "      <td>2386</td>\n",
              "      <td>45</td>\n",
              "      <td>Male</td>\n",
              "      <td>26</td>\n",
              "      <td>Technology</td>\n",
              "      <td>8342</td>\n",
              "      <td>Excellent</td>\n",
              "      <td>Very High</td>\n",
              "      <td>Below Average</td>\n",
              "      <td>3</td>\n",
              "      <td>...</td>\n",
              "      <td>4</td>\n",
              "      <td>Mid</td>\n",
              "      <td>Medium</td>\n",
              "      <td>NaN</td>\n",
              "      <td>Yes</td>\n",
              "      <td>No</td>\n",
              "      <td>No</td>\n",
              "      <td>Poor</td>\n",
              "      <td>High</td>\n",
              "      <td>Stayed</td>\n",
              "    </tr>\n",
              "    <tr>\n",
              "      <th>74607</th>\n",
              "      <td>36968</td>\n",
              "      <td>28</td>\n",
              "      <td>Female</td>\n",
              "      <td>3</td>\n",
              "      <td>Technology</td>\n",
              "      <td>9763</td>\n",
              "      <td>Poor</td>\n",
              "      <td>Low</td>\n",
              "      <td>Average</td>\n",
              "      <td>0</td>\n",
              "      <td>...</td>\n",
              "      <td>3</td>\n",
              "      <td>Senior</td>\n",
              "      <td>Small</td>\n",
              "      <td>67.0</td>\n",
              "      <td>No</td>\n",
              "      <td>No</td>\n",
              "      <td>No</td>\n",
              "      <td>Poor</td>\n",
              "      <td>Medium</td>\n",
              "      <td>Left</td>\n",
              "    </tr>\n",
              "    <tr>\n",
              "      <th>74608</th>\n",
              "      <td>24276</td>\n",
              "      <td>37</td>\n",
              "      <td>Male</td>\n",
              "      <td>3</td>\n",
              "      <td>Education</td>\n",
              "      <td>3644</td>\n",
              "      <td>Fair</td>\n",
              "      <td>High</td>\n",
              "      <td>Average</td>\n",
              "      <td>2</td>\n",
              "      <td>...</td>\n",
              "      <td>4</td>\n",
              "      <td>Entry</td>\n",
              "      <td>Medium</td>\n",
              "      <td>16.0</td>\n",
              "      <td>No</td>\n",
              "      <td>No</td>\n",
              "      <td>No</td>\n",
              "      <td>Excellent</td>\n",
              "      <td>Medium</td>\n",
              "      <td>Stayed</td>\n",
              "    </tr>\n",
              "    <tr>\n",
              "      <th>74609</th>\n",
              "      <td>9839</td>\n",
              "      <td>38</td>\n",
              "      <td>Male</td>\n",
              "      <td>28</td>\n",
              "      <td>Media</td>\n",
              "      <td>6172</td>\n",
              "      <td>Good</td>\n",
              "      <td>High</td>\n",
              "      <td>High</td>\n",
              "      <td>0</td>\n",
              "      <td>...</td>\n",
              "      <td>2</td>\n",
              "      <td>Mid</td>\n",
              "      <td>Medium</td>\n",
              "      <td>84.0</td>\n",
              "      <td>No</td>\n",
              "      <td>No</td>\n",
              "      <td>No</td>\n",
              "      <td>Excellent</td>\n",
              "      <td>Low</td>\n",
              "      <td>Stayed</td>\n",
              "    </tr>\n",
              "  </tbody>\n",
              "</table>\n",
              "<p>5 rows × 24 columns</p>\n",
              "</div>\n",
              "    <div class=\"colab-df-buttons\">\n",
              "\n",
              "  <div class=\"colab-df-container\">\n",
              "    <button class=\"colab-df-convert\" onclick=\"convertToInteractive('df-5a5777ec-dfef-42f1-9841-662570cc16d3')\"\n",
              "            title=\"Convert this dataframe to an interactive table.\"\n",
              "            style=\"display:none;\">\n",
              "\n",
              "  <svg xmlns=\"http://www.w3.org/2000/svg\" height=\"24px\" viewBox=\"0 -960 960 960\">\n",
              "    <path d=\"M120-120v-720h720v720H120Zm60-500h600v-160H180v160Zm220 220h160v-160H400v160Zm0 220h160v-160H400v160ZM180-400h160v-160H180v160Zm440 0h160v-160H620v160ZM180-180h160v-160H180v160Zm440 0h160v-160H620v160Z\"/>\n",
              "  </svg>\n",
              "    </button>\n",
              "\n",
              "  <style>\n",
              "    .colab-df-container {\n",
              "      display:flex;\n",
              "      gap: 12px;\n",
              "    }\n",
              "\n",
              "    .colab-df-convert {\n",
              "      background-color: #E8F0FE;\n",
              "      border: none;\n",
              "      border-radius: 50%;\n",
              "      cursor: pointer;\n",
              "      display: none;\n",
              "      fill: #1967D2;\n",
              "      height: 32px;\n",
              "      padding: 0 0 0 0;\n",
              "      width: 32px;\n",
              "    }\n",
              "\n",
              "    .colab-df-convert:hover {\n",
              "      background-color: #E2EBFA;\n",
              "      box-shadow: 0px 1px 2px rgba(60, 64, 67, 0.3), 0px 1px 3px 1px rgba(60, 64, 67, 0.15);\n",
              "      fill: #174EA6;\n",
              "    }\n",
              "\n",
              "    .colab-df-buttons div {\n",
              "      margin-bottom: 4px;\n",
              "    }\n",
              "\n",
              "    [theme=dark] .colab-df-convert {\n",
              "      background-color: #3B4455;\n",
              "      fill: #D2E3FC;\n",
              "    }\n",
              "\n",
              "    [theme=dark] .colab-df-convert:hover {\n",
              "      background-color: #434B5C;\n",
              "      box-shadow: 0px 1px 3px 1px rgba(0, 0, 0, 0.15);\n",
              "      filter: drop-shadow(0px 1px 2px rgba(0, 0, 0, 0.3));\n",
              "      fill: #FFFFFF;\n",
              "    }\n",
              "  </style>\n",
              "\n",
              "    <script>\n",
              "      const buttonEl =\n",
              "        document.querySelector('#df-5a5777ec-dfef-42f1-9841-662570cc16d3 button.colab-df-convert');\n",
              "      buttonEl.style.display =\n",
              "        google.colab.kernel.accessAllowed ? 'block' : 'none';\n",
              "\n",
              "      async function convertToInteractive(key) {\n",
              "        const element = document.querySelector('#df-5a5777ec-dfef-42f1-9841-662570cc16d3');\n",
              "        const dataTable =\n",
              "          await google.colab.kernel.invokeFunction('convertToInteractive',\n",
              "                                                    [key], {});\n",
              "        if (!dataTable) return;\n",
              "\n",
              "        const docLinkHtml = 'Like what you see? Visit the ' +\n",
              "          '<a target=\"_blank\" href=https://colab.research.google.com/notebooks/data_table.ipynb>data table notebook</a>'\n",
              "          + ' to learn more about interactive tables.';\n",
              "        element.innerHTML = '';\n",
              "        dataTable['output_type'] = 'display_data';\n",
              "        await google.colab.output.renderOutput(dataTable, element);\n",
              "        const docLink = document.createElement('div');\n",
              "        docLink.innerHTML = docLinkHtml;\n",
              "        element.appendChild(docLink);\n",
              "      }\n",
              "    </script>\n",
              "  </div>\n",
              "\n",
              "\n",
              "<div id=\"df-81b98b72-f308-4626-9c72-ee0865da2fdc\">\n",
              "  <button class=\"colab-df-quickchart\" onclick=\"quickchart('df-81b98b72-f308-4626-9c72-ee0865da2fdc')\"\n",
              "            title=\"Suggest charts\"\n",
              "            style=\"display:none;\">\n",
              "\n",
              "<svg xmlns=\"http://www.w3.org/2000/svg\" height=\"24px\"viewBox=\"0 0 24 24\"\n",
              "     width=\"24px\">\n",
              "    <g>\n",
              "        <path d=\"M19 3H5c-1.1 0-2 .9-2 2v14c0 1.1.9 2 2 2h14c1.1 0 2-.9 2-2V5c0-1.1-.9-2-2-2zM9 17H7v-7h2v7zm4 0h-2V7h2v10zm4 0h-2v-4h2v4z\"/>\n",
              "    </g>\n",
              "</svg>\n",
              "  </button>\n",
              "\n",
              "<style>\n",
              "  .colab-df-quickchart {\n",
              "      --bg-color: #E8F0FE;\n",
              "      --fill-color: #1967D2;\n",
              "      --hover-bg-color: #E2EBFA;\n",
              "      --hover-fill-color: #174EA6;\n",
              "      --disabled-fill-color: #AAA;\n",
              "      --disabled-bg-color: #DDD;\n",
              "  }\n",
              "\n",
              "  [theme=dark] .colab-df-quickchart {\n",
              "      --bg-color: #3B4455;\n",
              "      --fill-color: #D2E3FC;\n",
              "      --hover-bg-color: #434B5C;\n",
              "      --hover-fill-color: #FFFFFF;\n",
              "      --disabled-bg-color: #3B4455;\n",
              "      --disabled-fill-color: #666;\n",
              "  }\n",
              "\n",
              "  .colab-df-quickchart {\n",
              "    background-color: var(--bg-color);\n",
              "    border: none;\n",
              "    border-radius: 50%;\n",
              "    cursor: pointer;\n",
              "    display: none;\n",
              "    fill: var(--fill-color);\n",
              "    height: 32px;\n",
              "    padding: 0;\n",
              "    width: 32px;\n",
              "  }\n",
              "\n",
              "  .colab-df-quickchart:hover {\n",
              "    background-color: var(--hover-bg-color);\n",
              "    box-shadow: 0 1px 2px rgba(60, 64, 67, 0.3), 0 1px 3px 1px rgba(60, 64, 67, 0.15);\n",
              "    fill: var(--button-hover-fill-color);\n",
              "  }\n",
              "\n",
              "  .colab-df-quickchart-complete:disabled,\n",
              "  .colab-df-quickchart-complete:disabled:hover {\n",
              "    background-color: var(--disabled-bg-color);\n",
              "    fill: var(--disabled-fill-color);\n",
              "    box-shadow: none;\n",
              "  }\n",
              "\n",
              "  .colab-df-spinner {\n",
              "    border: 2px solid var(--fill-color);\n",
              "    border-color: transparent;\n",
              "    border-bottom-color: var(--fill-color);\n",
              "    animation:\n",
              "      spin 1s steps(1) infinite;\n",
              "  }\n",
              "\n",
              "  @keyframes spin {\n",
              "    0% {\n",
              "      border-color: transparent;\n",
              "      border-bottom-color: var(--fill-color);\n",
              "      border-left-color: var(--fill-color);\n",
              "    }\n",
              "    20% {\n",
              "      border-color: transparent;\n",
              "      border-left-color: var(--fill-color);\n",
              "      border-top-color: var(--fill-color);\n",
              "    }\n",
              "    30% {\n",
              "      border-color: transparent;\n",
              "      border-left-color: var(--fill-color);\n",
              "      border-top-color: var(--fill-color);\n",
              "      border-right-color: var(--fill-color);\n",
              "    }\n",
              "    40% {\n",
              "      border-color: transparent;\n",
              "      border-right-color: var(--fill-color);\n",
              "      border-top-color: var(--fill-color);\n",
              "    }\n",
              "    60% {\n",
              "      border-color: transparent;\n",
              "      border-right-color: var(--fill-color);\n",
              "    }\n",
              "    80% {\n",
              "      border-color: transparent;\n",
              "      border-right-color: var(--fill-color);\n",
              "      border-bottom-color: var(--fill-color);\n",
              "    }\n",
              "    90% {\n",
              "      border-color: transparent;\n",
              "      border-bottom-color: var(--fill-color);\n",
              "    }\n",
              "  }\n",
              "</style>\n",
              "\n",
              "  <script>\n",
              "    async function quickchart(key) {\n",
              "      const quickchartButtonEl =\n",
              "        document.querySelector('#' + key + ' button');\n",
              "      quickchartButtonEl.disabled = true;  // To prevent multiple clicks.\n",
              "      quickchartButtonEl.classList.add('colab-df-spinner');\n",
              "      try {\n",
              "        const charts = await google.colab.kernel.invokeFunction(\n",
              "            'suggestCharts', [key], {});\n",
              "      } catch (error) {\n",
              "        console.error('Error during call to suggestCharts:', error);\n",
              "      }\n",
              "      quickchartButtonEl.classList.remove('colab-df-spinner');\n",
              "      quickchartButtonEl.classList.add('colab-df-quickchart-complete');\n",
              "    }\n",
              "    (() => {\n",
              "      let quickchartButtonEl =\n",
              "        document.querySelector('#df-81b98b72-f308-4626-9c72-ee0865da2fdc button');\n",
              "      quickchartButtonEl.style.display =\n",
              "        google.colab.kernel.accessAllowed ? 'block' : 'none';\n",
              "    })();\n",
              "  </script>\n",
              "</div>\n",
              "\n",
              "    </div>\n",
              "  </div>\n"
            ],
            "application/vnd.google.colaboratory.intrinsic+json": {
              "type": "dataframe"
            }
          },
          "metadata": {},
          "execution_count": 5
        }
      ],
      "source": [
        "df.tail()"
      ]
    },
    {
      "cell_type": "code",
      "execution_count": null,
      "metadata": {
        "colab": {
          "base_uri": "https://localhost:8080/",
          "height": 182
        },
        "id": "b-ObzohpxQFT",
        "outputId": "7e858332-6216-4472-faa8-fcb9fcd998d6"
      },
      "outputs": [
        {
          "output_type": "execute_result",
          "data": {
            "text/plain": [
              "       Employee ID  Age  Gender  Years at Company    Job Role  Monthly Income  \\\n",
              "40337        57425   59  Female                26  Technology            9724   \n",
              "\n",
              "      Work-Life Balance Job Satisfaction Performance Rating  \\\n",
              "40337              Poor             High            Average   \n",
              "\n",
              "       Number of Promotions  ... Number of Dependents  Job Level Company Size  \\\n",
              "40337                     1  ...                    3     Senior       Medium   \n",
              "\n",
              "      Company Tenure (In Months)  Remote Work Leadership Opportunities  \\\n",
              "40337                       60.0          Yes                       No   \n",
              "\n",
              "      Innovation Opportunities  Company Reputation Employee Recognition  \\\n",
              "40337                      Yes           Excellent               Medium   \n",
              "\n",
              "      Attrition  \n",
              "40337    Stayed  \n",
              "\n",
              "[1 rows x 24 columns]"
            ],
            "text/html": [
              "\n",
              "  <div id=\"df-41d903ab-341a-4645-8b22-61b8a673ea52\" class=\"colab-df-container\">\n",
              "    <div>\n",
              "<style scoped>\n",
              "    .dataframe tbody tr th:only-of-type {\n",
              "        vertical-align: middle;\n",
              "    }\n",
              "\n",
              "    .dataframe tbody tr th {\n",
              "        vertical-align: top;\n",
              "    }\n",
              "\n",
              "    .dataframe thead th {\n",
              "        text-align: right;\n",
              "    }\n",
              "</style>\n",
              "<table border=\"1\" class=\"dataframe\">\n",
              "  <thead>\n",
              "    <tr style=\"text-align: right;\">\n",
              "      <th></th>\n",
              "      <th>Employee ID</th>\n",
              "      <th>Age</th>\n",
              "      <th>Gender</th>\n",
              "      <th>Years at Company</th>\n",
              "      <th>Job Role</th>\n",
              "      <th>Monthly Income</th>\n",
              "      <th>Work-Life Balance</th>\n",
              "      <th>Job Satisfaction</th>\n",
              "      <th>Performance Rating</th>\n",
              "      <th>Number of Promotions</th>\n",
              "      <th>...</th>\n",
              "      <th>Number of Dependents</th>\n",
              "      <th>Job Level</th>\n",
              "      <th>Company Size</th>\n",
              "      <th>Company Tenure (In Months)</th>\n",
              "      <th>Remote Work</th>\n",
              "      <th>Leadership Opportunities</th>\n",
              "      <th>Innovation Opportunities</th>\n",
              "      <th>Company Reputation</th>\n",
              "      <th>Employee Recognition</th>\n",
              "      <th>Attrition</th>\n",
              "    </tr>\n",
              "  </thead>\n",
              "  <tbody>\n",
              "    <tr>\n",
              "      <th>40337</th>\n",
              "      <td>57425</td>\n",
              "      <td>59</td>\n",
              "      <td>Female</td>\n",
              "      <td>26</td>\n",
              "      <td>Technology</td>\n",
              "      <td>9724</td>\n",
              "      <td>Poor</td>\n",
              "      <td>High</td>\n",
              "      <td>Average</td>\n",
              "      <td>1</td>\n",
              "      <td>...</td>\n",
              "      <td>3</td>\n",
              "      <td>Senior</td>\n",
              "      <td>Medium</td>\n",
              "      <td>60.0</td>\n",
              "      <td>Yes</td>\n",
              "      <td>No</td>\n",
              "      <td>Yes</td>\n",
              "      <td>Excellent</td>\n",
              "      <td>Medium</td>\n",
              "      <td>Stayed</td>\n",
              "    </tr>\n",
              "  </tbody>\n",
              "</table>\n",
              "<p>1 rows × 24 columns</p>\n",
              "</div>\n",
              "    <div class=\"colab-df-buttons\">\n",
              "\n",
              "  <div class=\"colab-df-container\">\n",
              "    <button class=\"colab-df-convert\" onclick=\"convertToInteractive('df-41d903ab-341a-4645-8b22-61b8a673ea52')\"\n",
              "            title=\"Convert this dataframe to an interactive table.\"\n",
              "            style=\"display:none;\">\n",
              "\n",
              "  <svg xmlns=\"http://www.w3.org/2000/svg\" height=\"24px\" viewBox=\"0 -960 960 960\">\n",
              "    <path d=\"M120-120v-720h720v720H120Zm60-500h600v-160H180v160Zm220 220h160v-160H400v160Zm0 220h160v-160H400v160ZM180-400h160v-160H180v160Zm440 0h160v-160H620v160ZM180-180h160v-160H180v160Zm440 0h160v-160H620v160Z\"/>\n",
              "  </svg>\n",
              "    </button>\n",
              "\n",
              "  <style>\n",
              "    .colab-df-container {\n",
              "      display:flex;\n",
              "      gap: 12px;\n",
              "    }\n",
              "\n",
              "    .colab-df-convert {\n",
              "      background-color: #E8F0FE;\n",
              "      border: none;\n",
              "      border-radius: 50%;\n",
              "      cursor: pointer;\n",
              "      display: none;\n",
              "      fill: #1967D2;\n",
              "      height: 32px;\n",
              "      padding: 0 0 0 0;\n",
              "      width: 32px;\n",
              "    }\n",
              "\n",
              "    .colab-df-convert:hover {\n",
              "      background-color: #E2EBFA;\n",
              "      box-shadow: 0px 1px 2px rgba(60, 64, 67, 0.3), 0px 1px 3px 1px rgba(60, 64, 67, 0.15);\n",
              "      fill: #174EA6;\n",
              "    }\n",
              "\n",
              "    .colab-df-buttons div {\n",
              "      margin-bottom: 4px;\n",
              "    }\n",
              "\n",
              "    [theme=dark] .colab-df-convert {\n",
              "      background-color: #3B4455;\n",
              "      fill: #D2E3FC;\n",
              "    }\n",
              "\n",
              "    [theme=dark] .colab-df-convert:hover {\n",
              "      background-color: #434B5C;\n",
              "      box-shadow: 0px 1px 3px 1px rgba(0, 0, 0, 0.15);\n",
              "      filter: drop-shadow(0px 1px 2px rgba(0, 0, 0, 0.3));\n",
              "      fill: #FFFFFF;\n",
              "    }\n",
              "  </style>\n",
              "\n",
              "    <script>\n",
              "      const buttonEl =\n",
              "        document.querySelector('#df-41d903ab-341a-4645-8b22-61b8a673ea52 button.colab-df-convert');\n",
              "      buttonEl.style.display =\n",
              "        google.colab.kernel.accessAllowed ? 'block' : 'none';\n",
              "\n",
              "      async function convertToInteractive(key) {\n",
              "        const element = document.querySelector('#df-41d903ab-341a-4645-8b22-61b8a673ea52');\n",
              "        const dataTable =\n",
              "          await google.colab.kernel.invokeFunction('convertToInteractive',\n",
              "                                                    [key], {});\n",
              "        if (!dataTable) return;\n",
              "\n",
              "        const docLinkHtml = 'Like what you see? Visit the ' +\n",
              "          '<a target=\"_blank\" href=https://colab.research.google.com/notebooks/data_table.ipynb>data table notebook</a>'\n",
              "          + ' to learn more about interactive tables.';\n",
              "        element.innerHTML = '';\n",
              "        dataTable['output_type'] = 'display_data';\n",
              "        await google.colab.output.renderOutput(dataTable, element);\n",
              "        const docLink = document.createElement('div');\n",
              "        docLink.innerHTML = docLinkHtml;\n",
              "        element.appendChild(docLink);\n",
              "      }\n",
              "    </script>\n",
              "  </div>\n",
              "\n",
              "\n",
              "    </div>\n",
              "  </div>\n"
            ],
            "application/vnd.google.colaboratory.intrinsic+json": {
              "type": "dataframe"
            }
          },
          "metadata": {},
          "execution_count": 6
        }
      ],
      "source": [
        "df.sample()"
      ]
    },
    {
      "cell_type": "code",
      "execution_count": null,
      "metadata": {
        "colab": {
          "base_uri": "https://localhost:8080/"
        },
        "id": "bD5-RmP9xTPy",
        "outputId": "ebd8c6d7-57da-4bb9-b0e2-8cccac23a42b"
      },
      "outputs": [
        {
          "output_type": "execute_result",
          "data": {
            "text/plain": [
              "(74610, 24)"
            ]
          },
          "metadata": {},
          "execution_count": 7
        }
      ],
      "source": [
        "df.shape\n"
      ]
    },
    {
      "cell_type": "code",
      "execution_count": null,
      "metadata": {
        "colab": {
          "base_uri": "https://localhost:8080/",
          "height": 354
        },
        "id": "eS_MbfaxxWMr",
        "outputId": "636c7b01-ac0d-48c3-a297-3aaf36019639"
      },
      "outputs": [
        {
          "output_type": "execute_result",
          "data": {
            "text/plain": [
              "        Employee ID           Age  Years at Company  Monthly Income  \\\n",
              "count  74610.000000  74610.000000      74610.000000    74610.000000   \n",
              "mean   37246.028696     38.529379         15.722638     7344.931417   \n",
              "std    21505.785344     12.082299         11.224059     2596.373589   \n",
              "min        1.000000     18.000000          1.000000     1226.000000   \n",
              "25%    18624.250000     28.000000          7.000000     5652.000000   \n",
              "50%    37239.500000     39.000000         13.000000     7348.500000   \n",
              "75%    55871.750000     49.000000         23.000000     8876.000000   \n",
              "max    74498.000000     59.000000         51.000000    50030.000000   \n",
              "\n",
              "       Number of Promotions  Distance from Home  Number of Dependents  \\\n",
              "count          74610.000000        72698.000000          74610.000000   \n",
              "mean               0.832958           49.990839              1.657432   \n",
              "std                0.995326           28.519135              1.579862   \n",
              "min                0.000000            1.000000              0.000000   \n",
              "25%                0.000000           25.000000              0.000000   \n",
              "50%                1.000000           50.000000              1.000000   \n",
              "75%                2.000000           75.000000              3.000000   \n",
              "max                4.000000           99.000000             15.000000   \n",
              "\n",
              "       Company Tenure (In Months)  \n",
              "count                72197.000000  \n",
              "mean                    55.711899  \n",
              "std                     25.392325  \n",
              "min                      2.000000  \n",
              "25%                     36.000000  \n",
              "50%                     56.000000  \n",
              "75%                     76.000000  \n",
              "max                    128.000000  "
            ],
            "text/html": [
              "\n",
              "  <div id=\"df-6292bbc1-39ac-4d09-9d2e-a04842ed3f66\" class=\"colab-df-container\">\n",
              "    <div>\n",
              "<style scoped>\n",
              "    .dataframe tbody tr th:only-of-type {\n",
              "        vertical-align: middle;\n",
              "    }\n",
              "\n",
              "    .dataframe tbody tr th {\n",
              "        vertical-align: top;\n",
              "    }\n",
              "\n",
              "    .dataframe thead th {\n",
              "        text-align: right;\n",
              "    }\n",
              "</style>\n",
              "<table border=\"1\" class=\"dataframe\">\n",
              "  <thead>\n",
              "    <tr style=\"text-align: right;\">\n",
              "      <th></th>\n",
              "      <th>Employee ID</th>\n",
              "      <th>Age</th>\n",
              "      <th>Years at Company</th>\n",
              "      <th>Monthly Income</th>\n",
              "      <th>Number of Promotions</th>\n",
              "      <th>Distance from Home</th>\n",
              "      <th>Number of Dependents</th>\n",
              "      <th>Company Tenure (In Months)</th>\n",
              "    </tr>\n",
              "  </thead>\n",
              "  <tbody>\n",
              "    <tr>\n",
              "      <th>count</th>\n",
              "      <td>74610.000000</td>\n",
              "      <td>74610.000000</td>\n",
              "      <td>74610.000000</td>\n",
              "      <td>74610.000000</td>\n",
              "      <td>74610.000000</td>\n",
              "      <td>72698.000000</td>\n",
              "      <td>74610.000000</td>\n",
              "      <td>72197.000000</td>\n",
              "    </tr>\n",
              "    <tr>\n",
              "      <th>mean</th>\n",
              "      <td>37246.028696</td>\n",
              "      <td>38.529379</td>\n",
              "      <td>15.722638</td>\n",
              "      <td>7344.931417</td>\n",
              "      <td>0.832958</td>\n",
              "      <td>49.990839</td>\n",
              "      <td>1.657432</td>\n",
              "      <td>55.711899</td>\n",
              "    </tr>\n",
              "    <tr>\n",
              "      <th>std</th>\n",
              "      <td>21505.785344</td>\n",
              "      <td>12.082299</td>\n",
              "      <td>11.224059</td>\n",
              "      <td>2596.373589</td>\n",
              "      <td>0.995326</td>\n",
              "      <td>28.519135</td>\n",
              "      <td>1.579862</td>\n",
              "      <td>25.392325</td>\n",
              "    </tr>\n",
              "    <tr>\n",
              "      <th>min</th>\n",
              "      <td>1.000000</td>\n",
              "      <td>18.000000</td>\n",
              "      <td>1.000000</td>\n",
              "      <td>1226.000000</td>\n",
              "      <td>0.000000</td>\n",
              "      <td>1.000000</td>\n",
              "      <td>0.000000</td>\n",
              "      <td>2.000000</td>\n",
              "    </tr>\n",
              "    <tr>\n",
              "      <th>25%</th>\n",
              "      <td>18624.250000</td>\n",
              "      <td>28.000000</td>\n",
              "      <td>7.000000</td>\n",
              "      <td>5652.000000</td>\n",
              "      <td>0.000000</td>\n",
              "      <td>25.000000</td>\n",
              "      <td>0.000000</td>\n",
              "      <td>36.000000</td>\n",
              "    </tr>\n",
              "    <tr>\n",
              "      <th>50%</th>\n",
              "      <td>37239.500000</td>\n",
              "      <td>39.000000</td>\n",
              "      <td>13.000000</td>\n",
              "      <td>7348.500000</td>\n",
              "      <td>1.000000</td>\n",
              "      <td>50.000000</td>\n",
              "      <td>1.000000</td>\n",
              "      <td>56.000000</td>\n",
              "    </tr>\n",
              "    <tr>\n",
              "      <th>75%</th>\n",
              "      <td>55871.750000</td>\n",
              "      <td>49.000000</td>\n",
              "      <td>23.000000</td>\n",
              "      <td>8876.000000</td>\n",
              "      <td>2.000000</td>\n",
              "      <td>75.000000</td>\n",
              "      <td>3.000000</td>\n",
              "      <td>76.000000</td>\n",
              "    </tr>\n",
              "    <tr>\n",
              "      <th>max</th>\n",
              "      <td>74498.000000</td>\n",
              "      <td>59.000000</td>\n",
              "      <td>51.000000</td>\n",
              "      <td>50030.000000</td>\n",
              "      <td>4.000000</td>\n",
              "      <td>99.000000</td>\n",
              "      <td>15.000000</td>\n",
              "      <td>128.000000</td>\n",
              "    </tr>\n",
              "  </tbody>\n",
              "</table>\n",
              "</div>\n",
              "    <div class=\"colab-df-buttons\">\n",
              "\n",
              "  <div class=\"colab-df-container\">\n",
              "    <button class=\"colab-df-convert\" onclick=\"convertToInteractive('df-6292bbc1-39ac-4d09-9d2e-a04842ed3f66')\"\n",
              "            title=\"Convert this dataframe to an interactive table.\"\n",
              "            style=\"display:none;\">\n",
              "\n",
              "  <svg xmlns=\"http://www.w3.org/2000/svg\" height=\"24px\" viewBox=\"0 -960 960 960\">\n",
              "    <path d=\"M120-120v-720h720v720H120Zm60-500h600v-160H180v160Zm220 220h160v-160H400v160Zm0 220h160v-160H400v160ZM180-400h160v-160H180v160Zm440 0h160v-160H620v160ZM180-180h160v-160H180v160Zm440 0h160v-160H620v160Z\"/>\n",
              "  </svg>\n",
              "    </button>\n",
              "\n",
              "  <style>\n",
              "    .colab-df-container {\n",
              "      display:flex;\n",
              "      gap: 12px;\n",
              "    }\n",
              "\n",
              "    .colab-df-convert {\n",
              "      background-color: #E8F0FE;\n",
              "      border: none;\n",
              "      border-radius: 50%;\n",
              "      cursor: pointer;\n",
              "      display: none;\n",
              "      fill: #1967D2;\n",
              "      height: 32px;\n",
              "      padding: 0 0 0 0;\n",
              "      width: 32px;\n",
              "    }\n",
              "\n",
              "    .colab-df-convert:hover {\n",
              "      background-color: #E2EBFA;\n",
              "      box-shadow: 0px 1px 2px rgba(60, 64, 67, 0.3), 0px 1px 3px 1px rgba(60, 64, 67, 0.15);\n",
              "      fill: #174EA6;\n",
              "    }\n",
              "\n",
              "    .colab-df-buttons div {\n",
              "      margin-bottom: 4px;\n",
              "    }\n",
              "\n",
              "    [theme=dark] .colab-df-convert {\n",
              "      background-color: #3B4455;\n",
              "      fill: #D2E3FC;\n",
              "    }\n",
              "\n",
              "    [theme=dark] .colab-df-convert:hover {\n",
              "      background-color: #434B5C;\n",
              "      box-shadow: 0px 1px 3px 1px rgba(0, 0, 0, 0.15);\n",
              "      filter: drop-shadow(0px 1px 2px rgba(0, 0, 0, 0.3));\n",
              "      fill: #FFFFFF;\n",
              "    }\n",
              "  </style>\n",
              "\n",
              "    <script>\n",
              "      const buttonEl =\n",
              "        document.querySelector('#df-6292bbc1-39ac-4d09-9d2e-a04842ed3f66 button.colab-df-convert');\n",
              "      buttonEl.style.display =\n",
              "        google.colab.kernel.accessAllowed ? 'block' : 'none';\n",
              "\n",
              "      async function convertToInteractive(key) {\n",
              "        const element = document.querySelector('#df-6292bbc1-39ac-4d09-9d2e-a04842ed3f66');\n",
              "        const dataTable =\n",
              "          await google.colab.kernel.invokeFunction('convertToInteractive',\n",
              "                                                    [key], {});\n",
              "        if (!dataTable) return;\n",
              "\n",
              "        const docLinkHtml = 'Like what you see? Visit the ' +\n",
              "          '<a target=\"_blank\" href=https://colab.research.google.com/notebooks/data_table.ipynb>data table notebook</a>'\n",
              "          + ' to learn more about interactive tables.';\n",
              "        element.innerHTML = '';\n",
              "        dataTable['output_type'] = 'display_data';\n",
              "        await google.colab.output.renderOutput(dataTable, element);\n",
              "        const docLink = document.createElement('div');\n",
              "        docLink.innerHTML = docLinkHtml;\n",
              "        element.appendChild(docLink);\n",
              "      }\n",
              "    </script>\n",
              "  </div>\n",
              "\n",
              "\n",
              "<div id=\"df-6a0d8ba3-1ddc-4c7c-aeb1-0e178c1edc07\">\n",
              "  <button class=\"colab-df-quickchart\" onclick=\"quickchart('df-6a0d8ba3-1ddc-4c7c-aeb1-0e178c1edc07')\"\n",
              "            title=\"Suggest charts\"\n",
              "            style=\"display:none;\">\n",
              "\n",
              "<svg xmlns=\"http://www.w3.org/2000/svg\" height=\"24px\"viewBox=\"0 0 24 24\"\n",
              "     width=\"24px\">\n",
              "    <g>\n",
              "        <path d=\"M19 3H5c-1.1 0-2 .9-2 2v14c0 1.1.9 2 2 2h14c1.1 0 2-.9 2-2V5c0-1.1-.9-2-2-2zM9 17H7v-7h2v7zm4 0h-2V7h2v10zm4 0h-2v-4h2v4z\"/>\n",
              "    </g>\n",
              "</svg>\n",
              "  </button>\n",
              "\n",
              "<style>\n",
              "  .colab-df-quickchart {\n",
              "      --bg-color: #E8F0FE;\n",
              "      --fill-color: #1967D2;\n",
              "      --hover-bg-color: #E2EBFA;\n",
              "      --hover-fill-color: #174EA6;\n",
              "      --disabled-fill-color: #AAA;\n",
              "      --disabled-bg-color: #DDD;\n",
              "  }\n",
              "\n",
              "  [theme=dark] .colab-df-quickchart {\n",
              "      --bg-color: #3B4455;\n",
              "      --fill-color: #D2E3FC;\n",
              "      --hover-bg-color: #434B5C;\n",
              "      --hover-fill-color: #FFFFFF;\n",
              "      --disabled-bg-color: #3B4455;\n",
              "      --disabled-fill-color: #666;\n",
              "  }\n",
              "\n",
              "  .colab-df-quickchart {\n",
              "    background-color: var(--bg-color);\n",
              "    border: none;\n",
              "    border-radius: 50%;\n",
              "    cursor: pointer;\n",
              "    display: none;\n",
              "    fill: var(--fill-color);\n",
              "    height: 32px;\n",
              "    padding: 0;\n",
              "    width: 32px;\n",
              "  }\n",
              "\n",
              "  .colab-df-quickchart:hover {\n",
              "    background-color: var(--hover-bg-color);\n",
              "    box-shadow: 0 1px 2px rgba(60, 64, 67, 0.3), 0 1px 3px 1px rgba(60, 64, 67, 0.15);\n",
              "    fill: var(--button-hover-fill-color);\n",
              "  }\n",
              "\n",
              "  .colab-df-quickchart-complete:disabled,\n",
              "  .colab-df-quickchart-complete:disabled:hover {\n",
              "    background-color: var(--disabled-bg-color);\n",
              "    fill: var(--disabled-fill-color);\n",
              "    box-shadow: none;\n",
              "  }\n",
              "\n",
              "  .colab-df-spinner {\n",
              "    border: 2px solid var(--fill-color);\n",
              "    border-color: transparent;\n",
              "    border-bottom-color: var(--fill-color);\n",
              "    animation:\n",
              "      spin 1s steps(1) infinite;\n",
              "  }\n",
              "\n",
              "  @keyframes spin {\n",
              "    0% {\n",
              "      border-color: transparent;\n",
              "      border-bottom-color: var(--fill-color);\n",
              "      border-left-color: var(--fill-color);\n",
              "    }\n",
              "    20% {\n",
              "      border-color: transparent;\n",
              "      border-left-color: var(--fill-color);\n",
              "      border-top-color: var(--fill-color);\n",
              "    }\n",
              "    30% {\n",
              "      border-color: transparent;\n",
              "      border-left-color: var(--fill-color);\n",
              "      border-top-color: var(--fill-color);\n",
              "      border-right-color: var(--fill-color);\n",
              "    }\n",
              "    40% {\n",
              "      border-color: transparent;\n",
              "      border-right-color: var(--fill-color);\n",
              "      border-top-color: var(--fill-color);\n",
              "    }\n",
              "    60% {\n",
              "      border-color: transparent;\n",
              "      border-right-color: var(--fill-color);\n",
              "    }\n",
              "    80% {\n",
              "      border-color: transparent;\n",
              "      border-right-color: var(--fill-color);\n",
              "      border-bottom-color: var(--fill-color);\n",
              "    }\n",
              "    90% {\n",
              "      border-color: transparent;\n",
              "      border-bottom-color: var(--fill-color);\n",
              "    }\n",
              "  }\n",
              "</style>\n",
              "\n",
              "  <script>\n",
              "    async function quickchart(key) {\n",
              "      const quickchartButtonEl =\n",
              "        document.querySelector('#' + key + ' button');\n",
              "      quickchartButtonEl.disabled = true;  // To prevent multiple clicks.\n",
              "      quickchartButtonEl.classList.add('colab-df-spinner');\n",
              "      try {\n",
              "        const charts = await google.colab.kernel.invokeFunction(\n",
              "            'suggestCharts', [key], {});\n",
              "      } catch (error) {\n",
              "        console.error('Error during call to suggestCharts:', error);\n",
              "      }\n",
              "      quickchartButtonEl.classList.remove('colab-df-spinner');\n",
              "      quickchartButtonEl.classList.add('colab-df-quickchart-complete');\n",
              "    }\n",
              "    (() => {\n",
              "      let quickchartButtonEl =\n",
              "        document.querySelector('#df-6a0d8ba3-1ddc-4c7c-aeb1-0e178c1edc07 button');\n",
              "      quickchartButtonEl.style.display =\n",
              "        google.colab.kernel.accessAllowed ? 'block' : 'none';\n",
              "    })();\n",
              "  </script>\n",
              "</div>\n",
              "\n",
              "    </div>\n",
              "  </div>\n"
            ],
            "application/vnd.google.colaboratory.intrinsic+json": {
              "type": "dataframe",
              "summary": "{\n  \"name\": \"df\",\n  \"rows\": 8,\n  \"fields\": [\n    {\n      \"column\": \"Employee ID\",\n      \"properties\": {\n        \"dtype\": \"number\",\n        \"std\": 26869.89702981809,\n        \"min\": 1.0,\n        \"max\": 74610.0,\n        \"num_unique_values\": 8,\n        \"samples\": [\n          37246.02869588527,\n          37239.5,\n          74610.0\n        ],\n        \"semantic_type\": \"\",\n        \"description\": \"\"\n      }\n    },\n    {\n      \"column\": \"Age\",\n      \"properties\": {\n        \"dtype\": \"number\",\n        \"std\": 26366.318730593728,\n        \"min\": 12.082299475884366,\n        \"max\": 74610.0,\n        \"num_unique_values\": 8,\n        \"samples\": [\n          38.529379439753384,\n          39.0,\n          74610.0\n        ],\n        \"semantic_type\": \"\",\n        \"description\": \"\"\n      }\n    },\n    {\n      \"column\": \"Years at Company\",\n      \"properties\": {\n        \"dtype\": \"number\",\n        \"std\": 26372.46356131141,\n        \"min\": 1.0,\n        \"max\": 74610.0,\n        \"num_unique_values\": 8,\n        \"samples\": [\n          15.722637716123844,\n          13.0,\n          74610.0\n        ],\n        \"semantic_type\": \"\",\n        \"description\": \"\"\n      }\n    },\n    {\n      \"column\": \"Monthly Income\",\n      \"properties\": {\n        \"dtype\": \"number\",\n        \"std\": 27225.38570226444,\n        \"min\": 1226.0,\n        \"max\": 74610.0,\n        \"num_unique_values\": 8,\n        \"samples\": [\n          7344.931416700174,\n          7348.5,\n          74610.0\n        ],\n        \"semantic_type\": \"\",\n        \"description\": \"\"\n      }\n    },\n    {\n      \"column\": \"Number of Promotions\",\n      \"properties\": {\n        \"dtype\": \"number\",\n        \"std\": 26378.172607771143,\n        \"min\": 0.0,\n        \"max\": 74610.0,\n        \"num_unique_values\": 7,\n        \"samples\": [\n          74610.0,\n          0.8329580485189653,\n          2.0\n        ],\n        \"semantic_type\": \"\",\n        \"description\": \"\"\n      }\n    },\n    {\n      \"column\": \"Distance from Home\",\n      \"properties\": {\n        \"dtype\": \"number\",\n        \"std\": 25686.0500593282,\n        \"min\": 1.0,\n        \"max\": 72698.0,\n        \"num_unique_values\": 8,\n        \"samples\": [\n          49.99083881262208,\n          50.0,\n          72698.0\n        ],\n        \"semantic_type\": \"\",\n        \"description\": \"\"\n      }\n    },\n    {\n      \"column\": \"Number of Dependents\",\n      \"properties\": {\n        \"dtype\": \"number\",\n        \"std\": 26377.495778491717,\n        \"min\": 0.0,\n        \"max\": 74610.0,\n        \"num_unique_values\": 7,\n        \"samples\": [\n          74610.0,\n          1.6574319796273957,\n          3.0\n        ],\n        \"semantic_type\": \"\",\n        \"description\": \"\"\n      }\n    },\n    {\n      \"column\": \"Company Tenure (In Months)\",\n      \"properties\": {\n        \"dtype\": \"number\",\n        \"std\": 25506.373966787593,\n        \"min\": 2.0,\n        \"max\": 72197.0,\n        \"num_unique_values\": 8,\n        \"samples\": [\n          55.7118993864011,\n          56.0,\n          72197.0\n        ],\n        \"semantic_type\": \"\",\n        \"description\": \"\"\n      }\n    }\n  ]\n}"
            }
          },
          "metadata": {},
          "execution_count": 8
        }
      ],
      "source": [
        "df.describe()"
      ]
    },
    {
      "cell_type": "code",
      "execution_count": null,
      "metadata": {
        "colab": {
          "base_uri": "https://localhost:8080/"
        },
        "id": "OyyzEM80xWKj",
        "outputId": "74a03d94-16b0-46c3-cc54-16beeffe150f"
      },
      "outputs": [
        {
          "output_type": "execute_result",
          "data": {
            "text/plain": [
              "Index(['Employee ID', 'Age', 'Gender', 'Years at Company', 'Job Role',\n",
              "       'Monthly Income', 'Work-Life Balance', 'Job Satisfaction',\n",
              "       'Performance Rating', 'Number of Promotions', 'Overtime',\n",
              "       'Distance from Home', 'Education Level', 'Marital Status',\n",
              "       'Number of Dependents', 'Job Level', 'Company Size',\n",
              "       'Company Tenure (In Months)', 'Remote Work', 'Leadership Opportunities',\n",
              "       'Innovation Opportunities', 'Company Reputation',\n",
              "       'Employee Recognition', 'Attrition'],\n",
              "      dtype='object')"
            ]
          },
          "metadata": {},
          "execution_count": 9
        }
      ],
      "source": [
        "df.columns"
      ]
    },
    {
      "cell_type": "code",
      "execution_count": null,
      "metadata": {
        "colab": {
          "base_uri": "https://localhost:8080/"
        },
        "id": "pWnI8QeUxWJE",
        "outputId": "0b17f16c-49b4-4276-9001-3e6312cb17bf"
      },
      "outputs": [
        {
          "output_type": "execute_result",
          "data": {
            "text/plain": [
              "RangeIndex(start=0, stop=74610, step=1)"
            ]
          },
          "metadata": {},
          "execution_count": 10
        }
      ],
      "source": [
        "df.index"
      ]
    },
    {
      "cell_type": "code",
      "execution_count": null,
      "metadata": {
        "colab": {
          "base_uri": "https://localhost:8080/",
          "height": 836
        },
        "id": "c4KxKueSxWGx",
        "outputId": "be6cc574-7915-4790-8513-881f9c8f262b"
      },
      "outputs": [
        {
          "output_type": "execute_result",
          "data": {
            "text/plain": [
              "Employee ID                     int64\n",
              "Age                             int64\n",
              "Gender                         object\n",
              "Years at Company                int64\n",
              "Job Role                       object\n",
              "Monthly Income                  int64\n",
              "Work-Life Balance              object\n",
              "Job Satisfaction               object\n",
              "Performance Rating             object\n",
              "Number of Promotions            int64\n",
              "Overtime                       object\n",
              "Distance from Home            float64\n",
              "Education Level                object\n",
              "Marital Status                 object\n",
              "Number of Dependents            int64\n",
              "Job Level                      object\n",
              "Company Size                   object\n",
              "Company Tenure (In Months)    float64\n",
              "Remote Work                    object\n",
              "Leadership Opportunities       object\n",
              "Innovation Opportunities       object\n",
              "Company Reputation             object\n",
              "Employee Recognition           object\n",
              "Attrition                      object\n",
              "dtype: object"
            ],
            "text/html": [
              "<div>\n",
              "<style scoped>\n",
              "    .dataframe tbody tr th:only-of-type {\n",
              "        vertical-align: middle;\n",
              "    }\n",
              "\n",
              "    .dataframe tbody tr th {\n",
              "        vertical-align: top;\n",
              "    }\n",
              "\n",
              "    .dataframe thead th {\n",
              "        text-align: right;\n",
              "    }\n",
              "</style>\n",
              "<table border=\"1\" class=\"dataframe\">\n",
              "  <thead>\n",
              "    <tr style=\"text-align: right;\">\n",
              "      <th></th>\n",
              "      <th>0</th>\n",
              "    </tr>\n",
              "  </thead>\n",
              "  <tbody>\n",
              "    <tr>\n",
              "      <th>Employee ID</th>\n",
              "      <td>int64</td>\n",
              "    </tr>\n",
              "    <tr>\n",
              "      <th>Age</th>\n",
              "      <td>int64</td>\n",
              "    </tr>\n",
              "    <tr>\n",
              "      <th>Gender</th>\n",
              "      <td>object</td>\n",
              "    </tr>\n",
              "    <tr>\n",
              "      <th>Years at Company</th>\n",
              "      <td>int64</td>\n",
              "    </tr>\n",
              "    <tr>\n",
              "      <th>Job Role</th>\n",
              "      <td>object</td>\n",
              "    </tr>\n",
              "    <tr>\n",
              "      <th>Monthly Income</th>\n",
              "      <td>int64</td>\n",
              "    </tr>\n",
              "    <tr>\n",
              "      <th>Work-Life Balance</th>\n",
              "      <td>object</td>\n",
              "    </tr>\n",
              "    <tr>\n",
              "      <th>Job Satisfaction</th>\n",
              "      <td>object</td>\n",
              "    </tr>\n",
              "    <tr>\n",
              "      <th>Performance Rating</th>\n",
              "      <td>object</td>\n",
              "    </tr>\n",
              "    <tr>\n",
              "      <th>Number of Promotions</th>\n",
              "      <td>int64</td>\n",
              "    </tr>\n",
              "    <tr>\n",
              "      <th>Overtime</th>\n",
              "      <td>object</td>\n",
              "    </tr>\n",
              "    <tr>\n",
              "      <th>Distance from Home</th>\n",
              "      <td>float64</td>\n",
              "    </tr>\n",
              "    <tr>\n",
              "      <th>Education Level</th>\n",
              "      <td>object</td>\n",
              "    </tr>\n",
              "    <tr>\n",
              "      <th>Marital Status</th>\n",
              "      <td>object</td>\n",
              "    </tr>\n",
              "    <tr>\n",
              "      <th>Number of Dependents</th>\n",
              "      <td>int64</td>\n",
              "    </tr>\n",
              "    <tr>\n",
              "      <th>Job Level</th>\n",
              "      <td>object</td>\n",
              "    </tr>\n",
              "    <tr>\n",
              "      <th>Company Size</th>\n",
              "      <td>object</td>\n",
              "    </tr>\n",
              "    <tr>\n",
              "      <th>Company Tenure (In Months)</th>\n",
              "      <td>float64</td>\n",
              "    </tr>\n",
              "    <tr>\n",
              "      <th>Remote Work</th>\n",
              "      <td>object</td>\n",
              "    </tr>\n",
              "    <tr>\n",
              "      <th>Leadership Opportunities</th>\n",
              "      <td>object</td>\n",
              "    </tr>\n",
              "    <tr>\n",
              "      <th>Innovation Opportunities</th>\n",
              "      <td>object</td>\n",
              "    </tr>\n",
              "    <tr>\n",
              "      <th>Company Reputation</th>\n",
              "      <td>object</td>\n",
              "    </tr>\n",
              "    <tr>\n",
              "      <th>Employee Recognition</th>\n",
              "      <td>object</td>\n",
              "    </tr>\n",
              "    <tr>\n",
              "      <th>Attrition</th>\n",
              "      <td>object</td>\n",
              "    </tr>\n",
              "  </tbody>\n",
              "</table>\n",
              "</div><br><label><b>dtype:</b> object</label>"
            ]
          },
          "metadata": {},
          "execution_count": 10
        }
      ],
      "source": [
        "df.dtypes"
      ]
    },
    {
      "cell_type": "code",
      "execution_count": null,
      "metadata": {
        "colab": {
          "base_uri": "https://localhost:8080/",
          "height": 836
        },
        "id": "eGx5Gy_Yxiy3",
        "outputId": "d911508b-1fc8-47ea-afbe-8089388c59d4"
      },
      "outputs": [
        {
          "output_type": "execute_result",
          "data": {
            "text/plain": [
              "Employee ID                      0\n",
              "Age                              0\n",
              "Gender                           0\n",
              "Years at Company                 0\n",
              "Job Role                         0\n",
              "Monthly Income                   0\n",
              "Work-Life Balance                0\n",
              "Job Satisfaction                 0\n",
              "Performance Rating               0\n",
              "Number of Promotions             0\n",
              "Overtime                         0\n",
              "Distance from Home            1912\n",
              "Education Level                  0\n",
              "Marital Status                   0\n",
              "Number of Dependents             0\n",
              "Job Level                        0\n",
              "Company Size                     0\n",
              "Company Tenure (In Months)    2413\n",
              "Remote Work                      0\n",
              "Leadership Opportunities         0\n",
              "Innovation Opportunities         0\n",
              "Company Reputation               0\n",
              "Employee Recognition             0\n",
              "Attrition                        0\n",
              "dtype: int64"
            ],
            "text/html": [
              "<div>\n",
              "<style scoped>\n",
              "    .dataframe tbody tr th:only-of-type {\n",
              "        vertical-align: middle;\n",
              "    }\n",
              "\n",
              "    .dataframe tbody tr th {\n",
              "        vertical-align: top;\n",
              "    }\n",
              "\n",
              "    .dataframe thead th {\n",
              "        text-align: right;\n",
              "    }\n",
              "</style>\n",
              "<table border=\"1\" class=\"dataframe\">\n",
              "  <thead>\n",
              "    <tr style=\"text-align: right;\">\n",
              "      <th></th>\n",
              "      <th>0</th>\n",
              "    </tr>\n",
              "  </thead>\n",
              "  <tbody>\n",
              "    <tr>\n",
              "      <th>Employee ID</th>\n",
              "      <td>0</td>\n",
              "    </tr>\n",
              "    <tr>\n",
              "      <th>Age</th>\n",
              "      <td>0</td>\n",
              "    </tr>\n",
              "    <tr>\n",
              "      <th>Gender</th>\n",
              "      <td>0</td>\n",
              "    </tr>\n",
              "    <tr>\n",
              "      <th>Years at Company</th>\n",
              "      <td>0</td>\n",
              "    </tr>\n",
              "    <tr>\n",
              "      <th>Job Role</th>\n",
              "      <td>0</td>\n",
              "    </tr>\n",
              "    <tr>\n",
              "      <th>Monthly Income</th>\n",
              "      <td>0</td>\n",
              "    </tr>\n",
              "    <tr>\n",
              "      <th>Work-Life Balance</th>\n",
              "      <td>0</td>\n",
              "    </tr>\n",
              "    <tr>\n",
              "      <th>Job Satisfaction</th>\n",
              "      <td>0</td>\n",
              "    </tr>\n",
              "    <tr>\n",
              "      <th>Performance Rating</th>\n",
              "      <td>0</td>\n",
              "    </tr>\n",
              "    <tr>\n",
              "      <th>Number of Promotions</th>\n",
              "      <td>0</td>\n",
              "    </tr>\n",
              "    <tr>\n",
              "      <th>Overtime</th>\n",
              "      <td>0</td>\n",
              "    </tr>\n",
              "    <tr>\n",
              "      <th>Distance from Home</th>\n",
              "      <td>1912</td>\n",
              "    </tr>\n",
              "    <tr>\n",
              "      <th>Education Level</th>\n",
              "      <td>0</td>\n",
              "    </tr>\n",
              "    <tr>\n",
              "      <th>Marital Status</th>\n",
              "      <td>0</td>\n",
              "    </tr>\n",
              "    <tr>\n",
              "      <th>Number of Dependents</th>\n",
              "      <td>0</td>\n",
              "    </tr>\n",
              "    <tr>\n",
              "      <th>Job Level</th>\n",
              "      <td>0</td>\n",
              "    </tr>\n",
              "    <tr>\n",
              "      <th>Company Size</th>\n",
              "      <td>0</td>\n",
              "    </tr>\n",
              "    <tr>\n",
              "      <th>Company Tenure (In Months)</th>\n",
              "      <td>2413</td>\n",
              "    </tr>\n",
              "    <tr>\n",
              "      <th>Remote Work</th>\n",
              "      <td>0</td>\n",
              "    </tr>\n",
              "    <tr>\n",
              "      <th>Leadership Opportunities</th>\n",
              "      <td>0</td>\n",
              "    </tr>\n",
              "    <tr>\n",
              "      <th>Innovation Opportunities</th>\n",
              "      <td>0</td>\n",
              "    </tr>\n",
              "    <tr>\n",
              "      <th>Company Reputation</th>\n",
              "      <td>0</td>\n",
              "    </tr>\n",
              "    <tr>\n",
              "      <th>Employee Recognition</th>\n",
              "      <td>0</td>\n",
              "    </tr>\n",
              "    <tr>\n",
              "      <th>Attrition</th>\n",
              "      <td>0</td>\n",
              "    </tr>\n",
              "  </tbody>\n",
              "</table>\n",
              "</div><br><label><b>dtype:</b> int64</label>"
            ]
          },
          "metadata": {},
          "execution_count": 11
        }
      ],
      "source": [
        "df.isnull().sum()"
      ]
    },
    {
      "cell_type": "code",
      "execution_count": null,
      "metadata": {
        "colab": {
          "base_uri": "https://localhost:8080/"
        },
        "id": "xO8ugi9DxWEo",
        "outputId": "9d43d759-5e76-4417-c2eb-787b657bb933"
      },
      "outputs": [
        {
          "output_type": "execute_result",
          "data": {
            "text/plain": [
              "112"
            ]
          },
          "metadata": {},
          "execution_count": 12
        }
      ],
      "source": [
        "df.duplicated().sum()"
      ]
    },
    {
      "cell_type": "code",
      "execution_count": null,
      "metadata": {
        "id": "VEbDXsAwxWCK"
      },
      "outputs": [],
      "source": [
        "df.drop_duplicates(inplace=True)"
      ]
    },
    {
      "cell_type": "code",
      "execution_count": null,
      "metadata": {
        "colab": {
          "base_uri": "https://localhost:8080/",
          "height": 495
        },
        "id": "5sRj22qixWAI",
        "outputId": "05bd860a-208b-4a14-cac6-d03968c9e9f9"
      },
      "outputs": [
        {
          "output_type": "execute_result",
          "data": {
            "text/plain": [
              "       Employee ID  Age  Gender  Years at Company    Job Role  Monthly Income  \\\n",
              "0             8410   31    Male                19   Education            5390   \n",
              "1            64756   59  Female                 4       Media            5534   \n",
              "2            30257   24  Female                10  Healthcare            8159   \n",
              "3            65791   36  Female                 7   Education            3989   \n",
              "4            65026   56    Male                41   Education            4821   \n",
              "...            ...  ...     ...               ...         ...             ...   \n",
              "74493        16243   56  Female                42  Healthcare            7830   \n",
              "74494        47175   30  Female                15   Education            3856   \n",
              "74495        12409   52    Male                 5   Education            5654   \n",
              "74496         9554   18    Male                 4   Education            5276   \n",
              "74497        73042   59  Female                48   Education            3774   \n",
              "\n",
              "      Work-Life Balance Job Satisfaction Performance Rating  \\\n",
              "0             Excellent           Medium            Average   \n",
              "1                  Poor             High                Low   \n",
              "2                  Good             High                Low   \n",
              "3                  Good             High               High   \n",
              "4                  Fair        Very High            Average   \n",
              "...                 ...              ...                ...   \n",
              "74493              Poor           Medium            Average   \n",
              "74494              Good           Medium            Average   \n",
              "74495              Good        Very High      Below Average   \n",
              "74496              Fair             High            Average   \n",
              "74497              Good             High      Below Average   \n",
              "\n",
              "       Number of Promotions  ... Number of Dependents  Job Level Company Size  \\\n",
              "0                         2  ...                    0        Mid       Medium   \n",
              "1                         3  ...                    3        Mid       Medium   \n",
              "2                         0  ...                    3        Mid       Medium   \n",
              "3                         1  ...                    2        Mid        Small   \n",
              "4                         0  ...                    0     Senior       Medium   \n",
              "...                     ...  ...                  ...        ...          ...   \n",
              "74493                     0  ...                    0     Senior       Medium   \n",
              "74494                     2  ...                    0      Entry       Medium   \n",
              "74495                     0  ...                    4        Mid        Small   \n",
              "74496                     0  ...                    3        Mid        Large   \n",
              "74497                     1  ...                    4        Mid        Large   \n",
              "\n",
              "      Company Tenure (In Months)  Remote Work Leadership Opportunities  \\\n",
              "0                           89.0           No                       No   \n",
              "1                           21.0           No                       No   \n",
              "2                           74.0           No                       No   \n",
              "3                           50.0          Yes                       No   \n",
              "4                           68.0           No                       No   \n",
              "...                          ...          ...                      ...   \n",
              "74493                       60.0           No                       No   \n",
              "74494                       20.0           No                       No   \n",
              "74495                        7.0           No                       No   \n",
              "74496                        5.0           No                       No   \n",
              "74497                      118.0           No                       No   \n",
              "\n",
              "      Innovation Opportunities  Company Reputation Employee Recognition  \\\n",
              "0                           No           Excellent               Medium   \n",
              "1                           No                Fair                  Low   \n",
              "2                           No                Poor                  Low   \n",
              "3                           No                Good               Medium   \n",
              "4                           No                Fair               Medium   \n",
              "...                        ...                 ...                  ...   \n",
              "74493                       No                Poor               Medium   \n",
              "74494                       No                Good               Medium   \n",
              "74495                       No                Good                 High   \n",
              "74496                       No                Poor                 High   \n",
              "74497                       No                Good            Very High   \n",
              "\n",
              "      Attrition  \n",
              "0        Stayed  \n",
              "1        Stayed  \n",
              "2        Stayed  \n",
              "3        Stayed  \n",
              "4        Stayed  \n",
              "...         ...  \n",
              "74493    Stayed  \n",
              "74494      Left  \n",
              "74495      Left  \n",
              "74496    Stayed  \n",
              "74497      Left  \n",
              "\n",
              "[74498 rows x 24 columns]"
            ],
            "text/html": [
              "\n",
              "  <div id=\"df-0b63110b-c495-4f41-8041-a5edd374b62d\" class=\"colab-df-container\">\n",
              "    <div>\n",
              "<style scoped>\n",
              "    .dataframe tbody tr th:only-of-type {\n",
              "        vertical-align: middle;\n",
              "    }\n",
              "\n",
              "    .dataframe tbody tr th {\n",
              "        vertical-align: top;\n",
              "    }\n",
              "\n",
              "    .dataframe thead th {\n",
              "        text-align: right;\n",
              "    }\n",
              "</style>\n",
              "<table border=\"1\" class=\"dataframe\">\n",
              "  <thead>\n",
              "    <tr style=\"text-align: right;\">\n",
              "      <th></th>\n",
              "      <th>Employee ID</th>\n",
              "      <th>Age</th>\n",
              "      <th>Gender</th>\n",
              "      <th>Years at Company</th>\n",
              "      <th>Job Role</th>\n",
              "      <th>Monthly Income</th>\n",
              "      <th>Work-Life Balance</th>\n",
              "      <th>Job Satisfaction</th>\n",
              "      <th>Performance Rating</th>\n",
              "      <th>Number of Promotions</th>\n",
              "      <th>...</th>\n",
              "      <th>Number of Dependents</th>\n",
              "      <th>Job Level</th>\n",
              "      <th>Company Size</th>\n",
              "      <th>Company Tenure (In Months)</th>\n",
              "      <th>Remote Work</th>\n",
              "      <th>Leadership Opportunities</th>\n",
              "      <th>Innovation Opportunities</th>\n",
              "      <th>Company Reputation</th>\n",
              "      <th>Employee Recognition</th>\n",
              "      <th>Attrition</th>\n",
              "    </tr>\n",
              "  </thead>\n",
              "  <tbody>\n",
              "    <tr>\n",
              "      <th>0</th>\n",
              "      <td>8410</td>\n",
              "      <td>31</td>\n",
              "      <td>Male</td>\n",
              "      <td>19</td>\n",
              "      <td>Education</td>\n",
              "      <td>5390</td>\n",
              "      <td>Excellent</td>\n",
              "      <td>Medium</td>\n",
              "      <td>Average</td>\n",
              "      <td>2</td>\n",
              "      <td>...</td>\n",
              "      <td>0</td>\n",
              "      <td>Mid</td>\n",
              "      <td>Medium</td>\n",
              "      <td>89.0</td>\n",
              "      <td>No</td>\n",
              "      <td>No</td>\n",
              "      <td>No</td>\n",
              "      <td>Excellent</td>\n",
              "      <td>Medium</td>\n",
              "      <td>Stayed</td>\n",
              "    </tr>\n",
              "    <tr>\n",
              "      <th>1</th>\n",
              "      <td>64756</td>\n",
              "      <td>59</td>\n",
              "      <td>Female</td>\n",
              "      <td>4</td>\n",
              "      <td>Media</td>\n",
              "      <td>5534</td>\n",
              "      <td>Poor</td>\n",
              "      <td>High</td>\n",
              "      <td>Low</td>\n",
              "      <td>3</td>\n",
              "      <td>...</td>\n",
              "      <td>3</td>\n",
              "      <td>Mid</td>\n",
              "      <td>Medium</td>\n",
              "      <td>21.0</td>\n",
              "      <td>No</td>\n",
              "      <td>No</td>\n",
              "      <td>No</td>\n",
              "      <td>Fair</td>\n",
              "      <td>Low</td>\n",
              "      <td>Stayed</td>\n",
              "    </tr>\n",
              "    <tr>\n",
              "      <th>2</th>\n",
              "      <td>30257</td>\n",
              "      <td>24</td>\n",
              "      <td>Female</td>\n",
              "      <td>10</td>\n",
              "      <td>Healthcare</td>\n",
              "      <td>8159</td>\n",
              "      <td>Good</td>\n",
              "      <td>High</td>\n",
              "      <td>Low</td>\n",
              "      <td>0</td>\n",
              "      <td>...</td>\n",
              "      <td>3</td>\n",
              "      <td>Mid</td>\n",
              "      <td>Medium</td>\n",
              "      <td>74.0</td>\n",
              "      <td>No</td>\n",
              "      <td>No</td>\n",
              "      <td>No</td>\n",
              "      <td>Poor</td>\n",
              "      <td>Low</td>\n",
              "      <td>Stayed</td>\n",
              "    </tr>\n",
              "    <tr>\n",
              "      <th>3</th>\n",
              "      <td>65791</td>\n",
              "      <td>36</td>\n",
              "      <td>Female</td>\n",
              "      <td>7</td>\n",
              "      <td>Education</td>\n",
              "      <td>3989</td>\n",
              "      <td>Good</td>\n",
              "      <td>High</td>\n",
              "      <td>High</td>\n",
              "      <td>1</td>\n",
              "      <td>...</td>\n",
              "      <td>2</td>\n",
              "      <td>Mid</td>\n",
              "      <td>Small</td>\n",
              "      <td>50.0</td>\n",
              "      <td>Yes</td>\n",
              "      <td>No</td>\n",
              "      <td>No</td>\n",
              "      <td>Good</td>\n",
              "      <td>Medium</td>\n",
              "      <td>Stayed</td>\n",
              "    </tr>\n",
              "    <tr>\n",
              "      <th>4</th>\n",
              "      <td>65026</td>\n",
              "      <td>56</td>\n",
              "      <td>Male</td>\n",
              "      <td>41</td>\n",
              "      <td>Education</td>\n",
              "      <td>4821</td>\n",
              "      <td>Fair</td>\n",
              "      <td>Very High</td>\n",
              "      <td>Average</td>\n",
              "      <td>0</td>\n",
              "      <td>...</td>\n",
              "      <td>0</td>\n",
              "      <td>Senior</td>\n",
              "      <td>Medium</td>\n",
              "      <td>68.0</td>\n",
              "      <td>No</td>\n",
              "      <td>No</td>\n",
              "      <td>No</td>\n",
              "      <td>Fair</td>\n",
              "      <td>Medium</td>\n",
              "      <td>Stayed</td>\n",
              "    </tr>\n",
              "    <tr>\n",
              "      <th>...</th>\n",
              "      <td>...</td>\n",
              "      <td>...</td>\n",
              "      <td>...</td>\n",
              "      <td>...</td>\n",
              "      <td>...</td>\n",
              "      <td>...</td>\n",
              "      <td>...</td>\n",
              "      <td>...</td>\n",
              "      <td>...</td>\n",
              "      <td>...</td>\n",
              "      <td>...</td>\n",
              "      <td>...</td>\n",
              "      <td>...</td>\n",
              "      <td>...</td>\n",
              "      <td>...</td>\n",
              "      <td>...</td>\n",
              "      <td>...</td>\n",
              "      <td>...</td>\n",
              "      <td>...</td>\n",
              "      <td>...</td>\n",
              "      <td>...</td>\n",
              "    </tr>\n",
              "    <tr>\n",
              "      <th>74493</th>\n",
              "      <td>16243</td>\n",
              "      <td>56</td>\n",
              "      <td>Female</td>\n",
              "      <td>42</td>\n",
              "      <td>Healthcare</td>\n",
              "      <td>7830</td>\n",
              "      <td>Poor</td>\n",
              "      <td>Medium</td>\n",
              "      <td>Average</td>\n",
              "      <td>0</td>\n",
              "      <td>...</td>\n",
              "      <td>0</td>\n",
              "      <td>Senior</td>\n",
              "      <td>Medium</td>\n",
              "      <td>60.0</td>\n",
              "      <td>No</td>\n",
              "      <td>No</td>\n",
              "      <td>No</td>\n",
              "      <td>Poor</td>\n",
              "      <td>Medium</td>\n",
              "      <td>Stayed</td>\n",
              "    </tr>\n",
              "    <tr>\n",
              "      <th>74494</th>\n",
              "      <td>47175</td>\n",
              "      <td>30</td>\n",
              "      <td>Female</td>\n",
              "      <td>15</td>\n",
              "      <td>Education</td>\n",
              "      <td>3856</td>\n",
              "      <td>Good</td>\n",
              "      <td>Medium</td>\n",
              "      <td>Average</td>\n",
              "      <td>2</td>\n",
              "      <td>...</td>\n",
              "      <td>0</td>\n",
              "      <td>Entry</td>\n",
              "      <td>Medium</td>\n",
              "      <td>20.0</td>\n",
              "      <td>No</td>\n",
              "      <td>No</td>\n",
              "      <td>No</td>\n",
              "      <td>Good</td>\n",
              "      <td>Medium</td>\n",
              "      <td>Left</td>\n",
              "    </tr>\n",
              "    <tr>\n",
              "      <th>74495</th>\n",
              "      <td>12409</td>\n",
              "      <td>52</td>\n",
              "      <td>Male</td>\n",
              "      <td>5</td>\n",
              "      <td>Education</td>\n",
              "      <td>5654</td>\n",
              "      <td>Good</td>\n",
              "      <td>Very High</td>\n",
              "      <td>Below Average</td>\n",
              "      <td>0</td>\n",
              "      <td>...</td>\n",
              "      <td>4</td>\n",
              "      <td>Mid</td>\n",
              "      <td>Small</td>\n",
              "      <td>7.0</td>\n",
              "      <td>No</td>\n",
              "      <td>No</td>\n",
              "      <td>No</td>\n",
              "      <td>Good</td>\n",
              "      <td>High</td>\n",
              "      <td>Left</td>\n",
              "    </tr>\n",
              "    <tr>\n",
              "      <th>74496</th>\n",
              "      <td>9554</td>\n",
              "      <td>18</td>\n",
              "      <td>Male</td>\n",
              "      <td>4</td>\n",
              "      <td>Education</td>\n",
              "      <td>5276</td>\n",
              "      <td>Fair</td>\n",
              "      <td>High</td>\n",
              "      <td>Average</td>\n",
              "      <td>0</td>\n",
              "      <td>...</td>\n",
              "      <td>3</td>\n",
              "      <td>Mid</td>\n",
              "      <td>Large</td>\n",
              "      <td>5.0</td>\n",
              "      <td>No</td>\n",
              "      <td>No</td>\n",
              "      <td>No</td>\n",
              "      <td>Poor</td>\n",
              "      <td>High</td>\n",
              "      <td>Stayed</td>\n",
              "    </tr>\n",
              "    <tr>\n",
              "      <th>74497</th>\n",
              "      <td>73042</td>\n",
              "      <td>59</td>\n",
              "      <td>Female</td>\n",
              "      <td>48</td>\n",
              "      <td>Education</td>\n",
              "      <td>3774</td>\n",
              "      <td>Good</td>\n",
              "      <td>High</td>\n",
              "      <td>Below Average</td>\n",
              "      <td>1</td>\n",
              "      <td>...</td>\n",
              "      <td>4</td>\n",
              "      <td>Mid</td>\n",
              "      <td>Large</td>\n",
              "      <td>118.0</td>\n",
              "      <td>No</td>\n",
              "      <td>No</td>\n",
              "      <td>No</td>\n",
              "      <td>Good</td>\n",
              "      <td>Very High</td>\n",
              "      <td>Left</td>\n",
              "    </tr>\n",
              "  </tbody>\n",
              "</table>\n",
              "<p>74498 rows × 24 columns</p>\n",
              "</div>\n",
              "    <div class=\"colab-df-buttons\">\n",
              "\n",
              "  <div class=\"colab-df-container\">\n",
              "    <button class=\"colab-df-convert\" onclick=\"convertToInteractive('df-0b63110b-c495-4f41-8041-a5edd374b62d')\"\n",
              "            title=\"Convert this dataframe to an interactive table.\"\n",
              "            style=\"display:none;\">\n",
              "\n",
              "  <svg xmlns=\"http://www.w3.org/2000/svg\" height=\"24px\" viewBox=\"0 -960 960 960\">\n",
              "    <path d=\"M120-120v-720h720v720H120Zm60-500h600v-160H180v160Zm220 220h160v-160H400v160Zm0 220h160v-160H400v160ZM180-400h160v-160H180v160Zm440 0h160v-160H620v160ZM180-180h160v-160H180v160Zm440 0h160v-160H620v160Z\"/>\n",
              "  </svg>\n",
              "    </button>\n",
              "\n",
              "  <style>\n",
              "    .colab-df-container {\n",
              "      display:flex;\n",
              "      gap: 12px;\n",
              "    }\n",
              "\n",
              "    .colab-df-convert {\n",
              "      background-color: #E8F0FE;\n",
              "      border: none;\n",
              "      border-radius: 50%;\n",
              "      cursor: pointer;\n",
              "      display: none;\n",
              "      fill: #1967D2;\n",
              "      height: 32px;\n",
              "      padding: 0 0 0 0;\n",
              "      width: 32px;\n",
              "    }\n",
              "\n",
              "    .colab-df-convert:hover {\n",
              "      background-color: #E2EBFA;\n",
              "      box-shadow: 0px 1px 2px rgba(60, 64, 67, 0.3), 0px 1px 3px 1px rgba(60, 64, 67, 0.15);\n",
              "      fill: #174EA6;\n",
              "    }\n",
              "\n",
              "    .colab-df-buttons div {\n",
              "      margin-bottom: 4px;\n",
              "    }\n",
              "\n",
              "    [theme=dark] .colab-df-convert {\n",
              "      background-color: #3B4455;\n",
              "      fill: #D2E3FC;\n",
              "    }\n",
              "\n",
              "    [theme=dark] .colab-df-convert:hover {\n",
              "      background-color: #434B5C;\n",
              "      box-shadow: 0px 1px 3px 1px rgba(0, 0, 0, 0.15);\n",
              "      filter: drop-shadow(0px 1px 2px rgba(0, 0, 0, 0.3));\n",
              "      fill: #FFFFFF;\n",
              "    }\n",
              "  </style>\n",
              "\n",
              "    <script>\n",
              "      const buttonEl =\n",
              "        document.querySelector('#df-0b63110b-c495-4f41-8041-a5edd374b62d button.colab-df-convert');\n",
              "      buttonEl.style.display =\n",
              "        google.colab.kernel.accessAllowed ? 'block' : 'none';\n",
              "\n",
              "      async function convertToInteractive(key) {\n",
              "        const element = document.querySelector('#df-0b63110b-c495-4f41-8041-a5edd374b62d');\n",
              "        const dataTable =\n",
              "          await google.colab.kernel.invokeFunction('convertToInteractive',\n",
              "                                                    [key], {});\n",
              "        if (!dataTable) return;\n",
              "\n",
              "        const docLinkHtml = 'Like what you see? Visit the ' +\n",
              "          '<a target=\"_blank\" href=https://colab.research.google.com/notebooks/data_table.ipynb>data table notebook</a>'\n",
              "          + ' to learn more about interactive tables.';\n",
              "        element.innerHTML = '';\n",
              "        dataTable['output_type'] = 'display_data';\n",
              "        await google.colab.output.renderOutput(dataTable, element);\n",
              "        const docLink = document.createElement('div');\n",
              "        docLink.innerHTML = docLinkHtml;\n",
              "        element.appendChild(docLink);\n",
              "      }\n",
              "    </script>\n",
              "  </div>\n",
              "\n",
              "\n",
              "<div id=\"df-f760fe88-6b45-4b81-bfb1-b5b44ac1afb3\">\n",
              "  <button class=\"colab-df-quickchart\" onclick=\"quickchart('df-f760fe88-6b45-4b81-bfb1-b5b44ac1afb3')\"\n",
              "            title=\"Suggest charts\"\n",
              "            style=\"display:none;\">\n",
              "\n",
              "<svg xmlns=\"http://www.w3.org/2000/svg\" height=\"24px\"viewBox=\"0 0 24 24\"\n",
              "     width=\"24px\">\n",
              "    <g>\n",
              "        <path d=\"M19 3H5c-1.1 0-2 .9-2 2v14c0 1.1.9 2 2 2h14c1.1 0 2-.9 2-2V5c0-1.1-.9-2-2-2zM9 17H7v-7h2v7zm4 0h-2V7h2v10zm4 0h-2v-4h2v4z\"/>\n",
              "    </g>\n",
              "</svg>\n",
              "  </button>\n",
              "\n",
              "<style>\n",
              "  .colab-df-quickchart {\n",
              "      --bg-color: #E8F0FE;\n",
              "      --fill-color: #1967D2;\n",
              "      --hover-bg-color: #E2EBFA;\n",
              "      --hover-fill-color: #174EA6;\n",
              "      --disabled-fill-color: #AAA;\n",
              "      --disabled-bg-color: #DDD;\n",
              "  }\n",
              "\n",
              "  [theme=dark] .colab-df-quickchart {\n",
              "      --bg-color: #3B4455;\n",
              "      --fill-color: #D2E3FC;\n",
              "      --hover-bg-color: #434B5C;\n",
              "      --hover-fill-color: #FFFFFF;\n",
              "      --disabled-bg-color: #3B4455;\n",
              "      --disabled-fill-color: #666;\n",
              "  }\n",
              "\n",
              "  .colab-df-quickchart {\n",
              "    background-color: var(--bg-color);\n",
              "    border: none;\n",
              "    border-radius: 50%;\n",
              "    cursor: pointer;\n",
              "    display: none;\n",
              "    fill: var(--fill-color);\n",
              "    height: 32px;\n",
              "    padding: 0;\n",
              "    width: 32px;\n",
              "  }\n",
              "\n",
              "  .colab-df-quickchart:hover {\n",
              "    background-color: var(--hover-bg-color);\n",
              "    box-shadow: 0 1px 2px rgba(60, 64, 67, 0.3), 0 1px 3px 1px rgba(60, 64, 67, 0.15);\n",
              "    fill: var(--button-hover-fill-color);\n",
              "  }\n",
              "\n",
              "  .colab-df-quickchart-complete:disabled,\n",
              "  .colab-df-quickchart-complete:disabled:hover {\n",
              "    background-color: var(--disabled-bg-color);\n",
              "    fill: var(--disabled-fill-color);\n",
              "    box-shadow: none;\n",
              "  }\n",
              "\n",
              "  .colab-df-spinner {\n",
              "    border: 2px solid var(--fill-color);\n",
              "    border-color: transparent;\n",
              "    border-bottom-color: var(--fill-color);\n",
              "    animation:\n",
              "      spin 1s steps(1) infinite;\n",
              "  }\n",
              "\n",
              "  @keyframes spin {\n",
              "    0% {\n",
              "      border-color: transparent;\n",
              "      border-bottom-color: var(--fill-color);\n",
              "      border-left-color: var(--fill-color);\n",
              "    }\n",
              "    20% {\n",
              "      border-color: transparent;\n",
              "      border-left-color: var(--fill-color);\n",
              "      border-top-color: var(--fill-color);\n",
              "    }\n",
              "    30% {\n",
              "      border-color: transparent;\n",
              "      border-left-color: var(--fill-color);\n",
              "      border-top-color: var(--fill-color);\n",
              "      border-right-color: var(--fill-color);\n",
              "    }\n",
              "    40% {\n",
              "      border-color: transparent;\n",
              "      border-right-color: var(--fill-color);\n",
              "      border-top-color: var(--fill-color);\n",
              "    }\n",
              "    60% {\n",
              "      border-color: transparent;\n",
              "      border-right-color: var(--fill-color);\n",
              "    }\n",
              "    80% {\n",
              "      border-color: transparent;\n",
              "      border-right-color: var(--fill-color);\n",
              "      border-bottom-color: var(--fill-color);\n",
              "    }\n",
              "    90% {\n",
              "      border-color: transparent;\n",
              "      border-bottom-color: var(--fill-color);\n",
              "    }\n",
              "  }\n",
              "</style>\n",
              "\n",
              "  <script>\n",
              "    async function quickchart(key) {\n",
              "      const quickchartButtonEl =\n",
              "        document.querySelector('#' + key + ' button');\n",
              "      quickchartButtonEl.disabled = true;  // To prevent multiple clicks.\n",
              "      quickchartButtonEl.classList.add('colab-df-spinner');\n",
              "      try {\n",
              "        const charts = await google.colab.kernel.invokeFunction(\n",
              "            'suggestCharts', [key], {});\n",
              "      } catch (error) {\n",
              "        console.error('Error during call to suggestCharts:', error);\n",
              "      }\n",
              "      quickchartButtonEl.classList.remove('colab-df-spinner');\n",
              "      quickchartButtonEl.classList.add('colab-df-quickchart-complete');\n",
              "    }\n",
              "    (() => {\n",
              "      let quickchartButtonEl =\n",
              "        document.querySelector('#df-f760fe88-6b45-4b81-bfb1-b5b44ac1afb3 button');\n",
              "      quickchartButtonEl.style.display =\n",
              "        google.colab.kernel.accessAllowed ? 'block' : 'none';\n",
              "    })();\n",
              "  </script>\n",
              "</div>\n",
              "\n",
              "  <div id=\"id_7e1cbb48-c3f0-47d7-97ff-00ad05851d32\">\n",
              "    <style>\n",
              "      .colab-df-generate {\n",
              "        background-color: #E8F0FE;\n",
              "        border: none;\n",
              "        border-radius: 50%;\n",
              "        cursor: pointer;\n",
              "        display: none;\n",
              "        fill: #1967D2;\n",
              "        height: 32px;\n",
              "        padding: 0 0 0 0;\n",
              "        width: 32px;\n",
              "      }\n",
              "\n",
              "      .colab-df-generate:hover {\n",
              "        background-color: #E2EBFA;\n",
              "        box-shadow: 0px 1px 2px rgba(60, 64, 67, 0.3), 0px 1px 3px 1px rgba(60, 64, 67, 0.15);\n",
              "        fill: #174EA6;\n",
              "      }\n",
              "\n",
              "      [theme=dark] .colab-df-generate {\n",
              "        background-color: #3B4455;\n",
              "        fill: #D2E3FC;\n",
              "      }\n",
              "\n",
              "      [theme=dark] .colab-df-generate:hover {\n",
              "        background-color: #434B5C;\n",
              "        box-shadow: 0px 1px 3px 1px rgba(0, 0, 0, 0.15);\n",
              "        filter: drop-shadow(0px 1px 2px rgba(0, 0, 0, 0.3));\n",
              "        fill: #FFFFFF;\n",
              "      }\n",
              "    </style>\n",
              "    <button class=\"colab-df-generate\" onclick=\"generateWithVariable('df')\"\n",
              "            title=\"Generate code using this dataframe.\"\n",
              "            style=\"display:none;\">\n",
              "\n",
              "  <svg xmlns=\"http://www.w3.org/2000/svg\" height=\"24px\"viewBox=\"0 0 24 24\"\n",
              "       width=\"24px\">\n",
              "    <path d=\"M7,19H8.4L18.45,9,17,7.55,7,17.6ZM5,21V16.75L18.45,3.32a2,2,0,0,1,2.83,0l1.4,1.43a1.91,1.91,0,0,1,.58,1.4,1.91,1.91,0,0,1-.58,1.4L9.25,21ZM18.45,9,17,7.55Zm-12,3A5.31,5.31,0,0,0,4.9,8.1,5.31,5.31,0,0,0,1,6.5,5.31,5.31,0,0,0,4.9,4.9,5.31,5.31,0,0,0,6.5,1,5.31,5.31,0,0,0,8.1,4.9,5.31,5.31,0,0,0,12,6.5,5.46,5.46,0,0,0,6.5,12Z\"/>\n",
              "  </svg>\n",
              "    </button>\n",
              "    <script>\n",
              "      (() => {\n",
              "      const buttonEl =\n",
              "        document.querySelector('#id_7e1cbb48-c3f0-47d7-97ff-00ad05851d32 button.colab-df-generate');\n",
              "      buttonEl.style.display =\n",
              "        google.colab.kernel.accessAllowed ? 'block' : 'none';\n",
              "\n",
              "      buttonEl.onclick = () => {\n",
              "        google.colab.notebook.generateWithVariable('df');\n",
              "      }\n",
              "      })();\n",
              "    </script>\n",
              "  </div>\n",
              "\n",
              "    </div>\n",
              "  </div>\n"
            ],
            "application/vnd.google.colaboratory.intrinsic+json": {
              "type": "dataframe",
              "variable_name": "df"
            }
          },
          "metadata": {},
          "execution_count": 14
        }
      ],
      "source": [
        "mean_tenure = df['Company Tenure (In Months)'].mean()\n",
        "df['Company Tenure (In Months)'] = df['Company Tenure (In Months)'].fillna(mean_tenure)\n",
        "\n",
        "df"
      ]
    },
    {
      "cell_type": "code",
      "execution_count": null,
      "metadata": {
        "colab": {
          "base_uri": "https://localhost:8080/",
          "height": 495
        },
        "id": "m_Uch7pgxV-M",
        "outputId": "84a23712-9018-446c-e0ee-822034e1bdfa"
      },
      "outputs": [
        {
          "output_type": "execute_result",
          "data": {
            "text/plain": [
              "       Employee ID  Age  Gender  Years at Company    Job Role  Monthly Income  \\\n",
              "0             8410   31    Male                19   Education            5390   \n",
              "1            64756   59  Female                 4       Media            5534   \n",
              "2            30257   24  Female                10  Healthcare            8159   \n",
              "3            65791   36  Female                 7   Education            3989   \n",
              "4            65026   56    Male                41   Education            4821   \n",
              "...            ...  ...     ...               ...         ...             ...   \n",
              "74493        16243   56  Female                42  Healthcare            7830   \n",
              "74494        47175   30  Female                15   Education            3856   \n",
              "74495        12409   52    Male                 5   Education            5654   \n",
              "74496         9554   18    Male                 4   Education            5276   \n",
              "74497        73042   59  Female                48   Education            3774   \n",
              "\n",
              "      Work-Life Balance Job Satisfaction Performance Rating  \\\n",
              "0             Excellent           Medium            Average   \n",
              "1                  Poor             High                Low   \n",
              "2                  Good             High                Low   \n",
              "3                  Good             High               High   \n",
              "4                  Fair        Very High            Average   \n",
              "...                 ...              ...                ...   \n",
              "74493              Poor           Medium            Average   \n",
              "74494              Good           Medium            Average   \n",
              "74495              Good        Very High      Below Average   \n",
              "74496              Fair             High            Average   \n",
              "74497              Good             High      Below Average   \n",
              "\n",
              "       Number of Promotions  ... Number of Dependents  Job Level Company Size  \\\n",
              "0                         2  ...                    0        Mid       Medium   \n",
              "1                         3  ...                    3        Mid       Medium   \n",
              "2                         0  ...                    3        Mid       Medium   \n",
              "3                         1  ...                    2        Mid        Small   \n",
              "4                         0  ...                    0     Senior       Medium   \n",
              "...                     ...  ...                  ...        ...          ...   \n",
              "74493                     0  ...                    0     Senior       Medium   \n",
              "74494                     2  ...                    0      Entry       Medium   \n",
              "74495                     0  ...                    4        Mid        Small   \n",
              "74496                     0  ...                    3        Mid        Large   \n",
              "74497                     1  ...                    4        Mid        Large   \n",
              "\n",
              "      Company Tenure (In Months)  Remote Work Leadership Opportunities  \\\n",
              "0                           89.0           No                       No   \n",
              "1                           21.0           No                       No   \n",
              "2                           74.0           No                       No   \n",
              "3                           50.0          Yes                       No   \n",
              "4                           68.0           No                       No   \n",
              "...                          ...          ...                      ...   \n",
              "74493                       60.0           No                       No   \n",
              "74494                       20.0           No                       No   \n",
              "74495                        7.0           No                       No   \n",
              "74496                        5.0           No                       No   \n",
              "74497                      118.0           No                       No   \n",
              "\n",
              "      Innovation Opportunities  Company Reputation Employee Recognition  \\\n",
              "0                           No           Excellent               Medium   \n",
              "1                           No                Fair                  Low   \n",
              "2                           No                Poor                  Low   \n",
              "3                           No                Good               Medium   \n",
              "4                           No                Fair               Medium   \n",
              "...                        ...                 ...                  ...   \n",
              "74493                       No                Poor               Medium   \n",
              "74494                       No                Good               Medium   \n",
              "74495                       No                Good                 High   \n",
              "74496                       No                Poor                 High   \n",
              "74497                       No                Good            Very High   \n",
              "\n",
              "      Attrition  \n",
              "0        Stayed  \n",
              "1        Stayed  \n",
              "2        Stayed  \n",
              "3        Stayed  \n",
              "4        Stayed  \n",
              "...         ...  \n",
              "74493    Stayed  \n",
              "74494      Left  \n",
              "74495      Left  \n",
              "74496    Stayed  \n",
              "74497      Left  \n",
              "\n",
              "[74498 rows x 24 columns]"
            ],
            "text/html": [
              "\n",
              "  <div id=\"df-a40bdb09-1dd5-43d9-8ae1-df4b718d491d\" class=\"colab-df-container\">\n",
              "    <div>\n",
              "<style scoped>\n",
              "    .dataframe tbody tr th:only-of-type {\n",
              "        vertical-align: middle;\n",
              "    }\n",
              "\n",
              "    .dataframe tbody tr th {\n",
              "        vertical-align: top;\n",
              "    }\n",
              "\n",
              "    .dataframe thead th {\n",
              "        text-align: right;\n",
              "    }\n",
              "</style>\n",
              "<table border=\"1\" class=\"dataframe\">\n",
              "  <thead>\n",
              "    <tr style=\"text-align: right;\">\n",
              "      <th></th>\n",
              "      <th>Employee ID</th>\n",
              "      <th>Age</th>\n",
              "      <th>Gender</th>\n",
              "      <th>Years at Company</th>\n",
              "      <th>Job Role</th>\n",
              "      <th>Monthly Income</th>\n",
              "      <th>Work-Life Balance</th>\n",
              "      <th>Job Satisfaction</th>\n",
              "      <th>Performance Rating</th>\n",
              "      <th>Number of Promotions</th>\n",
              "      <th>...</th>\n",
              "      <th>Number of Dependents</th>\n",
              "      <th>Job Level</th>\n",
              "      <th>Company Size</th>\n",
              "      <th>Company Tenure (In Months)</th>\n",
              "      <th>Remote Work</th>\n",
              "      <th>Leadership Opportunities</th>\n",
              "      <th>Innovation Opportunities</th>\n",
              "      <th>Company Reputation</th>\n",
              "      <th>Employee Recognition</th>\n",
              "      <th>Attrition</th>\n",
              "    </tr>\n",
              "  </thead>\n",
              "  <tbody>\n",
              "    <tr>\n",
              "      <th>0</th>\n",
              "      <td>8410</td>\n",
              "      <td>31</td>\n",
              "      <td>Male</td>\n",
              "      <td>19</td>\n",
              "      <td>Education</td>\n",
              "      <td>5390</td>\n",
              "      <td>Excellent</td>\n",
              "      <td>Medium</td>\n",
              "      <td>Average</td>\n",
              "      <td>2</td>\n",
              "      <td>...</td>\n",
              "      <td>0</td>\n",
              "      <td>Mid</td>\n",
              "      <td>Medium</td>\n",
              "      <td>89.0</td>\n",
              "      <td>No</td>\n",
              "      <td>No</td>\n",
              "      <td>No</td>\n",
              "      <td>Excellent</td>\n",
              "      <td>Medium</td>\n",
              "      <td>Stayed</td>\n",
              "    </tr>\n",
              "    <tr>\n",
              "      <th>1</th>\n",
              "      <td>64756</td>\n",
              "      <td>59</td>\n",
              "      <td>Female</td>\n",
              "      <td>4</td>\n",
              "      <td>Media</td>\n",
              "      <td>5534</td>\n",
              "      <td>Poor</td>\n",
              "      <td>High</td>\n",
              "      <td>Low</td>\n",
              "      <td>3</td>\n",
              "      <td>...</td>\n",
              "      <td>3</td>\n",
              "      <td>Mid</td>\n",
              "      <td>Medium</td>\n",
              "      <td>21.0</td>\n",
              "      <td>No</td>\n",
              "      <td>No</td>\n",
              "      <td>No</td>\n",
              "      <td>Fair</td>\n",
              "      <td>Low</td>\n",
              "      <td>Stayed</td>\n",
              "    </tr>\n",
              "    <tr>\n",
              "      <th>2</th>\n",
              "      <td>30257</td>\n",
              "      <td>24</td>\n",
              "      <td>Female</td>\n",
              "      <td>10</td>\n",
              "      <td>Healthcare</td>\n",
              "      <td>8159</td>\n",
              "      <td>Good</td>\n",
              "      <td>High</td>\n",
              "      <td>Low</td>\n",
              "      <td>0</td>\n",
              "      <td>...</td>\n",
              "      <td>3</td>\n",
              "      <td>Mid</td>\n",
              "      <td>Medium</td>\n",
              "      <td>74.0</td>\n",
              "      <td>No</td>\n",
              "      <td>No</td>\n",
              "      <td>No</td>\n",
              "      <td>Poor</td>\n",
              "      <td>Low</td>\n",
              "      <td>Stayed</td>\n",
              "    </tr>\n",
              "    <tr>\n",
              "      <th>3</th>\n",
              "      <td>65791</td>\n",
              "      <td>36</td>\n",
              "      <td>Female</td>\n",
              "      <td>7</td>\n",
              "      <td>Education</td>\n",
              "      <td>3989</td>\n",
              "      <td>Good</td>\n",
              "      <td>High</td>\n",
              "      <td>High</td>\n",
              "      <td>1</td>\n",
              "      <td>...</td>\n",
              "      <td>2</td>\n",
              "      <td>Mid</td>\n",
              "      <td>Small</td>\n",
              "      <td>50.0</td>\n",
              "      <td>Yes</td>\n",
              "      <td>No</td>\n",
              "      <td>No</td>\n",
              "      <td>Good</td>\n",
              "      <td>Medium</td>\n",
              "      <td>Stayed</td>\n",
              "    </tr>\n",
              "    <tr>\n",
              "      <th>4</th>\n",
              "      <td>65026</td>\n",
              "      <td>56</td>\n",
              "      <td>Male</td>\n",
              "      <td>41</td>\n",
              "      <td>Education</td>\n",
              "      <td>4821</td>\n",
              "      <td>Fair</td>\n",
              "      <td>Very High</td>\n",
              "      <td>Average</td>\n",
              "      <td>0</td>\n",
              "      <td>...</td>\n",
              "      <td>0</td>\n",
              "      <td>Senior</td>\n",
              "      <td>Medium</td>\n",
              "      <td>68.0</td>\n",
              "      <td>No</td>\n",
              "      <td>No</td>\n",
              "      <td>No</td>\n",
              "      <td>Fair</td>\n",
              "      <td>Medium</td>\n",
              "      <td>Stayed</td>\n",
              "    </tr>\n",
              "    <tr>\n",
              "      <th>...</th>\n",
              "      <td>...</td>\n",
              "      <td>...</td>\n",
              "      <td>...</td>\n",
              "      <td>...</td>\n",
              "      <td>...</td>\n",
              "      <td>...</td>\n",
              "      <td>...</td>\n",
              "      <td>...</td>\n",
              "      <td>...</td>\n",
              "      <td>...</td>\n",
              "      <td>...</td>\n",
              "      <td>...</td>\n",
              "      <td>...</td>\n",
              "      <td>...</td>\n",
              "      <td>...</td>\n",
              "      <td>...</td>\n",
              "      <td>...</td>\n",
              "      <td>...</td>\n",
              "      <td>...</td>\n",
              "      <td>...</td>\n",
              "      <td>...</td>\n",
              "    </tr>\n",
              "    <tr>\n",
              "      <th>74493</th>\n",
              "      <td>16243</td>\n",
              "      <td>56</td>\n",
              "      <td>Female</td>\n",
              "      <td>42</td>\n",
              "      <td>Healthcare</td>\n",
              "      <td>7830</td>\n",
              "      <td>Poor</td>\n",
              "      <td>Medium</td>\n",
              "      <td>Average</td>\n",
              "      <td>0</td>\n",
              "      <td>...</td>\n",
              "      <td>0</td>\n",
              "      <td>Senior</td>\n",
              "      <td>Medium</td>\n",
              "      <td>60.0</td>\n",
              "      <td>No</td>\n",
              "      <td>No</td>\n",
              "      <td>No</td>\n",
              "      <td>Poor</td>\n",
              "      <td>Medium</td>\n",
              "      <td>Stayed</td>\n",
              "    </tr>\n",
              "    <tr>\n",
              "      <th>74494</th>\n",
              "      <td>47175</td>\n",
              "      <td>30</td>\n",
              "      <td>Female</td>\n",
              "      <td>15</td>\n",
              "      <td>Education</td>\n",
              "      <td>3856</td>\n",
              "      <td>Good</td>\n",
              "      <td>Medium</td>\n",
              "      <td>Average</td>\n",
              "      <td>2</td>\n",
              "      <td>...</td>\n",
              "      <td>0</td>\n",
              "      <td>Entry</td>\n",
              "      <td>Medium</td>\n",
              "      <td>20.0</td>\n",
              "      <td>No</td>\n",
              "      <td>No</td>\n",
              "      <td>No</td>\n",
              "      <td>Good</td>\n",
              "      <td>Medium</td>\n",
              "      <td>Left</td>\n",
              "    </tr>\n",
              "    <tr>\n",
              "      <th>74495</th>\n",
              "      <td>12409</td>\n",
              "      <td>52</td>\n",
              "      <td>Male</td>\n",
              "      <td>5</td>\n",
              "      <td>Education</td>\n",
              "      <td>5654</td>\n",
              "      <td>Good</td>\n",
              "      <td>Very High</td>\n",
              "      <td>Below Average</td>\n",
              "      <td>0</td>\n",
              "      <td>...</td>\n",
              "      <td>4</td>\n",
              "      <td>Mid</td>\n",
              "      <td>Small</td>\n",
              "      <td>7.0</td>\n",
              "      <td>No</td>\n",
              "      <td>No</td>\n",
              "      <td>No</td>\n",
              "      <td>Good</td>\n",
              "      <td>High</td>\n",
              "      <td>Left</td>\n",
              "    </tr>\n",
              "    <tr>\n",
              "      <th>74496</th>\n",
              "      <td>9554</td>\n",
              "      <td>18</td>\n",
              "      <td>Male</td>\n",
              "      <td>4</td>\n",
              "      <td>Education</td>\n",
              "      <td>5276</td>\n",
              "      <td>Fair</td>\n",
              "      <td>High</td>\n",
              "      <td>Average</td>\n",
              "      <td>0</td>\n",
              "      <td>...</td>\n",
              "      <td>3</td>\n",
              "      <td>Mid</td>\n",
              "      <td>Large</td>\n",
              "      <td>5.0</td>\n",
              "      <td>No</td>\n",
              "      <td>No</td>\n",
              "      <td>No</td>\n",
              "      <td>Poor</td>\n",
              "      <td>High</td>\n",
              "      <td>Stayed</td>\n",
              "    </tr>\n",
              "    <tr>\n",
              "      <th>74497</th>\n",
              "      <td>73042</td>\n",
              "      <td>59</td>\n",
              "      <td>Female</td>\n",
              "      <td>48</td>\n",
              "      <td>Education</td>\n",
              "      <td>3774</td>\n",
              "      <td>Good</td>\n",
              "      <td>High</td>\n",
              "      <td>Below Average</td>\n",
              "      <td>1</td>\n",
              "      <td>...</td>\n",
              "      <td>4</td>\n",
              "      <td>Mid</td>\n",
              "      <td>Large</td>\n",
              "      <td>118.0</td>\n",
              "      <td>No</td>\n",
              "      <td>No</td>\n",
              "      <td>No</td>\n",
              "      <td>Good</td>\n",
              "      <td>Very High</td>\n",
              "      <td>Left</td>\n",
              "    </tr>\n",
              "  </tbody>\n",
              "</table>\n",
              "<p>74498 rows × 24 columns</p>\n",
              "</div>\n",
              "    <div class=\"colab-df-buttons\">\n",
              "\n",
              "  <div class=\"colab-df-container\">\n",
              "    <button class=\"colab-df-convert\" onclick=\"convertToInteractive('df-a40bdb09-1dd5-43d9-8ae1-df4b718d491d')\"\n",
              "            title=\"Convert this dataframe to an interactive table.\"\n",
              "            style=\"display:none;\">\n",
              "\n",
              "  <svg xmlns=\"http://www.w3.org/2000/svg\" height=\"24px\" viewBox=\"0 -960 960 960\">\n",
              "    <path d=\"M120-120v-720h720v720H120Zm60-500h600v-160H180v160Zm220 220h160v-160H400v160Zm0 220h160v-160H400v160ZM180-400h160v-160H180v160Zm440 0h160v-160H620v160ZM180-180h160v-160H180v160Zm440 0h160v-160H620v160Z\"/>\n",
              "  </svg>\n",
              "    </button>\n",
              "\n",
              "  <style>\n",
              "    .colab-df-container {\n",
              "      display:flex;\n",
              "      gap: 12px;\n",
              "    }\n",
              "\n",
              "    .colab-df-convert {\n",
              "      background-color: #E8F0FE;\n",
              "      border: none;\n",
              "      border-radius: 50%;\n",
              "      cursor: pointer;\n",
              "      display: none;\n",
              "      fill: #1967D2;\n",
              "      height: 32px;\n",
              "      padding: 0 0 0 0;\n",
              "      width: 32px;\n",
              "    }\n",
              "\n",
              "    .colab-df-convert:hover {\n",
              "      background-color: #E2EBFA;\n",
              "      box-shadow: 0px 1px 2px rgba(60, 64, 67, 0.3), 0px 1px 3px 1px rgba(60, 64, 67, 0.15);\n",
              "      fill: #174EA6;\n",
              "    }\n",
              "\n",
              "    .colab-df-buttons div {\n",
              "      margin-bottom: 4px;\n",
              "    }\n",
              "\n",
              "    [theme=dark] .colab-df-convert {\n",
              "      background-color: #3B4455;\n",
              "      fill: #D2E3FC;\n",
              "    }\n",
              "\n",
              "    [theme=dark] .colab-df-convert:hover {\n",
              "      background-color: #434B5C;\n",
              "      box-shadow: 0px 1px 3px 1px rgba(0, 0, 0, 0.15);\n",
              "      filter: drop-shadow(0px 1px 2px rgba(0, 0, 0, 0.3));\n",
              "      fill: #FFFFFF;\n",
              "    }\n",
              "  </style>\n",
              "\n",
              "    <script>\n",
              "      const buttonEl =\n",
              "        document.querySelector('#df-a40bdb09-1dd5-43d9-8ae1-df4b718d491d button.colab-df-convert');\n",
              "      buttonEl.style.display =\n",
              "        google.colab.kernel.accessAllowed ? 'block' : 'none';\n",
              "\n",
              "      async function convertToInteractive(key) {\n",
              "        const element = document.querySelector('#df-a40bdb09-1dd5-43d9-8ae1-df4b718d491d');\n",
              "        const dataTable =\n",
              "          await google.colab.kernel.invokeFunction('convertToInteractive',\n",
              "                                                    [key], {});\n",
              "        if (!dataTable) return;\n",
              "\n",
              "        const docLinkHtml = 'Like what you see? Visit the ' +\n",
              "          '<a target=\"_blank\" href=https://colab.research.google.com/notebooks/data_table.ipynb>data table notebook</a>'\n",
              "          + ' to learn more about interactive tables.';\n",
              "        element.innerHTML = '';\n",
              "        dataTable['output_type'] = 'display_data';\n",
              "        await google.colab.output.renderOutput(dataTable, element);\n",
              "        const docLink = document.createElement('div');\n",
              "        docLink.innerHTML = docLinkHtml;\n",
              "        element.appendChild(docLink);\n",
              "      }\n",
              "    </script>\n",
              "  </div>\n",
              "\n",
              "\n",
              "<div id=\"df-550511df-fe89-41c0-9ff7-03b305567389\">\n",
              "  <button class=\"colab-df-quickchart\" onclick=\"quickchart('df-550511df-fe89-41c0-9ff7-03b305567389')\"\n",
              "            title=\"Suggest charts\"\n",
              "            style=\"display:none;\">\n",
              "\n",
              "<svg xmlns=\"http://www.w3.org/2000/svg\" height=\"24px\"viewBox=\"0 0 24 24\"\n",
              "     width=\"24px\">\n",
              "    <g>\n",
              "        <path d=\"M19 3H5c-1.1 0-2 .9-2 2v14c0 1.1.9 2 2 2h14c1.1 0 2-.9 2-2V5c0-1.1-.9-2-2-2zM9 17H7v-7h2v7zm4 0h-2V7h2v10zm4 0h-2v-4h2v4z\"/>\n",
              "    </g>\n",
              "</svg>\n",
              "  </button>\n",
              "\n",
              "<style>\n",
              "  .colab-df-quickchart {\n",
              "      --bg-color: #E8F0FE;\n",
              "      --fill-color: #1967D2;\n",
              "      --hover-bg-color: #E2EBFA;\n",
              "      --hover-fill-color: #174EA6;\n",
              "      --disabled-fill-color: #AAA;\n",
              "      --disabled-bg-color: #DDD;\n",
              "  }\n",
              "\n",
              "  [theme=dark] .colab-df-quickchart {\n",
              "      --bg-color: #3B4455;\n",
              "      --fill-color: #D2E3FC;\n",
              "      --hover-bg-color: #434B5C;\n",
              "      --hover-fill-color: #FFFFFF;\n",
              "      --disabled-bg-color: #3B4455;\n",
              "      --disabled-fill-color: #666;\n",
              "  }\n",
              "\n",
              "  .colab-df-quickchart {\n",
              "    background-color: var(--bg-color);\n",
              "    border: none;\n",
              "    border-radius: 50%;\n",
              "    cursor: pointer;\n",
              "    display: none;\n",
              "    fill: var(--fill-color);\n",
              "    height: 32px;\n",
              "    padding: 0;\n",
              "    width: 32px;\n",
              "  }\n",
              "\n",
              "  .colab-df-quickchart:hover {\n",
              "    background-color: var(--hover-bg-color);\n",
              "    box-shadow: 0 1px 2px rgba(60, 64, 67, 0.3), 0 1px 3px 1px rgba(60, 64, 67, 0.15);\n",
              "    fill: var(--button-hover-fill-color);\n",
              "  }\n",
              "\n",
              "  .colab-df-quickchart-complete:disabled,\n",
              "  .colab-df-quickchart-complete:disabled:hover {\n",
              "    background-color: var(--disabled-bg-color);\n",
              "    fill: var(--disabled-fill-color);\n",
              "    box-shadow: none;\n",
              "  }\n",
              "\n",
              "  .colab-df-spinner {\n",
              "    border: 2px solid var(--fill-color);\n",
              "    border-color: transparent;\n",
              "    border-bottom-color: var(--fill-color);\n",
              "    animation:\n",
              "      spin 1s steps(1) infinite;\n",
              "  }\n",
              "\n",
              "  @keyframes spin {\n",
              "    0% {\n",
              "      border-color: transparent;\n",
              "      border-bottom-color: var(--fill-color);\n",
              "      border-left-color: var(--fill-color);\n",
              "    }\n",
              "    20% {\n",
              "      border-color: transparent;\n",
              "      border-left-color: var(--fill-color);\n",
              "      border-top-color: var(--fill-color);\n",
              "    }\n",
              "    30% {\n",
              "      border-color: transparent;\n",
              "      border-left-color: var(--fill-color);\n",
              "      border-top-color: var(--fill-color);\n",
              "      border-right-color: var(--fill-color);\n",
              "    }\n",
              "    40% {\n",
              "      border-color: transparent;\n",
              "      border-right-color: var(--fill-color);\n",
              "      border-top-color: var(--fill-color);\n",
              "    }\n",
              "    60% {\n",
              "      border-color: transparent;\n",
              "      border-right-color: var(--fill-color);\n",
              "    }\n",
              "    80% {\n",
              "      border-color: transparent;\n",
              "      border-right-color: var(--fill-color);\n",
              "      border-bottom-color: var(--fill-color);\n",
              "    }\n",
              "    90% {\n",
              "      border-color: transparent;\n",
              "      border-bottom-color: var(--fill-color);\n",
              "    }\n",
              "  }\n",
              "</style>\n",
              "\n",
              "  <script>\n",
              "    async function quickchart(key) {\n",
              "      const quickchartButtonEl =\n",
              "        document.querySelector('#' + key + ' button');\n",
              "      quickchartButtonEl.disabled = true;  // To prevent multiple clicks.\n",
              "      quickchartButtonEl.classList.add('colab-df-spinner');\n",
              "      try {\n",
              "        const charts = await google.colab.kernel.invokeFunction(\n",
              "            'suggestCharts', [key], {});\n",
              "      } catch (error) {\n",
              "        console.error('Error during call to suggestCharts:', error);\n",
              "      }\n",
              "      quickchartButtonEl.classList.remove('colab-df-spinner');\n",
              "      quickchartButtonEl.classList.add('colab-df-quickchart-complete');\n",
              "    }\n",
              "    (() => {\n",
              "      let quickchartButtonEl =\n",
              "        document.querySelector('#df-550511df-fe89-41c0-9ff7-03b305567389 button');\n",
              "      quickchartButtonEl.style.display =\n",
              "        google.colab.kernel.accessAllowed ? 'block' : 'none';\n",
              "    })();\n",
              "  </script>\n",
              "</div>\n",
              "\n",
              "  <div id=\"id_c6d5d7e5-e85d-44db-aae4-f8e284984fdf\">\n",
              "    <style>\n",
              "      .colab-df-generate {\n",
              "        background-color: #E8F0FE;\n",
              "        border: none;\n",
              "        border-radius: 50%;\n",
              "        cursor: pointer;\n",
              "        display: none;\n",
              "        fill: #1967D2;\n",
              "        height: 32px;\n",
              "        padding: 0 0 0 0;\n",
              "        width: 32px;\n",
              "      }\n",
              "\n",
              "      .colab-df-generate:hover {\n",
              "        background-color: #E2EBFA;\n",
              "        box-shadow: 0px 1px 2px rgba(60, 64, 67, 0.3), 0px 1px 3px 1px rgba(60, 64, 67, 0.15);\n",
              "        fill: #174EA6;\n",
              "      }\n",
              "\n",
              "      [theme=dark] .colab-df-generate {\n",
              "        background-color: #3B4455;\n",
              "        fill: #D2E3FC;\n",
              "      }\n",
              "\n",
              "      [theme=dark] .colab-df-generate:hover {\n",
              "        background-color: #434B5C;\n",
              "        box-shadow: 0px 1px 3px 1px rgba(0, 0, 0, 0.15);\n",
              "        filter: drop-shadow(0px 1px 2px rgba(0, 0, 0, 0.3));\n",
              "        fill: #FFFFFF;\n",
              "      }\n",
              "    </style>\n",
              "    <button class=\"colab-df-generate\" onclick=\"generateWithVariable('df')\"\n",
              "            title=\"Generate code using this dataframe.\"\n",
              "            style=\"display:none;\">\n",
              "\n",
              "  <svg xmlns=\"http://www.w3.org/2000/svg\" height=\"24px\"viewBox=\"0 0 24 24\"\n",
              "       width=\"24px\">\n",
              "    <path d=\"M7,19H8.4L18.45,9,17,7.55,7,17.6ZM5,21V16.75L18.45,3.32a2,2,0,0,1,2.83,0l1.4,1.43a1.91,1.91,0,0,1,.58,1.4,1.91,1.91,0,0,1-.58,1.4L9.25,21ZM18.45,9,17,7.55Zm-12,3A5.31,5.31,0,0,0,4.9,8.1,5.31,5.31,0,0,0,1,6.5,5.31,5.31,0,0,0,4.9,4.9,5.31,5.31,0,0,0,6.5,1,5.31,5.31,0,0,0,8.1,4.9,5.31,5.31,0,0,0,12,6.5,5.46,5.46,0,0,0,6.5,12Z\"/>\n",
              "  </svg>\n",
              "    </button>\n",
              "    <script>\n",
              "      (() => {\n",
              "      const buttonEl =\n",
              "        document.querySelector('#id_c6d5d7e5-e85d-44db-aae4-f8e284984fdf button.colab-df-generate');\n",
              "      buttonEl.style.display =\n",
              "        google.colab.kernel.accessAllowed ? 'block' : 'none';\n",
              "\n",
              "      buttonEl.onclick = () => {\n",
              "        google.colab.notebook.generateWithVariable('df');\n",
              "      }\n",
              "      })();\n",
              "    </script>\n",
              "  </div>\n",
              "\n",
              "    </div>\n",
              "  </div>\n"
            ],
            "application/vnd.google.colaboratory.intrinsic+json": {
              "type": "dataframe",
              "variable_name": "df"
            }
          },
          "metadata": {},
          "execution_count": 15
        }
      ],
      "source": [
        "Dfh=df['Distance from Home'].mean()\n",
        "df['Distance from Home']=df['Distance from Home'].fillna(Dfh)\n",
        "df"
      ]
    },
    {
      "cell_type": "code",
      "execution_count": null,
      "metadata": {
        "colab": {
          "base_uri": "https://localhost:8080/",
          "height": 836
        },
        "id": "9uX_CY8CxV8D",
        "outputId": "e23d1032-1f2b-4e6e-e38b-a074e9f44859"
      },
      "outputs": [
        {
          "output_type": "execute_result",
          "data": {
            "text/plain": [
              "Employee ID                   0\n",
              "Age                           0\n",
              "Gender                        0\n",
              "Years at Company              0\n",
              "Job Role                      0\n",
              "Monthly Income                0\n",
              "Work-Life Balance             0\n",
              "Job Satisfaction              0\n",
              "Performance Rating            0\n",
              "Number of Promotions          0\n",
              "Overtime                      0\n",
              "Distance from Home            0\n",
              "Education Level               0\n",
              "Marital Status                0\n",
              "Number of Dependents          0\n",
              "Job Level                     0\n",
              "Company Size                  0\n",
              "Company Tenure (In Months)    0\n",
              "Remote Work                   0\n",
              "Leadership Opportunities      0\n",
              "Innovation Opportunities      0\n",
              "Company Reputation            0\n",
              "Employee Recognition          0\n",
              "Attrition                     0\n",
              "dtype: int64"
            ],
            "text/html": [
              "<div>\n",
              "<style scoped>\n",
              "    .dataframe tbody tr th:only-of-type {\n",
              "        vertical-align: middle;\n",
              "    }\n",
              "\n",
              "    .dataframe tbody tr th {\n",
              "        vertical-align: top;\n",
              "    }\n",
              "\n",
              "    .dataframe thead th {\n",
              "        text-align: right;\n",
              "    }\n",
              "</style>\n",
              "<table border=\"1\" class=\"dataframe\">\n",
              "  <thead>\n",
              "    <tr style=\"text-align: right;\">\n",
              "      <th></th>\n",
              "      <th>0</th>\n",
              "    </tr>\n",
              "  </thead>\n",
              "  <tbody>\n",
              "    <tr>\n",
              "      <th>Employee ID</th>\n",
              "      <td>0</td>\n",
              "    </tr>\n",
              "    <tr>\n",
              "      <th>Age</th>\n",
              "      <td>0</td>\n",
              "    </tr>\n",
              "    <tr>\n",
              "      <th>Gender</th>\n",
              "      <td>0</td>\n",
              "    </tr>\n",
              "    <tr>\n",
              "      <th>Years at Company</th>\n",
              "      <td>0</td>\n",
              "    </tr>\n",
              "    <tr>\n",
              "      <th>Job Role</th>\n",
              "      <td>0</td>\n",
              "    </tr>\n",
              "    <tr>\n",
              "      <th>Monthly Income</th>\n",
              "      <td>0</td>\n",
              "    </tr>\n",
              "    <tr>\n",
              "      <th>Work-Life Balance</th>\n",
              "      <td>0</td>\n",
              "    </tr>\n",
              "    <tr>\n",
              "      <th>Job Satisfaction</th>\n",
              "      <td>0</td>\n",
              "    </tr>\n",
              "    <tr>\n",
              "      <th>Performance Rating</th>\n",
              "      <td>0</td>\n",
              "    </tr>\n",
              "    <tr>\n",
              "      <th>Number of Promotions</th>\n",
              "      <td>0</td>\n",
              "    </tr>\n",
              "    <tr>\n",
              "      <th>Overtime</th>\n",
              "      <td>0</td>\n",
              "    </tr>\n",
              "    <tr>\n",
              "      <th>Distance from Home</th>\n",
              "      <td>0</td>\n",
              "    </tr>\n",
              "    <tr>\n",
              "      <th>Education Level</th>\n",
              "      <td>0</td>\n",
              "    </tr>\n",
              "    <tr>\n",
              "      <th>Marital Status</th>\n",
              "      <td>0</td>\n",
              "    </tr>\n",
              "    <tr>\n",
              "      <th>Number of Dependents</th>\n",
              "      <td>0</td>\n",
              "    </tr>\n",
              "    <tr>\n",
              "      <th>Job Level</th>\n",
              "      <td>0</td>\n",
              "    </tr>\n",
              "    <tr>\n",
              "      <th>Company Size</th>\n",
              "      <td>0</td>\n",
              "    </tr>\n",
              "    <tr>\n",
              "      <th>Company Tenure (In Months)</th>\n",
              "      <td>0</td>\n",
              "    </tr>\n",
              "    <tr>\n",
              "      <th>Remote Work</th>\n",
              "      <td>0</td>\n",
              "    </tr>\n",
              "    <tr>\n",
              "      <th>Leadership Opportunities</th>\n",
              "      <td>0</td>\n",
              "    </tr>\n",
              "    <tr>\n",
              "      <th>Innovation Opportunities</th>\n",
              "      <td>0</td>\n",
              "    </tr>\n",
              "    <tr>\n",
              "      <th>Company Reputation</th>\n",
              "      <td>0</td>\n",
              "    </tr>\n",
              "    <tr>\n",
              "      <th>Employee Recognition</th>\n",
              "      <td>0</td>\n",
              "    </tr>\n",
              "    <tr>\n",
              "      <th>Attrition</th>\n",
              "      <td>0</td>\n",
              "    </tr>\n",
              "  </tbody>\n",
              "</table>\n",
              "</div><br><label><b>dtype:</b> int64</label>"
            ]
          },
          "metadata": {},
          "execution_count": 16
        }
      ],
      "source": [
        "df.isna().sum()"
      ]
    },
    {
      "cell_type": "markdown",
      "source": [
        "**DROP COLUMNS**"
      ],
      "metadata": {
        "id": "eg76D0lSlemx"
      }
    },
    {
      "cell_type": "code",
      "execution_count": null,
      "metadata": {
        "id": "7Y7O5xGIxV6N"
      },
      "outputs": [],
      "source": [
        "drop_columns = [\n",
        "    'Employee Recognition', 'Employee ID', 'Company Size',\n",
        "    'Performance Rating', 'Company Reputation', 'Job Satisfaction']\n",
        "df.drop(columns=drop_columns, inplace=True)"
      ]
    },
    {
      "cell_type": "code",
      "execution_count": null,
      "metadata": {
        "colab": {
          "base_uri": "https://localhost:8080/"
        },
        "id": "otWX1K3GxV4b",
        "outputId": "4b347708-67b5-4c17-ded1-8597eeb9bd92"
      },
      "outputs": [
        {
          "output_type": "execute_result",
          "data": {
            "text/plain": [
              "Index(['Age', 'Gender', 'Years at Company', 'Job Role', 'Monthly Income',\n",
              "       'Work-Life Balance', 'Number of Promotions', 'Overtime',\n",
              "       'Distance from Home', 'Education Level', 'Marital Status',\n",
              "       'Number of Dependents', 'Job Level', 'Company Tenure (In Months)',\n",
              "       'Remote Work', 'Leadership Opportunities', 'Innovation Opportunities',\n",
              "       'Attrition'],\n",
              "      dtype='object')"
            ]
          },
          "metadata": {},
          "execution_count": 18
        }
      ],
      "source": [
        "df.columns\n"
      ]
    },
    {
      "cell_type": "code",
      "execution_count": null,
      "metadata": {
        "colab": {
          "base_uri": "https://localhost:8080/"
        },
        "id": "F1-9TbOSxV2j",
        "outputId": "53d16bcb-9e72-444b-ea72-f73885835edf"
      },
      "outputs": [
        {
          "output_type": "stream",
          "name": "stdout",
          "text": [
            "Age [31 59 24 36 56 38 47 48 57 30 29 40 19 33 49 51 39 54 23 45 42 53 37 34\n",
            " 25 41 55 21 28 26 52 50 27 58 43 35 46 44 20 18 22 32]\n",
            "Gender ['Male' 'Female']\n",
            "Years at Company [19  4 10  7 41  3 23 16 44  1 12  6 38 22 30  9 37 33 13  5 21 32 34 11\n",
            "  2 18 27 17 36  8 28 35 14 24 40 15 45 39 20 43 26 29 46 42 25 31 47 48\n",
            " 49 50 51]\n",
            "Job Role ['Education' 'Media' 'Healthcare' 'Technology' 'Finance']\n",
            "Monthly Income [ 5390  5534  8159 ... 11854 11558 12651]\n",
            "Work-Life Balance ['Excellent' 'Poor' 'Good' 'Fair']\n",
            "Number of Promotions [2 3 0 1 4]\n",
            "Overtime ['No' 'Yes']\n",
            "Distance from Home [22.      21.      11.      27.      71.      37.      75.       5.\n",
            " 39.      57.      51.      26.      78.      30.      98.      48.\n",
            " 17.      86.      60.      10.      18.      49.99208 92.      55.\n",
            " 73.      38.      69.      53.       7.       6.      50.      94.\n",
            " 54.       9.      87.      13.      65.      82.      15.      41.\n",
            " 44.      29.      14.      32.      12.      43.      64.      20.\n",
            " 70.      31.      49.      25.      79.      83.      61.      77.\n",
            " 96.      23.      85.       3.      88.      99.      40.      47.\n",
            " 89.      34.      59.      28.      33.      52.      80.      72.\n",
            " 56.      97.      58.      76.       4.       8.      35.      95.\n",
            "  1.      67.       2.      24.      93.      68.      63.      62.\n",
            " 74.      91.      45.      42.      90.      36.      66.      16.\n",
            " 81.      84.      46.      19.     ]\n",
            "Education Level ['Associate Degree' 'Masterâ€™s Degree' 'Bachelorâ€™s Degree'\n",
            " 'High School' 'PhD']\n",
            "Marital Status ['Married' 'Divorced' 'Single']\n",
            "Number of Dependents [ 0  3  2  4  1  5 10  6 15]\n",
            "Job Level ['Mid' 'Senior' 'Entry']\n",
            "Company Tenure (In Months) [ 89.          21.          74.          50.          68.\n",
            "  47.          93.          88.          75.          55.70970784\n",
            "  67.          91.          86.          25.          49.\n",
            "  44.          76.          33.          98.          31.\n",
            "  64.          85.          29.          19.          30.\n",
            "  83.          65.          62.          70.          73.\n",
            "  87.          12.          41.          78.          35.\n",
            "  57.         114.          80.          17.          58.\n",
            "  11.          18.          81.           6.          77.\n",
            "  32.          45.          53.          56.          36.\n",
            "  39.          54.          63.          55.          26.\n",
            "   5.          43.          84.         102.          60.\n",
            "  20.          40.          28.          79.          82.\n",
            "  97.          14.          95.          48.          34.\n",
            "   4.          38.          52.          37.          96.\n",
            "  61.          15.          71.           2.          66.\n",
            "  51.          22.         111.          69.         100.\n",
            "  27.          13.          16.           3.         106.\n",
            "   9.          99.          90.          24.          10.\n",
            "  46.         105.         103.          59.          92.\n",
            "  72.         109.         113.          42.          23.\n",
            " 112.         107.         108.         104.           7.\n",
            "  94.         101.         115.           8.         117.\n",
            " 116.         110.         123.         120.         124.\n",
            " 118.         125.         127.         121.         122.\n",
            " 119.         126.         128.        ]\n",
            "Remote Work ['No' 'Yes']\n",
            "Leadership Opportunities ['No' 'Yes']\n",
            "Innovation Opportunities ['No' 'Yes']\n",
            "Attrition ['Stayed' 'Left']\n"
          ]
        }
      ],
      "source": [
        "for i in df.columns:\n",
        "  print(i,df[i].unique())"
      ]
    },
    {
      "cell_type": "code",
      "execution_count": null,
      "metadata": {
        "colab": {
          "base_uri": "https://localhost:8080/",
          "height": 648
        },
        "id": "e9gcVBgrxV0q",
        "outputId": "485fd310-6e59-4549-ba25-9237306114ec"
      },
      "outputs": [
        {
          "output_type": "execute_result",
          "data": {
            "text/plain": [
              "Age                           74498\n",
              "Gender                        74498\n",
              "Years at Company              74498\n",
              "Job Role                      74498\n",
              "Monthly Income                74498\n",
              "Work-Life Balance             74498\n",
              "Number of Promotions          74498\n",
              "Overtime                      74498\n",
              "Distance from Home            74498\n",
              "Education Level               74498\n",
              "Marital Status                74498\n",
              "Number of Dependents          74498\n",
              "Job Level                     74498\n",
              "Company Tenure (In Months)    74498\n",
              "Remote Work                   74498\n",
              "Leadership Opportunities      74498\n",
              "Innovation Opportunities      74498\n",
              "Attrition                     74498\n",
              "dtype: int64"
            ],
            "text/html": [
              "<div>\n",
              "<style scoped>\n",
              "    .dataframe tbody tr th:only-of-type {\n",
              "        vertical-align: middle;\n",
              "    }\n",
              "\n",
              "    .dataframe tbody tr th {\n",
              "        vertical-align: top;\n",
              "    }\n",
              "\n",
              "    .dataframe thead th {\n",
              "        text-align: right;\n",
              "    }\n",
              "</style>\n",
              "<table border=\"1\" class=\"dataframe\">\n",
              "  <thead>\n",
              "    <tr style=\"text-align: right;\">\n",
              "      <th></th>\n",
              "      <th>0</th>\n",
              "    </tr>\n",
              "  </thead>\n",
              "  <tbody>\n",
              "    <tr>\n",
              "      <th>Age</th>\n",
              "      <td>74498</td>\n",
              "    </tr>\n",
              "    <tr>\n",
              "      <th>Gender</th>\n",
              "      <td>74498</td>\n",
              "    </tr>\n",
              "    <tr>\n",
              "      <th>Years at Company</th>\n",
              "      <td>74498</td>\n",
              "    </tr>\n",
              "    <tr>\n",
              "      <th>Job Role</th>\n",
              "      <td>74498</td>\n",
              "    </tr>\n",
              "    <tr>\n",
              "      <th>Monthly Income</th>\n",
              "      <td>74498</td>\n",
              "    </tr>\n",
              "    <tr>\n",
              "      <th>Work-Life Balance</th>\n",
              "      <td>74498</td>\n",
              "    </tr>\n",
              "    <tr>\n",
              "      <th>Number of Promotions</th>\n",
              "      <td>74498</td>\n",
              "    </tr>\n",
              "    <tr>\n",
              "      <th>Overtime</th>\n",
              "      <td>74498</td>\n",
              "    </tr>\n",
              "    <tr>\n",
              "      <th>Distance from Home</th>\n",
              "      <td>74498</td>\n",
              "    </tr>\n",
              "    <tr>\n",
              "      <th>Education Level</th>\n",
              "      <td>74498</td>\n",
              "    </tr>\n",
              "    <tr>\n",
              "      <th>Marital Status</th>\n",
              "      <td>74498</td>\n",
              "    </tr>\n",
              "    <tr>\n",
              "      <th>Number of Dependents</th>\n",
              "      <td>74498</td>\n",
              "    </tr>\n",
              "    <tr>\n",
              "      <th>Job Level</th>\n",
              "      <td>74498</td>\n",
              "    </tr>\n",
              "    <tr>\n",
              "      <th>Company Tenure (In Months)</th>\n",
              "      <td>74498</td>\n",
              "    </tr>\n",
              "    <tr>\n",
              "      <th>Remote Work</th>\n",
              "      <td>74498</td>\n",
              "    </tr>\n",
              "    <tr>\n",
              "      <th>Leadership Opportunities</th>\n",
              "      <td>74498</td>\n",
              "    </tr>\n",
              "    <tr>\n",
              "      <th>Innovation Opportunities</th>\n",
              "      <td>74498</td>\n",
              "    </tr>\n",
              "    <tr>\n",
              "      <th>Attrition</th>\n",
              "      <td>74498</td>\n",
              "    </tr>\n",
              "  </tbody>\n",
              "</table>\n",
              "</div><br><label><b>dtype:</b> int64</label>"
            ]
          },
          "metadata": {},
          "execution_count": 20
        }
      ],
      "source": [
        "df.notna().sum()"
      ]
    },
    {
      "cell_type": "code",
      "execution_count": null,
      "metadata": {
        "colab": {
          "base_uri": "https://localhost:8080/"
        },
        "id": "e5eJGRhNxVyz",
        "outputId": "2332337d-f065-4609-c5d2-242e97a91eb2"
      },
      "outputs": [
        {
          "output_type": "execute_result",
          "data": {
            "text/plain": [
              "array(['Associate Degree', 'Masterâ€™s Degree', 'Bachelorâ€™s Degree',\n",
              "       'High School', 'PhD'], dtype=object)"
            ]
          },
          "metadata": {},
          "execution_count": 21
        }
      ],
      "source": [
        "df['Education Level'].unique()"
      ]
    },
    {
      "cell_type": "code",
      "execution_count": null,
      "metadata": {
        "colab": {
          "base_uri": "https://localhost:8080/"
        },
        "id": "PnAsBCChxVws",
        "outputId": "3ed43f0d-4695-4e23-b69b-de25c4956800"
      },
      "outputs": [
        {
          "output_type": "execute_result",
          "data": {
            "text/plain": [
              "array(['Associate Degree', 'Masterâ€™s Degree', 'Bachelorâ€™s Degree',\n",
              "       'High School', 'PhD'], dtype=object)"
            ]
          },
          "metadata": {},
          "execution_count": 22
        }
      ],
      "source": [
        "df['Education Level'].unique()"
      ]
    },
    {
      "cell_type": "code",
      "execution_count": null,
      "metadata": {
        "colab": {
          "base_uri": "https://localhost:8080/"
        },
        "id": "CTqEjtY40bDd",
        "outputId": "3ec2ce9e-6679-4a57-8f7c-3d03263ccb3e"
      },
      "outputs": [
        {
          "output_type": "stream",
          "name": "stdout",
          "text": [
            "       Gender    Job Role Work-Life Balance Overtime      Education Level  \\\n",
            "count   74498       74498             74498    74498                74498   \n",
            "unique      2           5                 4        2                    5   \n",
            "top      Male  Technology              Good       No  Bachelorâ€™s Degree   \n",
            "freq    40826       19322             28158    50157                22331   \n",
            "\n",
            "       Marital Status Job Level Remote Work Leadership Opportunities  \\\n",
            "count           74498     74498       74498                    74498   \n",
            "unique              3         3           2                        2   \n",
            "top           Married     Entry          No                       No   \n",
            "freq            37419     29780       60300                    70845   \n",
            "\n",
            "       Innovation Opportunities Attrition  \n",
            "count                     74498     74498  \n",
            "unique                        2         2  \n",
            "top                          No    Stayed  \n",
            "freq                      62394     39128  \n"
          ]
        }
      ],
      "source": [
        "print(df.describe(include=['object']))"
      ]
    },
    {
      "cell_type": "markdown",
      "source": [
        "**LABELENCODE**"
      ],
      "metadata": {
        "id": "cagNg3ablj13"
      }
    },
    {
      "cell_type": "code",
      "execution_count": null,
      "metadata": {
        "id": "jafMKpqSxVu0"
      },
      "outputs": [],
      "source": [
        "le1=LabelEncoder()\n",
        "df['Education Level']=le1.fit_transform(df['Education Level'])\n",
        "\n",
        "le2=LabelEncoder()\n",
        "df['Gender']=le2.fit_transform(df['Gender'])\n",
        "\n",
        "le3=LabelEncoder()\n",
        "df['Job Role']=le3.fit_transform(df['Job Role'])\n",
        "\n",
        "le4=LabelEncoder()\n",
        "df['Job Level']=le4.fit_transform(df['Job Level'])\n",
        "\n",
        "le5=LabelEncoder()\n",
        "df['Overtime']=le5.fit_transform(df['Overtime'])\n",
        "\n",
        "le6=LabelEncoder()\n",
        "df['Attrition']=le6.fit_transform(df['Attrition'])\n",
        "\n",
        "le7=LabelEncoder()\n",
        "df['Remote Work']=le7.fit_transform(df['Remote Work'])\n",
        "le8=LabelEncoder()\n",
        "df['Work-Life Balance']=le8.fit_transform(df['Work-Life Balance'])\n",
        "\n",
        "le9=LabelEncoder()\n",
        "df['Marital Status']=le9.fit_transform(df['Marital Status'])\n",
        "\n",
        "le10=LabelEncoder()\n",
        "df['Leadership Opportunities']=le10.fit_transform(df['Leadership Opportunities'])\n",
        "\n",
        "\n",
        "le11=LabelEncoder()\n",
        "df['Innovation Opportunities']=le11.fit_transform(df['Innovation Opportunities'])\n",
        "\n"
      ]
    },
    {
      "cell_type": "markdown",
      "source": [
        "# CHECKING CORRELEATION\n",
        "\n",
        "\n",
        "\n"
      ],
      "metadata": {
        "id": "IsQga3FWI0XF"
      }
    },
    {
      "cell_type": "code",
      "execution_count": null,
      "metadata": {
        "colab": {
          "base_uri": "https://localhost:8080/",
          "height": 648
        },
        "id": "C80Wwk0VzWCi",
        "outputId": "b67dd461-b1ee-4715-9fde-fb2b9076e87f"
      },
      "outputs": [
        {
          "output_type": "execute_result",
          "data": {
            "text/plain": [
              "Age                           0.050801\n",
              "Gender                        0.100637\n",
              "Years at Company              0.065388\n",
              "Job Role                      0.010433\n",
              "Monthly Income                0.010193\n",
              "Work-Life Balance            -0.063416\n",
              "Number of Promotions          0.081184\n",
              "Overtime                     -0.056019\n",
              "Distance from Home           -0.092819\n",
              "Education Level               0.051912\n",
              "Marital Status               -0.228803\n",
              "Number of Dependents          0.074495\n",
              "Job Level                     0.315289\n",
              "Company Tenure (In Months)    0.028583\n",
              "Remote Work                   0.221191\n",
              "Leadership Opportunities      0.011995\n",
              "Innovation Opportunities      0.021548\n",
              "Attrition                     1.000000\n",
              "Name: Attrition, dtype: float64"
            ],
            "text/html": [
              "<div>\n",
              "<style scoped>\n",
              "    .dataframe tbody tr th:only-of-type {\n",
              "        vertical-align: middle;\n",
              "    }\n",
              "\n",
              "    .dataframe tbody tr th {\n",
              "        vertical-align: top;\n",
              "    }\n",
              "\n",
              "    .dataframe thead th {\n",
              "        text-align: right;\n",
              "    }\n",
              "</style>\n",
              "<table border=\"1\" class=\"dataframe\">\n",
              "  <thead>\n",
              "    <tr style=\"text-align: right;\">\n",
              "      <th></th>\n",
              "      <th>Attrition</th>\n",
              "    </tr>\n",
              "  </thead>\n",
              "  <tbody>\n",
              "    <tr>\n",
              "      <th>Age</th>\n",
              "      <td>0.050801</td>\n",
              "    </tr>\n",
              "    <tr>\n",
              "      <th>Gender</th>\n",
              "      <td>0.100637</td>\n",
              "    </tr>\n",
              "    <tr>\n",
              "      <th>Years at Company</th>\n",
              "      <td>0.065388</td>\n",
              "    </tr>\n",
              "    <tr>\n",
              "      <th>Job Role</th>\n",
              "      <td>0.010433</td>\n",
              "    </tr>\n",
              "    <tr>\n",
              "      <th>Monthly Income</th>\n",
              "      <td>0.010193</td>\n",
              "    </tr>\n",
              "    <tr>\n",
              "      <th>Work-Life Balance</th>\n",
              "      <td>-0.063416</td>\n",
              "    </tr>\n",
              "    <tr>\n",
              "      <th>Number of Promotions</th>\n",
              "      <td>0.081184</td>\n",
              "    </tr>\n",
              "    <tr>\n",
              "      <th>Overtime</th>\n",
              "      <td>-0.056019</td>\n",
              "    </tr>\n",
              "    <tr>\n",
              "      <th>Distance from Home</th>\n",
              "      <td>-0.092819</td>\n",
              "    </tr>\n",
              "    <tr>\n",
              "      <th>Education Level</th>\n",
              "      <td>0.051912</td>\n",
              "    </tr>\n",
              "    <tr>\n",
              "      <th>Marital Status</th>\n",
              "      <td>-0.228803</td>\n",
              "    </tr>\n",
              "    <tr>\n",
              "      <th>Number of Dependents</th>\n",
              "      <td>0.074495</td>\n",
              "    </tr>\n",
              "    <tr>\n",
              "      <th>Job Level</th>\n",
              "      <td>0.315289</td>\n",
              "    </tr>\n",
              "    <tr>\n",
              "      <th>Company Tenure (In Months)</th>\n",
              "      <td>0.028583</td>\n",
              "    </tr>\n",
              "    <tr>\n",
              "      <th>Remote Work</th>\n",
              "      <td>0.221191</td>\n",
              "    </tr>\n",
              "    <tr>\n",
              "      <th>Leadership Opportunities</th>\n",
              "      <td>0.011995</td>\n",
              "    </tr>\n",
              "    <tr>\n",
              "      <th>Innovation Opportunities</th>\n",
              "      <td>0.021548</td>\n",
              "    </tr>\n",
              "    <tr>\n",
              "      <th>Attrition</th>\n",
              "      <td>1.000000</td>\n",
              "    </tr>\n",
              "  </tbody>\n",
              "</table>\n",
              "</div><br><label><b>dtype:</b> float64</label>"
            ]
          },
          "metadata": {},
          "execution_count": 25
        }
      ],
      "source": [
        "corr=df.corr()['Attrition']\n",
        "corr"
      ]
    },
    {
      "cell_type": "code",
      "execution_count": null,
      "metadata": {
        "colab": {
          "base_uri": "https://localhost:8080/",
          "height": 446
        },
        "id": "NHnj5JQdxVs0",
        "outputId": "d254c617-4016-43b5-cee4-b735bc1f2093"
      },
      "outputs": [
        {
          "output_type": "display_data",
          "data": {
            "text/plain": [
              "<Figure size 1800x1000 with 2 Axes>"
            ],
            "image/png": "[encoded data removed]"
          },
          "metadata": {}
        }
      ],
      "source": [
        "plt.figure(figsize=(18,10))\n",
        "sns.heatmap(df.corr(),annot=True,linewidth=0.5,cmap='Set3')\n",
        "plt.title(\"Feature Correlation Heatmap\")\n",
        "plt.show()"
      ]
    },
    {
      "cell_type": "markdown",
      "metadata": {
        "id": "S_QCt9r91Go3"
      },
      "source": [
        "\n",
        "\n",
        "**Attrition count plot**\n",
        "\n",
        "How many employs stayed or left"
      ]
    },
    {
      "cell_type": "code",
      "execution_count": null,
      "metadata": {
        "colab": {
          "base_uri": "https://localhost:8080/",
          "height": 601
        },
        "id": "IlMqL0Wd1JS_",
        "outputId": "33e8bb44-efe0-4a6c-cc23-8a4490aab06d"
      },
      "outputs": [
        {
          "output_type": "stream",
          "name": "stderr",
          "text": [
            "<ipython-input-27-dc657fea36d5>:1: FutureWarning: \n",
            "\n",
            "Passing `palette` without assigning `hue` is deprecated and will be removed in v0.14.0. Assign the `x` variable to `hue` and set `legend=False` for the same effect.\n",
            "\n",
            "  sns.countplot(x=df[\"Attrition\"], palette=\"Set2\")\n"
          ]
        },
        {
          "output_type": "display_data",
          "data": {
            "text/plain": [
              "<Figure size 640x480 with 1 Axes>"
            ],
            "image/png": "[encoded data removed]"
          },
          "metadata": {}
        }
      ],
      "source": [
        "sns.countplot(x=df[\"Attrition\"], palette=\"Set2\")\n",
        "plt.title(\"Attrition Count (Stayed vs. Left)\")\n",
        "plt.show()"
      ]
    },
    {
      "cell_type": "markdown",
      "metadata": {
        "id": "bweFwwuT1MW7"
      },
      "source": [
        "**Box plot**\n",
        "Monthly income vs attrition\n",
        "\n"
      ]
    },
    {
      "cell_type": "markdown",
      "metadata": {
        "id": "2r4znmPd1V87"
      },
      "source": []
    },
    {
      "cell_type": "code",
      "execution_count": null,
      "metadata": {
        "colab": {
          "base_uri": "https://localhost:8080/",
          "height": 472
        },
        "id": "YoPmCNde1Vu4",
        "outputId": "6808a00c-9537-4d9d-cc97-cf5176653541"
      },
      "outputs": [
        {
          "output_type": "display_data",
          "data": {
            "text/plain": [
              "<Figure size 640x480 with 1 Axes>"
            ],
            "image/png": "[encoded data removed]"
          },
          "metadata": {}
        }
      ],
      "source": [
        "sns.countplot(x=df[\"Work-Life Balance\"], hue=df[\"Attrition\"], palette=\"husl\")\n",
        "plt.title(\"Work-Life Balance vs. Attrition\")\n",
        "plt.show()"
      ]
    },
    {
      "cell_type": "code",
      "execution_count": null,
      "metadata": {
        "colab": {
          "base_uri": "https://localhost:8080/"
        },
        "id": "zcqGJTXq1VpM",
        "outputId": "c3f06fe6-2335-43f2-a664-bc7d7126ec54"
      },
      "outputs": [
        {
          "output_type": "stream",
          "name": "stdout",
          "text": [
            "<class 'pandas.core.frame.DataFrame'>\n",
            "Index: 74498 entries, 0 to 74497\n",
            "Data columns (total 18 columns):\n",
            " #   Column                      Non-Null Count  Dtype  \n",
            "---  ------                      --------------  -----  \n",
            " 0   Age                         74498 non-null  int64  \n",
            " 1   Gender                      74498 non-null  int64  \n",
            " 2   Years at Company            74498 non-null  int64  \n",
            " 3   Job Role                    74498 non-null  int64  \n",
            " 4   Monthly Income              74498 non-null  int64  \n",
            " 5   Work-Life Balance           74498 non-null  int64  \n",
            " 6   Number of Promotions        74498 non-null  int64  \n",
            " 7   Overtime                    74498 non-null  int64  \n",
            " 8   Distance from Home          74498 non-null  float64\n",
            " 9   Education Level             74498 non-null  int64  \n",
            " 10  Marital Status              74498 non-null  int64  \n",
            " 11  Number of Dependents        74498 non-null  int64  \n",
            " 12  Job Level                   74498 non-null  int64  \n",
            " 13  Company Tenure (In Months)  74498 non-null  float64\n",
            " 14  Remote Work                 74498 non-null  int64  \n",
            " 15  Leadership Opportunities    74498 non-null  int64  \n",
            " 16  Innovation Opportunities    74498 non-null  int64  \n",
            " 17  Attrition                   74498 non-null  int64  \n",
            "dtypes: float64(2), int64(16)\n",
            "memory usage: 10.8 MB\n"
          ]
        }
      ],
      "source": [
        "df.info()"
      ]
    },
    {
      "cell_type": "markdown",
      "source": [
        "**OUTLAYERS**"
      ],
      "metadata": {
        "id": "2NH0oQk5mKWQ"
      }
    },
    {
      "cell_type": "code",
      "execution_count": null,
      "metadata": {
        "colab": {
          "base_uri": "https://localhost:8080/",
          "height": 233
        },
        "id": "GEoB1T5v1Vm1",
        "outputId": "f06c53ad-075f-4be7-99c6-fdbbab5e036f"
      },
      "outputs": [
        {
          "output_type": "display_data",
          "data": {
            "text/plain": [
              "<Figure size 1500x1000 with 24 Axes>"
            ],
            "image/png": "[encoded data removed]"
          },
          "metadata": {}
        }
      ],
      "source": [
        "df[[\"Age\", \"Years at Company\", \"Monthly Income\",'Job Role','Work-Life Balance','Overtime','Education Level','Job Level', \"Distance from Home\",'Remote Work','Attrition',\"Company Tenure (In Months)\"]].plot(kind=\"box\", subplots=True, layout=(4, 6), figsize=(15, 10), color=\"blue\")\n",
        "\n",
        "plt.tight_layout()\n",
        "plt.show()"
      ]
    },
    {
      "cell_type": "markdown",
      "source": [
        "outlayer removing using iqr method"
      ],
      "metadata": {
        "id": "qmScMjl0JVcM"
      }
    },
    {
      "cell_type": "code",
      "execution_count": null,
      "metadata": {
        "colab": {
          "base_uri": "https://localhost:8080/"
        },
        "id": "cB0AHo9K1Vc8",
        "outputId": "56a2db89-666a-4b55-8938-f7264a025a24"
      },
      "outputs": [
        {
          "output_type": "stream",
          "name": "stdout",
          "text": [
            "74160 \n",
            " -17.0 \n",
            " 47.0\n",
            "74009 \n",
            " 816.0 \n",
            " 13712.0\n",
            "59893 \n",
            " 0.0 \n",
            " 0.0\n",
            "Outliers removed!\n"
          ]
        }
      ],
      "source": [
        "\n",
        "\n",
        "# Define columns to remove outliers from\n",
        "columns = [\"Years at Company\", \"Monthly Income\", \"Remote Work\"]\n",
        "\n",
        "for col in columns:\n",
        "    Q1 = df[col].quantile(0.25)  # First quartile\n",
        "    Q3 = df[col].quantile(0.75)  # Third quartile\n",
        "    IQR = Q3 - Q1  # Interquartile range\n",
        "\n",
        "    lower_bound = Q1 - 1.5 * IQR\n",
        "    upper_bound = Q3 + 1.5 * IQR\n",
        "\n",
        "    df = df[(df[col] >= lower_bound) & (df[col] <= upper_bound)]\n",
        "    print(len(df),\"\\n\",lower_bound,\"\\n\",upper_bound)\n",
        "\n",
        "print(\"Outliers removed!\")\n"
      ]
    },
    {
      "cell_type": "code",
      "execution_count": null,
      "metadata": {
        "colab": {
          "base_uri": "https://localhost:8080/",
          "height": 233
        },
        "id": "4uUGIbWE1VZm",
        "outputId": "7230e1ee-a65e-47b3-ff84-cb739e74c87e"
      },
      "outputs": [
        {
          "output_type": "display_data",
          "data": {
            "text/plain": [
              "<Figure size 1500x1000 with 24 Axes>"
            ],
            "image/png": "[encoded data removed]"
          },
          "metadata": {}
        }
      ],
      "source": [
        "df[[\"Age\", \"Years at Company\", \"Monthly Income\",'Job Role','Work-Life Balance','Overtime','Education Level','Job Level', \"Distance from Home\",'Remote Work','Attrition',\"Company Tenure (In Months)\"]].plot(kind=\"box\", subplots=True, layout=(4, 6), figsize=(15, 10), color=\"blue\")\n",
        "\n",
        "plt.tight_layout()  # Adjust layout for better spacing\n",
        "plt.show()"
      ]
    },
    {
      "cell_type": "code",
      "execution_count": null,
      "metadata": {
        "colab": {
          "base_uri": "https://localhost:8080/",
          "height": 648
        },
        "id": "iUVZJ5U62Aac",
        "outputId": "ce67ece8-58fb-4618-df50-75709119088f"
      },
      "outputs": [
        {
          "output_type": "execute_result",
          "data": {
            "text/plain": [
              "Age                           0\n",
              "Gender                        0\n",
              "Years at Company              0\n",
              "Job Role                      0\n",
              "Monthly Income                0\n",
              "Work-Life Balance             0\n",
              "Number of Promotions          0\n",
              "Overtime                      0\n",
              "Distance from Home            0\n",
              "Education Level               0\n",
              "Marital Status                0\n",
              "Number of Dependents          0\n",
              "Job Level                     0\n",
              "Company Tenure (In Months)    0\n",
              "Remote Work                   0\n",
              "Leadership Opportunities      0\n",
              "Innovation Opportunities      0\n",
              "Attrition                     0\n",
              "dtype: int64"
            ],
            "text/html": [
              "<div>\n",
              "<style scoped>\n",
              "    .dataframe tbody tr th:only-of-type {\n",
              "        vertical-align: middle;\n",
              "    }\n",
              "\n",
              "    .dataframe tbody tr th {\n",
              "        vertical-align: top;\n",
              "    }\n",
              "\n",
              "    .dataframe thead th {\n",
              "        text-align: right;\n",
              "    }\n",
              "</style>\n",
              "<table border=\"1\" class=\"dataframe\">\n",
              "  <thead>\n",
              "    <tr style=\"text-align: right;\">\n",
              "      <th></th>\n",
              "      <th>0</th>\n",
              "    </tr>\n",
              "  </thead>\n",
              "  <tbody>\n",
              "    <tr>\n",
              "      <th>Age</th>\n",
              "      <td>0</td>\n",
              "    </tr>\n",
              "    <tr>\n",
              "      <th>Gender</th>\n",
              "      <td>0</td>\n",
              "    </tr>\n",
              "    <tr>\n",
              "      <th>Years at Company</th>\n",
              "      <td>0</td>\n",
              "    </tr>\n",
              "    <tr>\n",
              "      <th>Job Role</th>\n",
              "      <td>0</td>\n",
              "    </tr>\n",
              "    <tr>\n",
              "      <th>Monthly Income</th>\n",
              "      <td>0</td>\n",
              "    </tr>\n",
              "    <tr>\n",
              "      <th>Work-Life Balance</th>\n",
              "      <td>0</td>\n",
              "    </tr>\n",
              "    <tr>\n",
              "      <th>Number of Promotions</th>\n",
              "      <td>0</td>\n",
              "    </tr>\n",
              "    <tr>\n",
              "      <th>Overtime</th>\n",
              "      <td>0</td>\n",
              "    </tr>\n",
              "    <tr>\n",
              "      <th>Distance from Home</th>\n",
              "      <td>0</td>\n",
              "    </tr>\n",
              "    <tr>\n",
              "      <th>Education Level</th>\n",
              "      <td>0</td>\n",
              "    </tr>\n",
              "    <tr>\n",
              "      <th>Marital Status</th>\n",
              "      <td>0</td>\n",
              "    </tr>\n",
              "    <tr>\n",
              "      <th>Number of Dependents</th>\n",
              "      <td>0</td>\n",
              "    </tr>\n",
              "    <tr>\n",
              "      <th>Job Level</th>\n",
              "      <td>0</td>\n",
              "    </tr>\n",
              "    <tr>\n",
              "      <th>Company Tenure (In Months)</th>\n",
              "      <td>0</td>\n",
              "    </tr>\n",
              "    <tr>\n",
              "      <th>Remote Work</th>\n",
              "      <td>0</td>\n",
              "    </tr>\n",
              "    <tr>\n",
              "      <th>Leadership Opportunities</th>\n",
              "      <td>0</td>\n",
              "    </tr>\n",
              "    <tr>\n",
              "      <th>Innovation Opportunities</th>\n",
              "      <td>0</td>\n",
              "    </tr>\n",
              "    <tr>\n",
              "      <th>Attrition</th>\n",
              "      <td>0</td>\n",
              "    </tr>\n",
              "  </tbody>\n",
              "</table>\n",
              "</div><br><label><b>dtype:</b> int64</label>"
            ]
          },
          "metadata": {},
          "execution_count": 35
        }
      ],
      "source": [
        "df.isnull().sum()"
      ]
    },
    {
      "cell_type": "code",
      "execution_count": null,
      "metadata": {
        "colab": {
          "base_uri": "https://localhost:8080/"
        },
        "id": "59D_Msv92Fko",
        "outputId": "dccafc7b-e450-4ed2-d2a7-71e64a58a393"
      },
      "outputs": [
        {
          "output_type": "stream",
          "name": "stdout",
          "text": [
            "<class 'pandas.core.frame.DataFrame'>\n",
            "Index: 59893 entries, 0 to 74496\n",
            "Data columns (total 18 columns):\n",
            " #   Column                      Non-Null Count  Dtype  \n",
            "---  ------                      --------------  -----  \n",
            " 0   Age                         59893 non-null  int64  \n",
            " 1   Gender                      59893 non-null  int64  \n",
            " 2   Years at Company            59893 non-null  int64  \n",
            " 3   Job Role                    59893 non-null  int64  \n",
            " 4   Monthly Income              59893 non-null  int64  \n",
            " 5   Work-Life Balance           59893 non-null  int64  \n",
            " 6   Number of Promotions        59893 non-null  int64  \n",
            " 7   Overtime                    59893 non-null  int64  \n",
            " 8   Distance from Home          59893 non-null  float64\n",
            " 9   Education Level             59893 non-null  int64  \n",
            " 10  Marital Status              59893 non-null  int64  \n",
            " 11  Number of Dependents        59893 non-null  int64  \n",
            " 12  Job Level                   59893 non-null  int64  \n",
            " 13  Company Tenure (In Months)  59893 non-null  float64\n",
            " 14  Remote Work                 59893 non-null  int64  \n",
            " 15  Leadership Opportunities    59893 non-null  int64  \n",
            " 16  Innovation Opportunities    59893 non-null  int64  \n",
            " 17  Attrition                   59893 non-null  int64  \n",
            "dtypes: float64(2), int64(16)\n",
            "memory usage: 8.7 MB\n"
          ]
        }
      ],
      "source": [
        "df.info()"
      ]
    },
    {
      "cell_type": "code",
      "execution_count": null,
      "metadata": {
        "colab": {
          "base_uri": "https://localhost:8080/"
        },
        "id": "l3kG9rnJ2FhR",
        "outputId": "a0418b66-b03f-45a4-e9fb-e62acee964ea"
      },
      "outputs": [
        {
          "output_type": "execute_result",
          "data": {
            "text/plain": [
              "(59893, 18)"
            ]
          },
          "metadata": {},
          "execution_count": 37
        }
      ],
      "source": [
        "df.shape"
      ]
    },
    {
      "cell_type": "markdown",
      "source": [
        "#**MODEL BUILDING**"
      ],
      "metadata": {
        "id": "rbSRcF1bJoFA"
      }
    },
    {
      "cell_type": "code",
      "execution_count": null,
      "metadata": {
        "id": "76C7gLEG2FZe"
      },
      "outputs": [],
      "source": [
        "from sklearn.model_selection import train_test_split\n",
        "\n",
        "X = df.drop(\"Attrition\", axis=1)  # Features\n",
        "y = df[\"Attrition\"]  # Target variable\n",
        "\n",
        "X_train, X_test, y_train, y_test = train_test_split(X, y, test_size=0.2, random_state=42)\n"
      ]
    },
    {
      "cell_type": "code",
      "execution_count": null,
      "metadata": {
        "colab": {
          "base_uri": "https://localhost:8080/",
          "height": 178
        },
        "id": "TmpZYrpY2FWa",
        "outputId": "c8cdd29b-4988-46e8-b98a-8a29f47c2f75"
      },
      "outputs": [
        {
          "output_type": "execute_result",
          "data": {
            "text/plain": [
              "Attrition\n",
              "0    25283\n",
              "1    22631\n",
              "Name: count, dtype: int64"
            ],
            "text/html": [
              "<div>\n",
              "<style scoped>\n",
              "    .dataframe tbody tr th:only-of-type {\n",
              "        vertical-align: middle;\n",
              "    }\n",
              "\n",
              "    .dataframe tbody tr th {\n",
              "        vertical-align: top;\n",
              "    }\n",
              "\n",
              "    .dataframe thead th {\n",
              "        text-align: right;\n",
              "    }\n",
              "</style>\n",
              "<table border=\"1\" class=\"dataframe\">\n",
              "  <thead>\n",
              "    <tr style=\"text-align: right;\">\n",
              "      <th></th>\n",
              "      <th>count</th>\n",
              "    </tr>\n",
              "    <tr>\n",
              "      <th>Attrition</th>\n",
              "      <th></th>\n",
              "    </tr>\n",
              "  </thead>\n",
              "  <tbody>\n",
              "    <tr>\n",
              "      <th>0</th>\n",
              "      <td>25283</td>\n",
              "    </tr>\n",
              "    <tr>\n",
              "      <th>1</th>\n",
              "      <td>22631</td>\n",
              "    </tr>\n",
              "  </tbody>\n",
              "</table>\n",
              "</div><br><label><b>dtype:</b> int64</label>"
            ]
          },
          "metadata": {},
          "execution_count": 40
        }
      ],
      "source": [
        "y_train.value_counts()"
      ]
    },
    {
      "cell_type": "code",
      "execution_count": null,
      "metadata": {
        "id": "3Y1fElO32FUh"
      },
      "outputs": [],
      "source": [
        "from imblearn.over_sampling import SMOTE\n",
        "sm=SMOTE()\n",
        "X_train_res,y_train_res=sm.fit_resample(X_train,y_train)"
      ]
    },
    {
      "cell_type": "code",
      "execution_count": null,
      "metadata": {
        "colab": {
          "base_uri": "https://localhost:8080/",
          "height": 178
        },
        "id": "X1n0QhY-3wnC",
        "outputId": "a1c91ba8-e8a9-4434-b63e-92f0ba93a085"
      },
      "outputs": [
        {
          "output_type": "execute_result",
          "data": {
            "text/plain": [
              "Attrition\n",
              "0    25283\n",
              "1    25283\n",
              "Name: count, dtype: int64"
            ],
            "text/html": [
              "<div>\n",
              "<style scoped>\n",
              "    .dataframe tbody tr th:only-of-type {\n",
              "        vertical-align: middle;\n",
              "    }\n",
              "\n",
              "    .dataframe tbody tr th {\n",
              "        vertical-align: top;\n",
              "    }\n",
              "\n",
              "    .dataframe thead th {\n",
              "        text-align: right;\n",
              "    }\n",
              "</style>\n",
              "<table border=\"1\" class=\"dataframe\">\n",
              "  <thead>\n",
              "    <tr style=\"text-align: right;\">\n",
              "      <th></th>\n",
              "      <th>count</th>\n",
              "    </tr>\n",
              "    <tr>\n",
              "      <th>Attrition</th>\n",
              "      <th></th>\n",
              "    </tr>\n",
              "  </thead>\n",
              "  <tbody>\n",
              "    <tr>\n",
              "      <th>0</th>\n",
              "      <td>25283</td>\n",
              "    </tr>\n",
              "    <tr>\n",
              "      <th>1</th>\n",
              "      <td>25283</td>\n",
              "    </tr>\n",
              "  </tbody>\n",
              "</table>\n",
              "</div><br><label><b>dtype:</b> int64</label>"
            ]
          },
          "metadata": {},
          "execution_count": 44
        }
      ],
      "source": [
        "y_train_res.value_counts()"
      ]
    },
    {
      "cell_type": "code",
      "execution_count": null,
      "metadata": {
        "id": "gaV9_jeY31ja"
      },
      "outputs": [],
      "source": [
        "from sklearn.preprocessing import StandardScaler\n",
        "scaler = StandardScaler()\n",
        "X_train_res = scaler.fit_transform(X_train_res)\n",
        "X_test = scaler.transform(X_test)"
      ]
    },
    {
      "cell_type": "code",
      "execution_count": null,
      "metadata": {
        "id": "wg3TU5E-4ADz"
      },
      "outputs": [],
      "source": [
        "from sklearn.linear_model import LogisticRegression\n",
        "from sklearn.ensemble import RandomForestClassifier, GradientBoostingClassifier\n",
        "from sklearn.tree import DecisionTreeClassifier\n",
        "from sklearn.svm import SVC\n",
        "from sklearn.neighbors import KNeighborsClassifier\n",
        "from sklearn.naive_bayes import GaussianNB\n",
        "from sklearn.metrics import accuracy_score, classification_report"
      ]
    },
    {
      "cell_type": "markdown",
      "source": [
        "#LOGISTIC REGREESION"
      ],
      "metadata": {
        "id": "l---78Z6J4Nq"
      }
    },
    {
      "cell_type": "code",
      "execution_count": null,
      "metadata": {
        "colab": {
          "base_uri": "https://localhost:8080/"
        },
        "id": "1p5qalvj4K9_",
        "outputId": "1dc8fd32-c423-4bbd-a2be-fd52ece685e3"
      },
      "outputs": [
        {
          "output_type": "stream",
          "name": "stdout",
          "text": [
            "Logistic Regression Accuracy: 0.69\n",
            "              precision    recall  f1-score   support\n",
            "\n",
            "           0       0.72      0.69      0.70      6388\n",
            "           1       0.66      0.69      0.68      5591\n",
            "\n",
            "    accuracy                           0.69     11979\n",
            "   macro avg       0.69      0.69      0.69     11979\n",
            "weighted avg       0.69      0.69      0.69     11979\n",
            "\n"
          ]
        }
      ],
      "source": [
        "log_reg = LogisticRegression()\n",
        "log_reg.fit(X_train_res, y_train_res)\n",
        "\n",
        "\n",
        "y_pred_log = log_reg.predict(X_test)\n",
        "\n",
        "acc_log = accuracy_score(y_test, y_pred_log)\n",
        "print(f\"Logistic Regression Accuracy: {acc_log:.2f}\")\n",
        "print(classification_report(y_test, y_pred_log))"
      ]
    },
    {
      "cell_type": "code",
      "execution_count": null,
      "metadata": {
        "colab": {
          "base_uri": "https://localhost:8080/"
        },
        "id": "bGwuAnSb4Tbq",
        "outputId": "cdce4985-cd5e-4973-df7c-fb36d6f8ab36"
      },
      "outputs": [
        {
          "output_type": "stream",
          "name": "stdout",
          "text": [
            "Training Accuracy: 0.69\n",
            "Test Accuracy: 0.69\n"
          ]
        }
      ],
      "source": [
        "train_accuracy = log_reg.score(X_train_res, y_train_res)\n",
        "test_accuracy = log_reg.score(X_test, y_test)\n",
        "\n",
        "print(f\"Training Accuracy: {train_accuracy:.2f}\")\n",
        "print(f\"Test Accuracy: {test_accuracy:.2f}\")"
      ]
    },
    {
      "cell_type": "markdown",
      "source": [
        "# DESCION TREE"
      ],
      "metadata": {
        "id": "u2NfYP_BJ-Zp"
      }
    },
    {
      "cell_type": "code",
      "execution_count": null,
      "metadata": {
        "colab": {
          "base_uri": "https://localhost:8080/"
        },
        "id": "Q8qwNyYN5BqZ",
        "outputId": "06cc12f2-1e6a-4608-9511-6f164d6c69ee"
      },
      "outputs": [
        {
          "output_type": "stream",
          "name": "stdout",
          "text": [
            "Decision Tree Accuracy: 0.65\n",
            "              precision    recall  f1-score   support\n",
            "\n",
            "           0       0.67      0.65      0.66      6388\n",
            "           1       0.62      0.64      0.63      5591\n",
            "\n",
            "    accuracy                           0.65     11979\n",
            "   macro avg       0.64      0.65      0.64     11979\n",
            "weighted avg       0.65      0.65      0.65     11979\n",
            "\n"
          ]
        }
      ],
      "source": [
        "dt = DecisionTreeClassifier()\n",
        "dt.fit(X_train_res, y_train_res)\n",
        "\n",
        "\n",
        "y_pred_dt = dt.predict(X_test)\n",
        "\n",
        "\n",
        "acc_dt = accuracy_score(y_test, y_pred_dt)\n",
        "print(f\"Decision Tree Accuracy: {acc_dt:.2f}\")\n",
        "print(classification_report(y_test, y_pred_dt))"
      ]
    },
    {
      "cell_type": "code",
      "execution_count": null,
      "metadata": {
        "colab": {
          "base_uri": "https://localhost:8080/"
        },
        "id": "y4R4uToV5Bmz",
        "outputId": "9bafb474-2948-45e5-8502-f560d6a98223"
      },
      "outputs": [
        {
          "output_type": "stream",
          "name": "stdout",
          "text": [
            "Training Accuracy: 1.00\n",
            "Test Accuracy: 0.65\n"
          ]
        }
      ],
      "source": [
        "train_accuracy = dt.score(X_train_res, y_train_res)\n",
        "test_accuracy =dt.score(X_test, y_test)\n",
        "\n",
        "print(f\"Training Accuracy: {train_accuracy:.2f}\")\n",
        "print(f\"Test Accuracy: {test_accuracy:.2f}\")"
      ]
    },
    {
      "cell_type": "markdown",
      "source": [
        "# PARAMETER TUNING"
      ],
      "metadata": {
        "id": "zBMqK0aRKC5I"
      }
    },
    {
      "cell_type": "code",
      "source": [
        "from sklearn.tree import DecisionTreeClassifier\n",
        "from sklearn.model_selection import RandomizedSearchCV\n",
        "from scipy.stats import randint\n",
        "\n",
        "# Define the hyperparameter search space\n",
        "param_dist = {\n",
        "    'max_depth': [3, 5, 10, None],\n",
        "    'min_samples_split': randint(2, 20),\n",
        "    'min_samples_leaf': randint(1, 10),\n",
        "    'max_features': [None, 'sqrt', 'log2'],\n",
        "    'criterion': ['gini', 'entropy']\n",
        "}\n",
        "\n",
        "# Initialize the Decision Tree model\n",
        "dt = DecisionTreeClassifier(random_state=42)\n",
        "\n",
        "# Perform RandomizedSearchCV\n",
        "random_search = RandomizedSearchCV(\n",
        "    dt,\n",
        "    param_distributions=param_dist,\n",
        "    n_iter=20,  # Number of random parameter settings to try\n",
        "    cv=5,\n",
        "    scoring='accuracy',\n",
        "    n_jobs=-1,\n",
        "    verbose=1,\n",
        "    random_state=42\n",
        ")\n",
        "random_search.fit(X_train_res, y_train_res)\n",
        "\n",
        "# Get the best parameters\n",
        "best_params = random_search.best_params_\n",
        "print(\"Best Hyperparameters:\", best_params)\n",
        "\n",
        "# Train the model with the best parameters\n",
        "best_dt = DecisionTreeClassifier(**best_params, random_state=42)\n",
        "best_dt.fit(X_train_res, y_train_res)\n",
        "\n",
        "# Evaluate the optimized model\n",
        "train_accuracy = best_dt.score(X_train_res, y_train_res)\n",
        "test_accuracy = best_dt.score(X_test, y_test)\n",
        "\n",
        "print(f\"Optimized Training Accuracy: {train_accuracy:.2f}\")\n",
        "print(f\"Optimized Test Accuracy: {test_accuracy:.2f}\")\n"
      ],
      "metadata": {
        "colab": {
          "base_uri": "https://localhost:8080/"
        },
        "id": "4fReQ9vaBs1b",
        "outputId": "e7a40b8d-0839-4faa-f9ac-a5d3b5def9f9"
      },
      "execution_count": null,
      "outputs": [
        {
          "output_type": "stream",
          "name": "stdout",
          "text": [
            "Fitting 5 folds for each of 20 candidates, totalling 100 fits\n",
            "Best Hyperparameters: {'criterion': 'gini', 'max_depth': 10, 'max_features': None, 'min_samples_leaf': 9, 'min_samples_split': 8}\n",
            "Optimized Training Accuracy: 0.74\n",
            "Optimized Test Accuracy: 0.71\n"
          ]
        }
      ]
    },
    {
      "cell_type": "markdown",
      "source": [
        "# RANDOMFOREST"
      ],
      "metadata": {
        "id": "2LzylQRGmern"
      }
    },
    {
      "cell_type": "code",
      "source": [
        "from sklearn.ensemble import RandomForestClassifier\n",
        "\n",
        "rf = RandomForestClassifier(n_estimators=100, max_depth=10, random_state=42)\n",
        "rf.fit(X_train_res, y_train_res)\n",
        "\n",
        "train_acc_rf = rf.score(X_train_res, y_train_res)\n",
        "test_acc_rf = rf.score(X_test, y_test)\n",
        "\n",
        "print(f\"Random Forest Training Accuracy: {train_acc_rf:.2f}\")\n",
        "print(f\"Random Forest Test Accuracy: {test_acc_rf:.2f}\")\n"
      ],
      "metadata": {
        "colab": {
          "base_uri": "https://localhost:8080/"
        },
        "id": "x1HU-gazQPld",
        "outputId": "cab247dc-e677-45e8-ddc8-26bda6b869e8"
      },
      "execution_count": null,
      "outputs": [
        {
          "output_type": "stream",
          "name": "stdout",
          "text": [
            "Random Forest Training Accuracy: 0.76\n",
            "Random Forest Test Accuracy: 0.72\n"
          ]
        }
      ]
    },
    {
      "cell_type": "code",
      "source": [
        "import pandas as pd\n",
        "feature_importances = pd.Series(rf.feature_importances_, index=X_train_res.columns)\n",
        "print(feature_importances.sort_values(ascending=False))\n"
      ],
      "metadata": {
        "id": "ISo9y30qQnaF"
      },
      "execution_count": null,
      "outputs": []
    },
    {
      "cell_type": "markdown",
      "source": [
        "**PARAMETER TUNING**"
      ],
      "metadata": {
        "id": "eu27jXHmmvkY"
      }
    },
    {
      "cell_type": "code",
      "source": [
        "from sklearn.model_selection import RandomizedSearchCV\n",
        "from scipy.stats import randint\n",
        "\n",
        "param_dist = {\n",
        "    'n_estimators': randint(50, 150),\n",
        "    'max_depth': [5, 10, 15, None],\n",
        "    'min_samples_split': randint(2, 20),\n",
        "    'min_samples_leaf': randint(1, 10),\n",
        "    'max_features': ['sqrt', 'log2', None]\n",
        "}\n",
        "\n",
        "rf = RandomForestClassifier(random_state=42)\n",
        "\n",
        "random_search_rf = RandomizedSearchCV(\n",
        "    rf, param_distributions=param_dist, n_iter=10, cv=2, scoring='accuracy', n_jobs=-1, verbose=1, random_state=42\n",
        ")\n",
        "random_search_rf.fit(X_train_res, y_train_res)\n",
        "\n",
        "print(\"Best Hyperparameters:\", random_search_rf.best_params_)\n"
      ],
      "metadata": {
        "colab": {
          "base_uri": "https://localhost:8080/"
        },
        "id": "-FMX2-qHQpNl",
        "outputId": "aaf6138a-7cc1-4b49-a5bc-61b23a97654c"
      },
      "execution_count": null,
      "outputs": [
        {
          "output_type": "stream",
          "name": "stdout",
          "text": [
            "Fitting 2 folds for each of 10 candidates, totalling 20 fits\n",
            "Best Hyperparameters: {'max_depth': 15, 'max_features': 'sqrt', 'min_samples_leaf': 9, 'min_samples_split': 8, 'n_estimators': 67}\n"
          ]
        }
      ]
    },
    {
      "cell_type": "code",
      "source": [
        "from sklearn.ensemble import RandomForestClassifier\n",
        "from sklearn.metrics import accuracy_score, classification_report\n",
        "\n",
        "# Use the best hyperparameters\n",
        "best_rf = RandomForestClassifier(\n",
        "    max_depth=15,\n",
        "    max_features='sqrt',\n",
        "    min_samples_leaf=9,\n",
        "    min_samples_split=8,\n",
        "    n_estimators=67,\n",
        "    random_state=42\n",
        ")\n",
        "\n",
        "# Train the model\n",
        "best_rf.fit(X_train_res, y_train_res)\n",
        "\n",
        "# Make predictions\n",
        "y_pred_rf = best_rf.predict(X_test)\n",
        "\n",
        "# Evaluate the model\n",
        "train_accuracy = best_rf.score(X_train_res, y_train_res)\n",
        "test_accuracy = best_rf.score(X_test, y_test)\n",
        "\n",
        "print(f\"Optimized Random Forest Training Accuracy: {train_accuracy:.2f}\")\n",
        "print(f\"Optimized Random Forest Test Accuracy: {test_accuracy:.2f}\")\n",
        "\n",
        "# Classification report\n",
        "print(\"Classification Report:\\n\", classification_report(y_test, y_pred_rf))\n",
        "\n"
      ],
      "metadata": {
        "colab": {
          "base_uri": "https://localhost:8080/"
        },
        "id": "eNbOAxs4Q01e",
        "outputId": "8156f09e-7ff5-4ea7-c8f1-0878b979a944"
      },
      "execution_count": null,
      "outputs": [
        {
          "output_type": "stream",
          "name": "stdout",
          "text": [
            "Optimized Random Forest Training Accuracy: 0.80\n",
            "Optimized Random Forest Test Accuracy: 0.73\n",
            "Classification Report:\n",
            "               precision    recall  f1-score   support\n",
            "\n",
            "           0       0.76      0.72      0.74      6388\n",
            "           1       0.70      0.73      0.71      5591\n",
            "\n",
            "    accuracy                           0.73     11979\n",
            "   macro avg       0.73      0.73      0.73     11979\n",
            "weighted avg       0.73      0.73      0.73     11979\n",
            "\n"
          ]
        }
      ]
    },
    {
      "source": [
        "import pandas as pd\n",
        "import matplotlib.pyplot as plt\n",
        "\n",
        "# Get feature importance\n",
        "feature_importances = pd.Series(best_rf.feature_importances_, index=X_train_res.columns)\n",
        "\n",
        "# Plot top features\n",
        "feature_importances.sort_values(ascending=False).head(15).plot(kind='bar', figsize=(10,5), title=\"Top 15 Features\")\n",
        "plt.show()\n",
        "\n",
        "# Optionally, drop low-importance features (set a threshold, e.g., < 0.005)\n",
        "low_importance_features = feature_importances[feature_importances < 0.005].index\n",
        "\n",
        "# Convert numerical indices to column names if needed\n",
        "low_importance_features = X_train_res.columns[low_importance_features]\n",
        "\n",
        "X_train_res_selected = X_train_res.drop(columns=low_importance_features)\n",
        "X_test_selected = X_test.drop(columns=low_importance_features, errors='ignore') # Handle potential KeyError"
      ],
      "cell_type": "code",
      "metadata": {
        "colab": {
          "base_uri": "https://localhost:8080/",
          "height": 471
        },
        "id": "FKxu-s3xUGkV",
        "outputId": "d4a69800-f117-4c04-b29c-be75bb40e05a"
      },
      "execution_count": null,
      "outputs": [
        {
          "output_type": "display_data",
          "data": {
            "text/plain": [
              "<Figure size 1000x500 with 1 Axes>"
            ],
            "image/png": "[encoded data removed]"
          },
          "metadata": {}
        }
      ]
    },
    {
      "cell_type": "markdown",
      "source": [
        "# XGBOOST CLASSIFIER"
      ],
      "metadata": {
        "id": "NVSx2Dltm2QF"
      }
    },
    {
      "source": [
        "from xgboost import XGBClassifier\n",
        "# Assuming X_train is the original training data before any scaling or feature selection\n",
        "selected_features = X_train_res_selected.columns  # Get the selected feature names (e.g., '0', '1', '2',...)\n",
        "\n",
        "# Select the same features from X_test, but using numerical indices\n",
        "X_test_selected = X_test.iloc[:, selected_features]\n",
        "\n",
        "# Re-index X_test_selected to match the column names of X_train_res_selected if needed\n",
        "X_test_selected.columns = X_train_res_selected.columns\n",
        "\n",
        "# Train and evaluate XGBoost\n",
        "xgb = XGBClassifier(n_estimators=100, max_depth=10, learning_rate=0.05, random_state=42)\n",
        "xgb.fit(X_train_res_selected, y_train_res)\n",
        "\n",
        "train_acc_xgb = xgb.score(X_train_res_selected, y_train_res)\n",
        "test_acc_xgb = xgb.score(X_test_selected, y_test)  # Now X_test_selected has the correct features"
      ],
      "cell_type": "code",
      "metadata": {
        "id": "ikaj9XoNWekn"
      },
      "execution_count": null,
      "outputs": []
    },
    {
      "cell_type": "code",
      "source": [
        "from xgboost import XGBClassifier\n",
        "\n",
        "xgb = XGBClassifier(n_estimators=100, max_depth=10, learning_rate=0.05, random_state=42)\n",
        "xgb.fit(X_train_res_selected, y_train_res)\n",
        "\n",
        "# Evaluate XGBoost\n",
        "train_acc_xgb = xgb.score(X_train_res_selected, y_train_res)\n",
        "test_acc_xgb = xgb.score(X_test_selected, y_test)\n",
        "\n",
        "print(f\"XGBoost Training Accuracy: {train_acc_xgb:.2f}\")\n",
        "print(f\"XGBoost Test Accuracy: {test_acc_xgb:.2f}\")\n"
      ],
      "metadata": {
        "colab": {
          "base_uri": "https://localhost:8080/"
        },
        "id": "OK-Vv0cqWj74",
        "outputId": "ab7de4fc-2e92-4e94-b3ee-718672f0e24a"
      },
      "execution_count": null,
      "outputs": [
        {
          "output_type": "stream",
          "name": "stdout",
          "text": [
            "XGBoost Training Accuracy: 0.82\n",
            "XGBoost Test Accuracy: 0.73\n"
          ]
        }
      ]
    },
    {
      "cell_type": "markdown",
      "source": [
        "**PARAMETER TUNING**"
      ],
      "metadata": {
        "id": "lrof8B6Om7l8"
      }
    },
    {
      "cell_type": "code",
      "source": [
        "from xgboost import XGBClassifier\n",
        "from sklearn.model_selection import RandomizedSearchCV\n",
        "from scipy.stats import uniform, randint\n",
        "\n",
        "# Define hyperparameter search space\n",
        "param_dist = {\n",
        "\n",
        "    'n_estimators': randint(50, 140),\n",
        "    'max_depth': randint(3, 15),\n",
        "    'learning_rate': uniform(0.01, 0.2),\n",
        "    'subsample': uniform(0.5, 0.5),\n",
        "    'colsample_bytree': uniform(0.5, 0.5),\n",
        "    'gamma': uniform(0, 0.5),\n",
        "    'reg_alpha': uniform(0, 1),\n",
        "    'reg_lambda': uniform(0, 1)\n",
        "}\n",
        "\n",
        "xgb = XGBClassifier(random_state=42, use_label_encoder=False, eval_metric='logloss')\n",
        "\n",
        "# Perform Randomized Search\n",
        "random_search_xgb = RandomizedSearchCV(\n",
        "    xgb, param_distributions=param_dist, n_iter=15, cv=3, scoring='accuracy', n_jobs=-1, random_state=42, verbose=1\n",
        ")\n",
        "\n",
        "random_search_xgb.fit(X_train_res_selected, y_train_res)\n",
        "\n",
        "# Get best parameters\n",
        "best_params_xgb = random_search_xgb.best_params_\n",
        "print(\"Best XGBoost Hyperparameters:\", best_params_xgb)\n",
        "\n",
        "# Train with best parameters\n",
        "best_xgb = XGBClassifier(**best_params_xgb, random_state=42, use_label_encoder=False, eval_metric='logloss')\n",
        "best_xgb.fit(X_train_res_selected, y_train_res)\n",
        "\n",
        "# Evaluate\n",
        "train_acc_best_xgb = best_xgb.score(X_train_res_selected, y_train_res)\n",
        "test_acc_best_xgb = best_xgb.score(X_test_selected, y_test)\n",
        "\n",
        "print(f\"Optimized XGBoost Training Accuracy: {train_acc_best_xgb:.5f}\")\n",
        "print(f\"Optimized XGBoost Test Accuracy: {test_acc_best_xgb:.5f}\")\n"
      ],
      "metadata": {
        "colab": {
          "base_uri": "https://localhost:8080/"
        },
        "id": "Qe4cn9t_XDkA",
        "outputId": "53cb7757-7af9-426f-c684-0a1afb9c11bb"
      },
      "execution_count": null,
      "outputs": [
        {
          "output_type": "stream",
          "name": "stdout",
          "text": [
            "Fitting 3 folds for each of 15 candidates, totalling 45 fits\n"
          ]
        },
        {
          "output_type": "stream",
          "name": "stderr",
          "text": [
            "/usr/local/lib/python3.11/dist-packages/xgboost/core.py:158: UserWarning: [02:01:58] WARNING: /workspace/src/learner.cc:740: \n",
            "Parameters: { \"use_label_encoder\" } are not used.\n",
            "\n",
            "  warnings.warn(smsg, UserWarning)\n"
          ]
        },
        {
          "output_type": "stream",
          "name": "stdout",
          "text": [
            "Best XGBoost Hyperparameters: {'colsample_bytree': 0.6521211214797689, 'gamma': 0.2623782158161189, 'learning_rate': 0.09638900372842316, 'max_depth': 3, 'n_estimators': 108, 'reg_alpha': 0.3998609717152555, 'reg_lambda': 0.04666566321361543, 'subsample': 0.9868777594207296}\n"
          ]
        },
        {
          "output_type": "stream",
          "name": "stderr",
          "text": [
            "/usr/local/lib/python3.11/dist-packages/xgboost/core.py:158: UserWarning: [02:01:58] WARNING: /workspace/src/learner.cc:740: \n",
            "Parameters: { \"use_label_encoder\" } are not used.\n",
            "\n",
            "  warnings.warn(smsg, UserWarning)\n"
          ]
        },
        {
          "output_type": "stream",
          "name": "stdout",
          "text": [
            "Optimized XGBoost Training Accuracy: 0.73500\n",
            "Optimized XGBoost Test Accuracy: 0.73211\n"
          ]
        }
      ]
    },
    {
      "cell_type": "code",
      "source": [
        "\n",
        "# Predict on the test set and compute the accuracy score\n",
        "y_pred_test = best_xgb.predict(X_test_selected)\n",
        "test_accuracy = accuracy_score(y_test, y_pred_test)\n",
        "print(f\"Test Accuracy (from accuracy_score): {test_accuracy:.5f}\")"
      ],
      "metadata": {
        "colab": {
          "base_uri": "https://localhost:8080/"
        },
        "id": "92GbdXEqfo-I",
        "outputId": "317e85c0-e16e-49d1-c6f3-33c1d062965a"
      },
      "execution_count": null,
      "outputs": [
        {
          "output_type": "stream",
          "name": "stdout",
          "text": [
            "Test Accuracy (from accuracy_score): 0.73211\n"
          ]
        }
      ]
    },
    {
      "cell_type": "code",
      "source": [
        "# Get the classification report\n",
        "class_report = classification_report(y_test, y_pred_test)\n",
        "print(\"Classification Report:\\n\", class_report)\n",
        "\n",
        "# Evaluate the model on training and testing data\n",
        "train_acc_best_xgb = best_xgb.score(X_train_res_selected, y_train_res)\n",
        "test_acc_best_xgb = best_xgb.score(X_test_selected, y_test)\n",
        "\n",
        "print(f\"Optimized XGBoost Training Accuracy: {train_acc_best_xgb:.5f}\")\n",
        "print(f\"Optimized XGBoost Test Accuracy: {test_acc_best_xgb:.5f}\")"
      ],
      "metadata": {
        "colab": {
          "base_uri": "https://localhost:8080/"
        },
        "id": "2NUB3xmvgOHR",
        "outputId": "9a4cd6b4-843c-4741-d37b-1b5f9ad71634"
      },
      "execution_count": null,
      "outputs": [
        {
          "output_type": "stream",
          "name": "stdout",
          "text": [
            "Classification Report:\n",
            "               precision    recall  f1-score   support\n",
            "\n",
            "           0       0.76      0.72      0.74      6388\n",
            "           1       0.70      0.74      0.72      5591\n",
            "\n",
            "    accuracy                           0.73     11979\n",
            "   macro avg       0.73      0.73      0.73     11979\n",
            "weighted avg       0.73      0.73      0.73     11979\n",
            "\n",
            "Optimized XGBoost Training Accuracy: 0.73500\n",
            "Optimized XGBoost Test Accuracy: 0.73211\n"
          ]
        }
      ]
    },
    {
      "cell_type": "markdown",
      "source": [
        "**CROSS VALIDATION**"
      ],
      "metadata": {
        "id": "80R17ZrOnDSi"
      }
    },
    {
      "cell_type": "code",
      "source": [
        "# Get the cross-validation scores\n",
        "cv_results = random_search_xgb.cv_results_\n",
        "\n",
        "# Print cross-validation scores for each hyperparameter combination\n",
        "print(f\"Cross-validation scores: {cv_results['mean_test_score']}\")\n",
        "NNprint(f\"Mean cross-validation score: {cv_results['mean_test_score'].mean():.5f}\")"
      ],
      "metadata": {
        "colab": {
          "base_uri": "https://localhost:8080/"
        },
        "id": "SJyqMMnicM5-",
        "outputId": "e7edf3b7-722c-47dd-f140-56be43111b74"
      },
      "execution_count": null,
      "outputs": [
        {
          "output_type": "stream",
          "name": "stdout",
          "text": [
            "Cross-validation scores: [0.71728029 0.72418213 0.72681235 0.713681   0.72327245 0.71160453\n",
            " 0.71520377 0.71255376 0.70687801 0.70976534 0.71985113 0.72275819\n",
            " 0.71326571 0.72619928 0.72172991]\n",
            "Mean cross-validation score: 0.71767\n"
          ]
        }
      ]
    },
    {
      "cell_type": "markdown",
      "source": [
        "# KNN"
      ],
      "metadata": {
        "id": "NlV8wqBkLMhX"
      }
    },
    {
      "cell_type": "code",
      "execution_count": null,
      "metadata": {
        "colab": {
          "base_uri": "https://localhost:8080/"
        },
        "id": "ttEUn4UH5pCf",
        "outputId": "7714f588-e1cb-4e35-e0c1-9adc05d7d2d1"
      },
      "outputs": [
        {
          "output_type": "stream",
          "name": "stdout",
          "text": [
            "KNN Accuracy: 0.66\n",
            "              precision    recall  f1-score   support\n",
            "\n",
            "           0       0.69      0.66      0.68      6388\n",
            "           1       0.63      0.66      0.64      5591\n",
            "\n",
            "    accuracy                           0.66     11979\n",
            "   macro avg       0.66      0.66      0.66     11979\n",
            "weighted avg       0.66      0.66      0.66     11979\n",
            "\n"
          ]
        }
      ],
      "source": [
        "# Train\n",
        "knn = KNeighborsClassifier()\n",
        "knn.fit(X_train_res, y_train_res)\n",
        "\n",
        "# Predict\n",
        "y_pred_knn = knn.predict(X_test)\n",
        "\n",
        "# Evaluate\n",
        "acc_knn = accuracy_score(y_test, y_pred_knn)\n",
        "print(f\"KNN Accuracy: {acc_knn:.2f}\")\n",
        "print(classification_report(y_test, y_pred_knn))"
      ]
    },
    {
      "cell_type": "code",
      "execution_count": null,
      "metadata": {
        "colab": {
          "base_uri": "https://localhost:8080/"
        },
        "id": "2Bixo8gi5tT2",
        "outputId": "4a9ec844-0953-4ea2-bc51-21ade1780d11"
      },
      "outputs": [
        {
          "output_type": "stream",
          "name": "stdout",
          "text": [
            "Training Accuracy: 0.78\n",
            "Test Accuracy: 0.66\n"
          ]
        }
      ],
      "source": [
        "train_accuracy = knn.score(X_train_res, y_train_res)\n",
        "test_accuracy = knn.score(X_test, y_test)\n",
        "\n",
        "print(f\"Training Accuracy: {train_accuracy:.2f}\")\n",
        "print(f\"Test Accuracy: {test_accuracy:.2f}\")"
      ]
    },
    {
      "cell_type": "markdown",
      "source": [
        "# NAVEBAYES"
      ],
      "metadata": {
        "id": "-lAj5k7ILQbc"
      }
    },
    {
      "cell_type": "code",
      "execution_count": null,
      "metadata": {
        "colab": {
          "base_uri": "https://localhost:8080/"
        },
        "id": "d8n6l33t5xgP",
        "outputId": "baf65f3e-f08e-4392-8bd9-28e19faa4d54"
      },
      "outputs": [
        {
          "output_type": "stream",
          "name": "stdout",
          "text": [
            "Naive Bayes Accuracy: 0.71\n",
            "              precision    recall  f1-score   support\n",
            "\n",
            "           0       0.73      0.72      0.72      6388\n",
            "           1       0.68      0.69      0.69      5591\n",
            "\n",
            "    accuracy                           0.71     11979\n",
            "   macro avg       0.70      0.70      0.70     11979\n",
            "weighted avg       0.71      0.71      0.71     11979\n",
            "\n"
          ]
        }
      ],
      "source": [
        "# Train\n",
        "nb = GaussianNB()\n",
        "nb.fit(X_train_res, y_train_res)\n",
        "\n",
        "# Predict\n",
        "y_pred_nb = nb.predict(X_test)\n",
        "\n",
        "# Evaluate\n",
        "acc_nb = accuracy_score(y_test, y_pred_nb)\n",
        "print(f\"Naive Bayes Accuracy: {acc_nb:.2f}\")\n",
        "print(classification_report(y_test, y_pred_nb))"
      ]
    },
    {
      "cell_type": "markdown",
      "source": [
        "# LOGISTIC REGRESSION"
      ],
      "metadata": {
        "id": "1Xr3tPzcnVCY"
      }
    },
    {
      "cell_type": "code",
      "execution_count": null,
      "metadata": {
        "colab": {
          "base_uri": "https://localhost:8080/"
        },
        "id": "_FX-zbAp5xc0",
        "outputId": "167901fe-442d-473e-e60a-81b1f866be13"
      },
      "outputs": [
        {
          "output_type": "stream",
          "name": "stdout",
          "text": [
            "Training Accuracy: 0.69\n",
            "Test Accuracy: 0.69\n"
          ]
        }
      ],
      "source": [
        "train_accuracy = log_reg.score(X_train_res, y_train_res)\n",
        "test_accuracy = log_reg.score(X_test, y_test)\n",
        "\n",
        "print(f\"Training Accuracy: {train_accuracy:.2f}\")\n",
        "print(f\"Test Accuracy: {test_accuracy:.2f}\")"
      ]
    },
    {
      "cell_type": "markdown",
      "source": [
        "# SVC"
      ],
      "metadata": {
        "id": "hkJtK2QzLT1u"
      }
    },
    {
      "cell_type": "code",
      "execution_count": null,
      "metadata": {
        "colab": {
          "base_uri": "https://localhost:8080/"
        },
        "id": "afpz3yiF5xap",
        "outputId": "67d54c84-d35c-4e70-c19f-db024a575052"
      },
      "outputs": [
        {
          "output_type": "stream",
          "name": "stdout",
          "text": [
            "SVM Accuracy: 0.71\n",
            "              precision    recall  f1-score   support\n",
            "\n",
            "           0       0.75      0.68      0.71      6388\n",
            "           1       0.67      0.74      0.70      5591\n",
            "\n",
            "    accuracy                           0.71     11979\n",
            "   macro avg       0.71      0.71      0.71     11979\n",
            "weighted avg       0.71      0.71      0.71     11979\n",
            "\n"
          ]
        }
      ],
      "source": [
        "# Train\n",
        "svm = SVC()\n",
        "svm.fit(X_train_res, y_train_res)\n",
        "\n",
        "\n",
        "y_pred_svm = svm.predict(X_test)\n",
        "\n",
        "\n",
        "acc_svm = accuracy_score(y_test, y_pred_svm)\n",
        "print(f\"SVM Accuracy: {acc_svm:.2f}\")\n",
        "print(classification_report(y_test, y_pred_svm))"
      ]
    },
    {
      "cell_type": "code",
      "execution_count": null,
      "metadata": {
        "colab": {
          "base_uri": "https://localhost:8080/"
        },
        "id": "qqlUE9UM5xZR",
        "outputId": "c6546d1c-1964-4111-a1f9-fe19599b0283"
      },
      "outputs": [
        {
          "output_type": "stream",
          "name": "stdout",
          "text": [
            "Training Accuracy: 0.74\n",
            "Test Accuracy: 0.71\n"
          ]
        }
      ],
      "source": [
        "train_accuracy = svm.score(X_train_res, y_train_res)\n",
        "test_accuracy = svm.score(X_test, y_test)\n",
        "\n",
        "print(f\"Training Accuracy: {train_accuracy:.2f}\")\n",
        "print(f\"Test Accuracy: {test_accuracy:.2f}\")"
      ]
    },
    {
      "cell_type": "markdown",
      "source": [
        "# GRADIENT BOOSTING"
      ],
      "metadata": {
        "id": "JX0Wqz-9LkyW"
      }
    },
    {
      "cell_type": "code",
      "execution_count": null,
      "metadata": {
        "colab": {
          "base_uri": "https://localhost:8080/"
        },
        "id": "trzPc3HN83v7",
        "outputId": "de36063d-fce9-4ca7-d007-a441f44575ad"
      },
      "outputs": [
        {
          "output_type": "stream",
          "name": "stdout",
          "text": [
            "Gradient Boosting Accuracy: 0.73\n",
            "              precision    recall  f1-score   support\n",
            "\n",
            "           0       0.76      0.73      0.74      6388\n",
            "           1       0.70      0.74      0.72      5591\n",
            "\n",
            "    accuracy                           0.73     11979\n",
            "   macro avg       0.73      0.73      0.73     11979\n",
            "weighted avg       0.73      0.73      0.73     11979\n",
            "\n"
          ]
        }
      ],
      "source": [
        "from sklearn.ensemble import GradientBoostingClassifier\n",
        "\n",
        "\n",
        "gb = GradientBoostingClassifier()\n",
        "gb.fit(X_train_res, y_train_res)\n",
        "\n",
        "y_pred_gb = gb.predict(X_test)\n",
        "\n",
        "\n",
        "acc_gb = accuracy_score(y_test, y_pred_gb)\n",
        "print(f\"Gradient Boosting Accuracy: {acc_gb:.2f}\")\n",
        "print(classification_report(y_test, y_pred_gb))\n"
      ]
    },
    {
      "cell_type": "code",
      "execution_count": null,
      "metadata": {
        "colab": {
          "base_uri": "https://localhost:8080/"
        },
        "id": "jxS049ma85QM",
        "outputId": "4f46ef55-3bb0-45ca-eba6-6b74dcc3b991"
      },
      "outputs": [
        {
          "output_type": "stream",
          "name": "stdout",
          "text": [
            "Training Accuracy: 0.74\n",
            "Test Accuracy: 0.73\n"
          ]
        }
      ],
      "source": [
        "train_accuracy = gb.score(X_train_res, y_train_res)\n",
        "test_accuracy = gb.score(X_test, y_test)\n",
        "\n",
        "print(f\"Training Accuracy: {train_accuracy:.2f}\")\n",
        "print(f\"Test Accuracy: {test_accuracy:.2f}\")"
      ]
    },
    {
      "cell_type": "markdown",
      "source": [
        "**PARAMETER TUNING**"
      ],
      "metadata": {
        "id": "W7nf8BB3ntXi"
      }
    },
    {
      "source": [
        "from sklearn.model_selection import RandomizedSearchCV\n",
        "import numpy as np\n",
        "from sklearn.ensemble import GradientBoostingClassifier # Import GradientBoostingClassifier\n",
        "\n",
        "# Define random search space\n",
        "param_dist = {\n",
        "    'n_estimators': np.arange(50, 300, 50),\n",
        "    'learning_rate': [0.01, 0.05, 0.1, 0.2],\n",
        "    'max_depth': np.arange(3, 10, 2),\n",
        "    'min_samples_split': np.arange(2, 20, 5),\n",
        "    'subsample': [0.6, 0.8, 1.0]\n",
        "}\n",
        "\n",
        "# Initialize Randomized Search\n",
        "random_search = RandomizedSearchCV(GradientBoostingClassifier(), param_dist,\n",
        "                                   n_iter=5, cv=2, scoring='accuracy', n_jobs=-1, random_state=42)\n",
        "\n",
        "# Fit the model\n",
        "random_search.fit(X_train_res, y_train_res)\n",
        "\n",
        "# Best parameters\n",
        "print(\"Best Parameters:\", random_search.best_params_)\n",
        "\n",
        "# Evaluate best model\n",
        "best_gb_random = random_search.best_estimator_\n",
        "y_pred_best_random = best_gb_random.predict(X_test)\n",
        "print(f\"Tuned Gradient Boosting Accuracy (Random Search): {accuracy_score(y_test, y_pred_best_random):.2f}\")"
      ],
      "cell_type": "code",
      "metadata": {
        "colab": {
          "base_uri": "https://localhost:8080/"
        },
        "id": "B6IP67aIoe6N",
        "outputId": "771727c9-ea42-4f65-828c-78fafd5eebef"
      },
      "execution_count": null,
      "outputs": [
        {
          "output_type": "stream",
          "name": "stdout",
          "text": [
            "Best Parameters: {'subsample': 0.6, 'n_estimators': 250, 'min_samples_split': 12, 'max_depth': 5, 'learning_rate': 0.01}\n",
            "Tuned Gradient Boosting Accuracy (Random Search): 0.72\n"
          ]
        }
      ]
    },
    {
      "cell_type": "code",
      "execution_count": null,
      "metadata": {
        "colab": {
          "base_uri": "https://localhost:8080/"
        },
        "id": "fzp0t4oV9ybR",
        "outputId": "f8dc5c24-b999-413f-9753-e4413666d5ad"
      },
      "outputs": [
        {
          "output_type": "stream",
          "name": "stdout",
          "text": [
            "Final Tuned Gradient Boosting Accuracy: 0.73\n",
            "              precision    recall  f1-score   support\n",
            "\n",
            "           0       0.76      0.73      0.74      6388\n",
            "           1       0.70      0.73      0.72      5591\n",
            "\n",
            "    accuracy                           0.73     11979\n",
            "   macro avg       0.73      0.73      0.73     11979\n",
            "weighted avg       0.73      0.73      0.73     11979\n",
            "\n"
          ]
        }
      ],
      "source": [
        "# Train Final Model with Best Parameters\n",
        "best_gb = GradientBoostingClassifier(\n",
        "    subsample=0.6,\n",
        "    n_estimators=150,\n",
        "    min_samples_split=7,\n",
        "    max_depth=3,\n",
        "    learning_rate=0.05,\n",
        "    random_state=42\n",
        ")\n",
        "\n",
        "best_gb.fit(X_train_res, y_train_res)\n",
        "\n",
        "# Predict on Test Data\n",
        "y_pred_best = best_gb.predict(X_test)\n",
        "\n",
        "# Evaluate Final Model\n",
        "from sklearn.metrics import accuracy_score, classification_report\n",
        "\n",
        "final_acc = accuracy_score(y_test, y_pred_best)\n",
        "print(f\"Final Tuned Gradient Boosting Accuracy: {final_acc:.2f}\")\n",
        "print(classification_report(y_test, y_pred_best))\n"
      ]
    },
    {
      "cell_type": "code",
      "execution_count": null,
      "metadata": {
        "colab": {
          "base_uri": "https://localhost:8080/"
        },
        "id": "YpZWd-oW9yYn",
        "outputId": "a6e8e8c5-740e-45ba-8e88-efe53f1feb85"
      },
      "outputs": [
        {
          "output_type": "stream",
          "name": "stdout",
          "text": [
            "Training Accuracy: 0.73417\n",
            "Test Accuracy: 0.73211\n"
          ]
        }
      ],
      "source": [
        "# Training Score\n",
        "train_score = best_gb.score(X_train_res, y_train_res)\n",
        "\n",
        "# Testing Score\n",
        "test_score = best_gb.score(X_test, y_test)\n",
        "\n",
        "print(f\"Training Accuracy: {train_score:.5f}\")\n",
        "print(f\"Test Accuracy: {test_score:.5f}\")\n",
        "\n"
      ]
    },
    {
      "cell_type": "markdown",
      "source": [
        "# GRADIENT BOOSTING"
      ],
      "metadata": {
        "id": "L_WUbq1BnyGY"
      }
    },
    {
      "cell_type": "code",
      "execution_count": null,
      "metadata": {
        "colab": {
          "base_uri": "https://localhost:8080/",
          "height": 556
        },
        "id": "1zAN4IqKHbj2",
        "outputId": "73654744-8a7d-46ab-be9a-8df3f3ad8682"
      },
      "outputs": [
        {
          "output_type": "display_data",
          "data": {
            "text/plain": [
              "<Figure size 1000x600 with 1 Axes>"
            ],
            "image/png": "[encoded data removed]"
          },
          "metadata": {}
        }
      ],
      "source": [
        "import matplotlib.pyplot as plt\n",
        "import numpy as np\n",
        "from sklearn.ensemble import GradientBoostingClassifier\n",
        "\n",
        "# Train Gradient Boosting model\n",
        "gb = GradientBoostingClassifier(n_estimators=150, max_depth=3, learning_rate=0.05, subsample=0.6, random_state=42)\n",
        "gb.fit(X_train_res, y_train_res)\n",
        "\n",
        "# Get feature importance\n",
        "feature_importance = gb.feature_importances_\n",
        "\n",
        "# Sort importance\n",
        "sorted_idx = np.argsort(feature_importance)[::-1]\n",
        "\n",
        "# Plot Feature Importance\n",
        "plt.figure(figsize=(10,6))\n",
        "plt.bar(range(len(feature_importance)), feature_importance[sorted_idx])\n",
        "# Access the column names from the original DataFrame 'X' before scaling\n",
        "plt.xticks(range(len(feature_importance)), np.array(X.columns)[sorted_idx], rotation=90)\n",
        "plt.xlabel(\"Feature\")\n",
        "plt.ylabel(\"Importance\")\n",
        "plt.title(\"Feature Importance in Gradient Boosting\")\n",
        "plt.show()"
      ]
    },
    {
      "cell_type": "code",
      "source": [
        "# Selecting only the important features (example)\n",
        "selected_features = ['Job Level', 'Marital Status','Work-Life Balance', 'Number of Promotions', 'Distance from Home']\n",
        "\n",
        "X_train_selected = X_train.loc[:,selected_features]\n",
        "# Convert X_test back to DataFrame if needed\n",
        "X_test_selected = pd.DataFrame(X_test, columns=X_train.columns).loc[:, selected_features]\n",
        "\n",
        "# Train model again\n",
        "gb = GradientBoostingClassifier(n_estimators=100, learning_rate=0.05, max_depth=3, subsample=0.6, random_state=42)\n",
        "gb.fit(X_train_selected, y_train)\n",
        "\n",
        "# Check new accuracy\n",
        "train_acc = gb.score(X_train_selected, y_train)\n",
        "test_acc = gb.score(X_test_selected, y_test)\n",
        "\n",
        "print(f\"Training Accuracy (After Feature Selection): {train_acc:.2f}\")\n",
        "print(f\"Test Accuracy (After Feature Selection): {test_acc:.2f}\")"
      ],
      "metadata": {
        "colab": {
          "base_uri": "https://localhost:8080/"
        },
        "id": "PaMoYcn2rtRe",
        "outputId": "75efdc0f-e2c9-4dc6-c90b-0cb165834fa9"
      },
      "execution_count": null,
      "outputs": [
        {
          "output_type": "stream",
          "name": "stdout",
          "text": [
            "Training Accuracy (After Feature Selection): 0.72\n",
            "Test Accuracy (After Feature Selection): 0.51\n"
          ]
        }
      ]
    },
    {
      "cell_type": "markdown",
      "source": [
        "# ADABOOST"
      ],
      "metadata": {
        "id": "NjmoivwvL0E6"
      }
    },
    {
      "cell_type": "code",
      "execution_count": null,
      "metadata": {
        "colab": {
          "base_uri": "https://localhost:8080/"
        },
        "id": "FxUkpfKaUGiX",
        "outputId": "b51ad8d4-b166-4098-8a43-383637cd2081"
      },
      "outputs": [
        {
          "output_type": "stream",
          "name": "stdout",
          "text": [
            "AdaBoost Training Accuracy: 0.69\n",
            "AdaBoost Test Accuracy: 0.64\n"
          ]
        }
      ],
      "source": [
        "from sklearn.ensemble import AdaBoostClassifier\n",
        "from sklearn.tree import DecisionTreeClassifier\n",
        "from sklearn.metrics import accuracy_score, classification_report\n",
        "\n",
        "# Initialize AdaBoost with a Decision Tree as the base estimator\n",
        "adaboost = AdaBoostClassifier(\n",
        "    estimator=DecisionTreeClassifier(max_depth=1),  # Weak learner\n",
        "    n_estimators=150,  # Number of boosting rounds\n",
        "    learning_rate=0.05,  # Shrinking factor\n",
        "    random_state=42\n",
        ")\n",
        "\n",
        "# Train the model\n",
        "adaboost.fit(X_train_selected, y_train)\n",
        "\n",
        "# Predict on training and testing sets\n",
        "y_train_pred_ada = adaboost.predict(X_train_selected)\n",
        "y_test_pred_ada = adaboost.predict(X_test_selected)\n",
        "\n",
        "# Compute accuracy\n",
        "train_acc_ada = accuracy_score(y_train, y_train_pred_ada)\n",
        "test_acc_ada = accuracy_score(y_test, y_test_pred_ada)\n",
        "\n",
        "print(f\"AdaBoost Training Accuracy: {train_acc_ada:.2f}\")\n",
        "print(f\"AdaBoost Test Accuracy: {test_acc_ada:.2f}\")\n",
        "\n",
        "\n"
      ]
    },
    {
      "cell_type": "markdown",
      "source": [
        "# **STREAMLIT**"
      ],
      "metadata": {
        "id": "ZKnQZG1tL4hj"
      }
    },
    {
      "cell_type": "code",
      "source": [
        "import pickle"
      ],
      "metadata": {
        "id": "GGzlp2gnmonu"
      },
      "execution_count": null,
      "outputs": []
    },
    {
      "cell_type": "code",
      "source": [
        "# import pickle\n",
        "\n",
        "# pickle.dump(best_xgb,open('xgb_model.sav', 'wb'))\n"
      ],
      "metadata": {
        "id": "ftLEm4w6oV3I"
      },
      "execution_count": null,
      "outputs": []
    },
    {
      "cell_type": "code",
      "source": [
        "import pickle\n",
        "with open(\"optimized_random_forest.pkl\", \"wb\") as file:\n",
        "    pickle.dump(best_rf, file)\n"
      ],
      "metadata": {
        "id": "ksIy2wRyNL4d"
      },
      "execution_count": null,
      "outputs": []
    },
    {
      "cell_type": "code",
      "source": [
        "pickle.dump(le1,open('le1.sav', 'wb'))"
      ],
      "metadata": {
        "id": "9Jbz8cf3oyic"
      },
      "execution_count": null,
      "outputs": []
    },
    {
      "cell_type": "code",
      "source": [
        "pickle.dump(le2,open('le2.sav', 'wb'))"
      ],
      "metadata": {
        "id": "bYW8vrafo9dy"
      },
      "execution_count": null,
      "outputs": []
    },
    {
      "cell_type": "code",
      "source": [
        "pickle.dump(le3,open('le3.sav', 'wb'))"
      ],
      "metadata": {
        "id": "0HrHZ67eoyf0"
      },
      "execution_count": null,
      "outputs": []
    },
    {
      "cell_type": "code",
      "source": [
        "pickle.dump(le4,open('le4.sav', 'wb'))"
      ],
      "metadata": {
        "id": "QbhRKrCioydx"
      },
      "execution_count": null,
      "outputs": []
    },
    {
      "cell_type": "code",
      "source": [
        "pickle.dump(le5,open('le5.sav', 'wb'))"
      ],
      "metadata": {
        "id": "3V_QvzLWoyb7"
      },
      "execution_count": null,
      "outputs": []
    },
    {
      "cell_type": "code",
      "source": [
        "pickle.dump(le6,open('le6.sav', 'wb'))"
      ],
      "metadata": {
        "id": "ssjfpb9CoyaR"
      },
      "execution_count": null,
      "outputs": []
    },
    {
      "cell_type": "code",
      "source": [
        "pickle.dump(le7,open('le7.sav', 'wb'))"
      ],
      "metadata": {
        "id": "yaxeBjOooyYb"
      },
      "execution_count": null,
      "outputs": []
    },
    {
      "cell_type": "code",
      "source": [
        "pickle.dump(le8,open('le8.sav', 'wb'))"
      ],
      "metadata": {
        "id": "WGtA_Oaep8FH"
      },
      "execution_count": null,
      "outputs": []
    },
    {
      "cell_type": "code",
      "source": [
        "pickle.dump(le9,open('le9.sav', 'wb'))"
      ],
      "metadata": {
        "id": "RGFOdv-6p8DC"
      },
      "execution_count": null,
      "outputs": []
    },
    {
      "cell_type": "code",
      "source": [
        "pickle.dump(le10,open('le10.sav', 'wb'))"
      ],
      "metadata": {
        "id": "qFRqStmxp8AG"
      },
      "execution_count": null,
      "outputs": []
    },
    {
      "cell_type": "code",
      "source": [
        "pickle.dump(le11,open('le11.sav', 'wb'))"
      ],
      "metadata": {
        "id": "DHSVU55Ep79n"
      },
      "execution_count": null,
      "outputs": []
    },
    {
      "cell_type": "code",
      "source": [
        "pickle.dump(scaler,open('scaler.sav', 'wb'))"
      ],
      "metadata": {
        "id": "qKcxdriap77F"
      },
      "execution_count": null,
      "outputs": []
    }
  ],
  "metadata": {
    "colab": {
      "provenance": [],
      "include_colab_link": true
    },
    "kernelspec": {
      "display_name": "Python 3",
      "name": "python3"
    },
    "language_info": {
      "name": "python"
    }
  },
  "nbformat": 4,
  "nbformat_minor": 0
}